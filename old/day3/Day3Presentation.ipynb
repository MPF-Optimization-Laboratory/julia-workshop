{
 "cells": [
  {
   "cell_type": "markdown",
   "id": "38bbd06f",
   "metadata": {
    "editable": true,
    "slideshow": {
     "slide_type": "slide"
    },
    "tags": []
   },
   "source": [
    "# Julia Workshop, Day 3: Packages, Debugging and Writing a Good Program\n",
    "\n",
    "Goals for today:\n",
    "\n",
    "- Use a debugger\n",
    "- Learn how a Julia package is organized and how code is loaded:\n",
    "  - Modules and `include`\n",
    "  - Environments\n",
    "  - Unit tests\n",
    "  - Documentation\n",
    "- Discuss writing a _good_ program\n",
    "- Miscellanous cool Julia stuff\n",
    "  - Some probably useful packages\n",
    "  - Functional-style programming\n",
    "  - Metaprogramming"
   ]
  },
  {
   "cell_type": "markdown",
   "id": "9a133edb",
   "metadata": {
    "editable": true,
    "slideshow": {
     "slide_type": "slide"
    },
    "tags": []
   },
   "source": [
    "## The Debugger\n",
    "\n",
    "- A debugger is a tool to run another program and strategically \"pause\" its execution so that program states can be examined\n",
    "- If you're putting a lot of `println`s in your program to check that things are correct, consider using a debugger instead\n",
    "- `Debugger.jl` is quite good, but unfortunately doesn't yet support `rr`-style \"time-traveling\" execution traces"
   ]
  },
  {
   "cell_type": "code",
   "execution_count": 1,
   "id": "7a27f89e",
   "metadata": {
    "slideshow": {
     "slide_type": "fragment"
    }
   },
   "outputs": [
    {
     "data": {
      "text/plain": [
       "3-element Vector{Float64}:\n",
       "  -3.9483e205\n",
       "  -8.624e242\n",
       " NaN"
      ]
     },
     "execution_count": 1,
     "metadata": {},
     "output_type": "execute_result"
    }
   ],
   "source": [
    "read_data_1() = reinterpret(Float64, UInt64[0x552192cc621cf3da, 0x5ce07573af5e6c0b, 0x7fe9efe466b4b559])\n",
    "read_data_2() = reinterpret(Float64, UInt64[0x556ca9faa3276b68, 0x556f6ea19897afff, 0x7fe72e0b2433a49d])\n",
    "\n",
    "function debugme()\n",
    "    data1 = read_data_1()\n",
    "    data2 = read_data_2()\n",
    "    \n",
    "    @assert !any(isnan.(data1))\n",
    "    @assert !any(isnan.(data2))\n",
    " \n",
    "    (data1 + data2) - (data1 .* data2)\n",
    "end\n",
    "\n",
    "debugme()"
   ]
  },
  {
   "cell_type": "code",
   "execution_count": 2,
   "id": "e4a775ea",
   "metadata": {
    "slideshow": {
     "slide_type": "fragment"
    }
   },
   "outputs": [
    {
     "data": {
      "text/plain": [
       "outer (generic function with 1 method)"
      ]
     },
     "execution_count": 2,
     "metadata": {},
     "output_type": "execute_result"
    }
   ],
   "source": [
    "function inner(l)\n",
    "    acc = 1\n",
    "    for j in 1:l\n",
    "        acc *= l + j\n",
    "    end\n",
    "    acc\n",
    "end\n",
    "\n",
    "function outer(k)\n",
    "    i = 0\n",
    "    for j in 1:k\n",
    "        i += inner(k-j)\n",
    "    end\n",
    "    i\n",
    "end"
   ]
  },
  {
   "cell_type": "markdown",
   "id": "cddbeab3",
   "metadata": {
    "slideshow": {
     "slide_type": "slide"
    }
   },
   "source": [
    "## Code Loading and Modules\n",
    "\n",
    "- So far, we've introduced two methods for loading code:\n",
    "  - `include`\n",
    "  - `using`/ `import`\n",
    "- `include(\"file.jl\")` is similar to `#include \"file.h\"` in the C preprocessor, it's essentially dumping the contents of `file.jl` where the `include` call is"
   ]
  },
  {
   "cell_type": "markdown",
   "id": "f452f7a3",
   "metadata": {
    "slideshow": {
     "slide_type": "fragment"
    }
   },
   "source": [
    "- `using Module` is more similar to `import module` in Python, except there's no magic here\n",
    "  - In e.g. Python or Java, modules are tied to the filesystem\n",
    "  - In Julia, they are declared explicitly\n",
    "  - `using` is also idempotent"
   ]
  },
  {
   "cell_type": "markdown",
   "id": "a5af2085",
   "metadata": {
    "slideshow": {
     "slide_type": "subslide"
    }
   },
   "source": [
    "In `file1.jl`:\n",
    "\n",
    "```julia\n",
    "module MyModule\n",
    "\n",
    "include(\"file2.jl\")\n",
    "\n",
    "end # module MyModule\n",
    "```\n",
    "\n",
    "In `file2.jl`:\n",
    "\n",
    "```julia\n",
    "foo(x) = 2x\n",
    "```"
   ]
  },
  {
   "cell_type": "markdown",
   "id": "198527fb",
   "metadata": {
    "slideshow": {
     "slide_type": "fragment"
    }
   },
   "source": [
    "Note:\n",
    "\n",
    "- `file1` and `file2` are not modules\n",
    "- `MyModule` is the only module here, and it contains everything defined in `file2.jl`\n",
    "  - However, `foo` will not be usable after calling `using MyModule`\n",
    "  - It will after `import MyModule.foo`\n",
    "  - Symbols are private by default"
   ]
  },
  {
   "cell_type": "markdown",
   "id": "2237b954",
   "metadata": {
    "slideshow": {
     "slide_type": "subslide"
    }
   },
   "source": [
    "In `file1.jl`:\n",
    "\n",
    "```julia\n",
    "module MyModule\n",
    "export MySubmodule\n",
    "\n",
    "include(\"file2.jl\")\n",
    "\n",
    "end # module MyModule\n",
    "```\n",
    "\n",
    "In `file2.jl`:\n",
    "\n",
    "```julia\n",
    "module MySubmodule\n",
    "export foo\n",
    "\n",
    "foo(x) = 2x\n",
    "end # module MySubmodule\n",
    "```"
   ]
  },
  {
   "cell_type": "markdown",
   "id": "34bb5fff",
   "metadata": {
    "slideshow": {
     "slide_type": "fragment"
    }
   },
   "source": [
    "Now:\n",
    "\n",
    "- `MyModule` contains a _submodule_ `MySubmodule`\n",
    "- We can use it like so:\n",
    "\n",
    "```julia\n",
    "include(\"file1.jl\")\n",
    "\n",
    "using .MyModule\n",
    "\n",
    "MySubmodule.foo(5)\n",
    "\n",
    "using MySubmodule\n",
    "foo(6)\n",
    "```"
   ]
  },
  {
   "cell_type": "markdown",
   "id": "2919a601",
   "metadata": {
    "slideshow": {
     "slide_type": "subslide"
    }
   },
   "source": [
    "### Why Modules?\n",
    "\n",
    "- Organize logically related code\n",
    "  - Think a few types and functions which all work together to accomplish a goal\n",
    "- Keep _coupling_ low\n",
    "  - A module should be somewhat contained, possibly a self-contained extension to another\n",
    "  - Cross-module dependencies should be kept to _interfaces_, and should avoid relying on internal details of another module\n",
    "- Highly coupled code is often _brittle_ or hard to change\n",
    "- Code with low coupling is frequently better-specified and more robust"
   ]
  },
  {
   "cell_type": "code",
   "execution_count": 3,
   "id": "49fadbbc",
   "metadata": {
    "slideshow": {
     "slide_type": "fragment"
    }
   },
   "outputs": [
    {
     "data": {
      "text/plain": [
       "Main.Foo"
      ]
     },
     "execution_count": 3,
     "metadata": {},
     "output_type": "execute_result"
    }
   ],
   "source": [
    "module Foo\n",
    "\n",
    "import Base: length\n",
    "\n",
    "export AbstractMyData, MyData, foo\n",
    "\n",
    "\"\"\"\n",
    "    abstract type AbstractMyData{T <: Number} end\n",
    "\n",
    "All subtypes of AbstractMyData will provide the following methods:\n",
    "\n",
    "- `length`: the number of datapoints\n",
    "- `process`: process the data\n",
    "\"\"\"\n",
    "abstract type AbstractMyData{T <: Number} end\n",
    "\n",
    "struct MyData{T <: Number} <: AbstractMyData{T}\n",
    "    n::Int\n",
    "    xs::Vector{T}\n",
    "    ys::Vector{T}\n",
    "end\n",
    "\n",
    "process(m::MyData) = (m.xs .^ 2) ./ (2 * m.ys)\n",
    "length(m::MyData)  = m.n\n",
    "\n",
    "end # module Foo"
   ]
  },
  {
   "cell_type": "markdown",
   "id": "66c86715",
   "metadata": {
    "slideshow": {
     "slide_type": "fragment"
    }
   },
   "source": [
    "- The interface here is that subtypes of `AbstractMyData` will provide methods for `process` and `length`\n",
    "- The interface is _not_ that subtypes of `AbstractMyData` will have a field `n`\n",
    "\n",
    "Bad:\n",
    "\n",
    "```julia\n",
    "function myprocess(m::AbstractMyData{T}) where {T}\n",
    "    ...\n",
    "    z = zeros(T, m.n)\n",
    "    ...\n",
    "end\n",
    "```\n",
    "\n",
    "Good:\n",
    "\n",
    "```julia\n",
    "function myprocess(m::AbstractMyData{T}) where {T}\n",
    "    ...\n",
    "    z = zeros(T, length(m))\n",
    "    ...\n",
    "end\n",
    "```"
   ]
  },
  {
   "cell_type": "markdown",
   "id": "846bee4f",
   "metadata": {
    "slideshow": {
     "slide_type": "fragment"
    }
   },
   "source": [
    "- This allows the internals of `Foo` to change:\n",
    "\n",
    "\n",
    "```julia\n",
    "struct MyData{T <: Number} <: AbstractMyData{T}\n",
    "    xs::Vector{T}\n",
    "    ys::Vector{T}\n",
    "end\n",
    "\n",
    "length(m::MyData) = length(m.xs)\n",
    "```"
   ]
  },
  {
   "cell_type": "markdown",
   "id": "b19ece3e",
   "metadata": {
    "slideshow": {
     "slide_type": "slide"
    }
   },
   "source": [
    "## Environments\n",
    "\n",
    "- These should be somewhat familiar if you've used `pipenv` or `cargo`\n",
    "- Idea: rather than having a global list of packages installed on your system, let a project define its own requirements\n",
    "  - Upgrading packages for one project won't break another\n",
    "  - Environments are more reproducible (less \"it works on my machine\")"
   ]
  },
  {
   "cell_type": "markdown",
   "id": "d23d41ab",
   "metadata": {
    "slideshow": {
     "slide_type": "fragment"
    }
   },
   "source": [
    "- Open Julia and run `] generate DemoPackage` (in a convenient folder for projects)\n",
    "  - This creates all the files for a project named `DemoPackage`\n",
    "- Now change directory to `DemoPackage` and run `] activate .`\n",
    "  - This activates the environment we just created above\n",
    "- Add `StaticArrays`\n",
    "- Now if you `ls`, you'll notice a `Project.toml` and a `Manifest.toml`\n",
    "  - `Project.toml` has a section called `[deps]` which has a list of direct dependencies of your project (what you've added with `] add`)\n",
    "  - `Manifest.toml` maintains a list of all packages required (listed recursively)"
   ]
  },
  {
   "cell_type": "markdown",
   "id": "948fd5d7",
   "metadata": {
    "editable": true,
    "slideshow": {
     "slide_type": "fragment"
    },
    "tags": []
   },
   "source": [
    "- If you need specific version of a package, you must manually edit `Project.toml`\n",
    "- Julia version numbers (e.g. \"1.5.3\") should follow [semver](https://semver.org/)\n",
    "  - Incrementing the last (\"patch\") number should only be done for bugfixes and optimizations and should not change any interfaces\n",
    "  - Incrementing the middle (\"minor\") number can only add features and must not change any interfaces\n",
    "  - Incrementing the first (\"major\") number must be done for any _breaking_ changes"
   ]
  },
  {
   "cell_type": "markdown",
   "id": "22de5943",
   "metadata": {
    "editable": true,
    "slideshow": {
     "slide_type": "slide"
    },
    "tags": []
   },
   "source": [
    "## Unit Tests\n",
    "\n",
    "- Unit tests should be a collection of results you expect from your software\n",
    "- This lets you make sure that your code is correct\n",
    "  - Especially helpful when changing code\n",
    "  - \"Did I break anything?\" just run your tests again!\n",
    "- Before writing tests, we need some code to test!"
   ]
  },
  {
   "cell_type": "code",
   "execution_count": 4,
   "id": "3b91368d",
   "metadata": {
    "slideshow": {
     "slide_type": "fragment"
    }
   },
   "outputs": [
    {
     "data": {
      "text/plain": [
       "Main.DemoPackage"
      ]
     },
     "execution_count": 4,
     "metadata": {},
     "output_type": "execute_result"
    }
   ],
   "source": [
    "module DemoPackage\n",
    "\n",
    "import Base: +, -, *, /, one, zero, convert, promote_rule, real\n",
    "\n",
    "export DualNumber, Polynomial, derivative\n",
    "\n",
    "\n",
    "\"\"\"\n",
    "    DualNumber{T <: Real} <: Number\n",
    "\n",
    "Represents a number of the form ``a + bϵ`` where ``a`` and ``b`` are real, and ``ϵ^2 = 0``.\n",
    "\"\"\"\n",
    "struct DualNumber{T <: Real} <: Number\n",
    "    real::T\n",
    "    dual::T\n",
    "end\n",
    "\n",
    "real(a::DualNumber) = a.real\n",
    "dual(a::DualNumber) = a.dual\n",
    "\n",
    "one(::Type{DualNumber{T}}) where {T}  = DualNumber(one(T), zero(T))\n",
    "zero(::Type{DualNumber{T}}) where {T} = DualNumber(zero(T), zero(T))\n",
    "\n",
    "+(a::DualNumber, b::DualNumber) = DualNumber(real(a) + real(b), dual(a) + dual(b))\n",
    "-(a::DualNumber, b::DualNumber) = DualNumber(real(a) - real(b), dual(a) - dual(b))\n",
    "*(a::DualNumber, b::DualNumber) = DualNumber(real(a) * real(b), (real(a) * dual(b)) + (dual(a) * real(b)))\n",
    "/(a::DualNumber, c::DualNumber) = DualNumber(real(a) / real(b), ((dual(a) * real(b)) - (real(a) * dual(b))) / (real(b)^2))\n",
    "\n",
    "convert(::Type{DualNumber{T}}, x::Real) where {T} = DualNumber(convert(T, x), zero(T))\n",
    "convert(::Type{DualNumber{T}}, x::DualNumber{U}) where {T, U} = DualNumber(convert(T, real(x)), convert(T, dual(x)))\n",
    "promote_rule(::Type{DualNumber{T}}, ::Type{U}) where {T, U <: Real} = DualNumber{promote_type(T, U)}\n",
    "\n",
    "\n",
    "\"\"\"\n",
    "    Polynomial{T <: Real}\n",
    "    \n",
    "A polynomial with coefficients of type `T`. Is of the form: ``c + ∑_i x^i \\\\text{\\\\tt coeffs}[i]``\n",
    "\n",
    "Has two fields:\n",
    "- `c::T`, the constant \n",
    "- `coeffs::Vector{T}`, the coefficients for powers of `x`.\n",
    "\n",
    "Polynomials can be evaluated by calling them:\n",
    "\n",
    "```julia\n",
    "# p(x) = 1 + 2x + 3x^2 + 4x^3\n",
    "p = Polynomial(1, [2, 3, 4])\n",
    "p(1) # returns 10\n",
    "```\n",
    "\"\"\"\n",
    "struct Polynomial{T <: Real}\n",
    "    c::T\n",
    "    coeffs::Vector{T}\n",
    "end\n",
    "\n",
    "function (p::Polynomial{T})(x::U) where {T, U}\n",
    "    acc  = zero(promote_type(T, U))\n",
    "    xpow = one(U)\n",
    "    for i in 1:length(p.coeffs)\n",
    "        xpow *= x\n",
    "        acc  += p.coeffs[i] * xpow\n",
    "    end\n",
    "    acc + p.c\n",
    "end\n",
    "\n",
    "\"\"\"\n",
    "    derivative(::Polynomial, at)\n",
    "\n",
    "Take the derivative of a polynomial at `at`.\n",
    "\"\"\"\n",
    "derivative(p::Polynomial, at::Real) = DualNumber(at, one(at)) |> p |> dual\n",
    "\n",
    "\"\"\"\n",
    "    derivative(::Polynomial)\n",
    "\n",
    "Take the derivative of a polynomial. Returns a function which evaluates to the derivative.\n",
    "\"\"\"\n",
    "derivative(p::Polynomial) = (at -> derivative(p, at))\n",
    "\n",
    "end # module DemoPackage\n"
   ]
  },
  {
   "cell_type": "markdown",
   "id": "7ddc2df3",
   "metadata": {
    "slideshow": {
     "slide_type": "subslide"
    }
   },
   "source": [
    "- Let's write some tests!\n",
    "- Make a folder called `test` next to `src`, and add a file `runtests.jl` so your package looks like\n",
    "\n",
    "```\n",
    "DemoPackage\n",
    "├─Manifest.toml\n",
    "├─Project.toml\n",
    "├─src\n",
    "│ └─DemoPackage.jl\n",
    "└─test\n",
    "  └─runtests.jl\n",
    "```\n",
    "\n",
    "- We'll write our tests all in that file for now, but for larger projects you'll probably want to separate them into multiple files and `include` them\n",
    "- Add:\n",
    "\n",
    "```julia\n",
    "using Test, DemoPackage\n",
    "\n",
    "@test true\n",
    "```\n",
    "\n",
    "- We now need to make a separate environment for tests\n",
    "  - `] activate test`\n",
    "  - `] add Test Random`—you do need to add standard library packages to `Project.toml`\n",
    "- Run the tests using:\n",
    "\n",
    "```bash\n",
    "julia --project -e \"using Pkg; Pkg.test()\"\n",
    "```"
   ]
  },
  {
   "cell_type": "markdown",
   "id": "fea84b7e",
   "metadata": {
    "slideshow": {
     "slide_type": "fragment"
    }
   },
   "source": [
    "- Now we can add some real tests!\n",
    "- We can separate them into `testset`s\n",
    "\n",
    "```julia\n",
    "using Random\n",
    "\n",
    "@testset \"DualNumber\" begin\n",
    "    # tests for dual numbers would go here\n",
    "    n1 = DualNumber(rand(), rand())\n",
    "    @test (n1 * one(n1)) == n1\n",
    "    @test (n1 + zero(n1)) == n1\n",
    "    # ...\n",
    "end\n",
    "\n",
    "@testset \"Polynomial\" begin\n",
    "    p1 = Polynomial(1, Int[]) # p(x) = 1\n",
    "    @test p1(rand()) == 1\n",
    "    @test p1(0) == 1\n",
    "    \n",
    "    p2 = Polynomial(0, [1]) # identity\n",
    "    for _ in 1:10\n",
    "        x = randn()\n",
    "        @test p2(x) == x\n",
    "    end\n",
    "    \n",
    "    p3  = Polynomial(1, [2, 3, 4])\n",
    "    fp3 = x -> (1 + (2x) + (3x^2) + (4x^3))\n",
    "    for _ in 1:10\n",
    "        x = randn()\n",
    "        @test fp3(x) ≈ p3(x)\n",
    "    end\n",
    "end\n",
    "\n",
    "@testset \"Differentiation\" begin\n",
    "    # p(x)  = 1 + x + 2x^2 + 3x^3\n",
    "    p1  = Polynomial(1., [1., 2., 3.])\n",
    "    # p'(x) = 1 + 4x + 9x^2\n",
    "    dp1 = Polynomial(1., [4., 9.])\n",
    "    \n",
    "    for _ in 1:10\n",
    "        x = randn()\n",
    "        @test derivative(p1, x) ≈ dp1(x)\n",
    "        @test derivative(p1)(x) ≈ dp1(x)\n",
    "    end\n",
    "end\n",
    "```"
   ]
  },
  {
   "cell_type": "markdown",
   "id": "2d3627c8",
   "metadata": {
    "editable": true,
    "slideshow": {
     "slide_type": "fragment"
    },
    "tags": []
   },
   "source": [
    "- Strategies for writing tests:\n",
    "  - Come up with some examples worked out by hand or a known good program\n",
    "  - Don't confirm things you know to be true, you are now your own adversary!\n",
    "  - Every time you fix a bug, consider adding a test to make sure it doesn't come back"
   ]
  },
  {
   "cell_type": "markdown",
   "id": "e993e5ed",
   "metadata": {
    "editable": true,
    "slideshow": {
     "slide_type": "slide"
    },
    "tags": []
   },
   "source": [
    "## Documentation\n",
    "\n",
    "- Docstrings are added like Python, but unlike Python support Markdown syntax\n",
    "- A standard tool for documentation is `Documenter.jl`\n",
    "- To use it, we'll add its own environment just like for testing (run in your project root folder)\n",
    "\n",
    "```\n",
    "] activate docs\n",
    "] add Documenter\n",
    "```\n",
    "\n",
    "- Then, add a `make.jl` file in the docs folder:\n",
    "\n",
    "\n",
    "```julia\n",
    "push!(LOAD_PATH, \"../src/\")  # this makes sure your package can be loaded\n",
    "using Documenter, DemoPackage\n",
    "\n",
    "makedocs(sitename=\"Dual Number Polynomial Differentiation\", remotes=nothing)\n",
    "```\n",
    "\n",
    "- Finally, add an `index.md` file (should be at `DemoPackage/docs/src`):"
   ]
  },
  {
   "cell_type": "raw",
   "id": "fab93884-710d-451c-83b9-d55510e0c8fd",
   "metadata": {
    "editable": true,
    "raw_mimetype": "",
    "slideshow": {
     "slide_type": "fragment"
    },
    "tags": []
   },
   "source": [
    "# Dual Number Polynomial Differentiation\n",
    "\n",
    "```@docs\n",
    "DualNumber\n",
    "```\n",
    "\n",
    "```@docs\n",
    "Polynomial\n",
    "```\n",
    "\n",
    "## Differentiation\n",
    "\n",
    "By using dual numbers with polynomials we can evaluate the derivative! Consider a polynomial ``P(x) = p_0 + p_1 x + \\cdots + p_n x^n``. Then,\n",
    "\n",
    "```math\n",
    "\\begin{aligned}\n",
    "P(a + bϵ) &= p_0 + p_1 (a + bϵ) + \\cdots + p_n (a + bϵ)^n \\\\\n",
    "          &= p_0 + p_1 a + p_2 a^2 + \\dots \\\\\n",
    "          &+ p_1bϵ + 2p_2 abϵ + 3p_3 a^2 b ϵ + \\cdots \\\\\n",
    "          &= P(a) + bP^\\prime(a)ϵ\n",
    "\\end{aligned}\n",
    "```\n",
    "\n",
    "```@docs\n",
    "derivative\n",
    "```"
   ]
  },
  {
   "cell_type": "markdown",
   "id": "8249f271",
   "metadata": {
    "slideshow": {
     "slide_type": "fragment"
    }
   },
   "source": [
    "- Now, in the `docs` directory, you can build the docs like `julia --project make.jl`\n",
    "- A good way to run a test serve of them is `python3 -m http.server 8000 --directory build`, which you can then access at `http://localhost:8000`"
   ]
  },
  {
   "cell_type": "markdown",
   "id": "d231701e",
   "metadata": {
    "slideshow": {
     "slide_type": "slide"
    }
   },
   "source": [
    "## Using `git`\n",
    "\n",
    "- I don't want to spend time on using git, but it's a fanastic tool\n",
    "- A good guide is available [here](https://git-scm.com/book/en/v2)\n",
    "- _You should use it_\n",
    "  - Don't ever comment out an old version of code, just branch and delete it!\n",
    "- A starting `.gitignore` for Julia projects is:\n",
    "\n",
    "```\n",
    ".DS_Store\n",
    "/docs/build/\n",
    "/docs/site/\n",
    ".vscode\n",
    "*.jl.cov\n",
    "*.jl.*.cov\n",
    "/Manifest.toml\n",
    "/test/Manifest.toml\n",
    "/docs/Manifest.toml\n",
    "```"
   ]
  },
  {
   "cell_type": "markdown",
   "id": "77ce0650",
   "metadata": {
    "slideshow": {
     "slide_type": "slide"
    }
   },
   "source": [
    "## Organizing a Program\n",
    "\n",
    "- It's difficult to give concrete instructions\n",
    "\n",
    "Things to keep in mind:\n",
    "\n",
    "- Code is read more often than it is written\n",
    "  - Give things meaningful names\n",
    "  - Write a comment if you had to think about what to do\n",
    "  - Follow the style guide\n",
    "  - No \"magic numbers\"\n",
    "- Humans have atrocious working memory\n",
    "  - Pieces of your program (modules, types, functions) should have a clear, understandable meaning\n",
    "  - You should be able to reason abstractly about them"
   ]
  },
  {
   "cell_type": "markdown",
   "id": "5dad5c3d",
   "metadata": {
    "slideshow": {
     "slide_type": "subslide"
    }
   },
   "source": [
    "1. Start with your data.\n",
    "  - Ask:\n",
    "    - What does it look like? What's a good representation?\n",
    "    - The best representation may not be the way you get data\n",
    "    - Tabular/relational? Time series? Graphical? Tree? Geographical?\n",
    "    - Which pieces of data always go together?\n",
    "  - Write types to store your data\n",
    "    - Types are cheap!\n",
    "    - If you need strong guarantees, write inner constructors\n",
    "    - Write some outer constructors for ways you'll be commonly constructing these types\n",
    "    - Don't be afraid to write your own array type or implement an algebra"
   ]
  },
  {
   "cell_type": "markdown",
   "id": "b95c8ba7",
   "metadata": {
    "slideshow": {
     "slide_type": "fragment"
    }
   },
   "source": [
    "2. Write some helper functions to get at common information you'll need\n",
    "  - Functions are cheap!\n",
    "  - Examples:\n",
    "    - If you're storing start and end times, write a `duration` function\n",
    "    - If you're storing polar coordinates, write a function to get Cartesian coordinates\n",
    "    - If you have a graph, write functions to make it easier to move around/get edge information\n",
    "  - Make the names descriptive: this helps make your code readable\n",
    "    - Consider `timer.t_end - timer.t_start` vs `duration(timer)`\n",
    "    - Or `coord.r * cos(coord.θ)` vs `x(coord)`"
   ]
  },
  {
   "cell_type": "markdown",
   "id": "5ec6f09e",
   "metadata": {
    "slideshow": {
     "slide_type": "fragment"
    }
   },
   "source": [
    "3. Sketch the main bit of your program\n",
    "  - The `main` function or your algorithm\n",
    "  - Keep it very high level\n",
    "  - Call functions you wish existed\n",
    "  - Give things meaningful names, autocomplete exists for a reason!"
   ]
  },
  {
   "cell_type": "markdown",
   "id": "6e1b64c8",
   "metadata": {
    "slideshow": {
     "slide_type": "fragment"
    }
   },
   "source": [
    "4. Fill in functions you named in 3.\n",
    "  - Also keep them high level, this step is recursive\n",
    "  - Remember, functions should have a clear semantic meaning\n",
    "  - If you use a similar bit of code in more than ~three places, consider separating it into a function\n",
    "  \n",
    "Clues you may need to write another function:\n",
    "\n",
    "- Lots of nested `if`s and `for`s\n",
    "- Very long functions which do many things"
   ]
  },
  {
   "cell_type": "markdown",
   "id": "f24311ba",
   "metadata": {
    "slideshow": {
     "slide_type": "slide"
    }
   },
   "source": [
    "## Miscellanea\n",
    "\n",
    "- There is so much more to Julia"
   ]
  },
  {
   "cell_type": "markdown",
   "id": "599811b1",
   "metadata": {
    "slideshow": {
     "slide_type": "subslide"
    }
   },
   "source": [
    "### Some Useful Packages\n",
    "\n",
    "- For plotting:\n",
    "  - `Plots.jl` is very flexible, and can output to many backends\n",
    "    - It's somewhat slow, especially to get started\n",
    "    - However, it can output to `pgfplots` so your plots can match your TeX documents\n",
    "    - The documentation isn't very good\n",
    "  - `Makie.jl` is a newer project with a focus on performance\n",
    "    - Can render on GPUs, including ray tracing on AMD GPUs\n",
    "    - Also can make interactive plots\n",
    "- For dataframes (like `pandas`), consider `DataFrames.jl`\n",
    "- `Zygote.jl` does automatic differentiation on whole programs\n",
    "  - `RayTracer.jl` was a pure-Julia differentiable ray tracer for e.g. inverse graphics \n",
    "- `Unitful.jl` does arithmetic and conversions on quantities with units with minimal runtime cost\n",
    "- `Measurements.jl` does uncertainty propagation\n",
    "- `FFTW.jl` for FFTs, `DifferentialEquations.jl`, `JuMP.jl` & `ModelingToolkit.jl`, `Yao.jl` for QC, &c\n",
    "\n",
    "Beyond this, [juliapackages.com](https://juliapackages.com/packages) has a categorized list of packages, and the number of stars on GitHub/GitLab"
   ]
  },
  {
   "cell_type": "code",
   "execution_count": 5,
   "id": "c9221ae7",
   "metadata": {
    "slideshow": {
     "slide_type": "subslide"
    }
   },
   "outputs": [
    {
     "ename": "LoadError",
     "evalue": "ArgumentError: Package Zygote not found in current path.\n- Run `import Pkg; Pkg.add(\"Zygote\")` to install the Zygote package.",
     "output_type": "error",
     "traceback": [
      "ArgumentError: Package Zygote not found in current path.\n- Run `import Pkg; Pkg.add(\"Zygote\")` to install the Zygote package.",
      "",
      "Stacktrace:",
      " [1] macro expansion",
      "   @ ./loading.jl:1630 [inlined]",
      " [2] macro expansion",
      "   @ ./lock.jl:267 [inlined]",
      " [3] require(into::Module, mod::Symbol)",
      "   @ Base ./loading.jl:1611"
     ]
    }
   ],
   "source": [
    "using Zygote, Plots\n",
    "\n",
    "c = 10 .* randn(8)\n",
    "objective(x) = sum((@. 3x^2 + 2x + c))\n",
    "# objective(x) = sum( (3 .* x .^ 2) .+ (2 .* x) .+ c )\n",
    "\n",
    "function gradient_descent(f, iterations::Integer, step_size, x0)\n",
    "    iterate = copy(x0)\n",
    "    history = zeros(iterations + one(iterations))\n",
    "    \n",
    "    for i in 1:iterations\n",
    "        history[i] = f(iterate)\n",
    "        \n",
    "        gradient = f'(iterate)\n",
    "        iterate .-= (step_size / i) .* gradient\n",
    "    end\n",
    "    \n",
    "    history[end] = f(iterate)\n",
    "    iterate, history\n",
    "end\n",
    "\n",
    "_, history = gradient_descent(objective, 64, 0.1, 20 .* rand(8))\n",
    "plot(history, ylabel=\"Objective\", xlabel=\"Iterations\", legend=nothing)"
   ]
  },
  {
   "cell_type": "markdown",
   "id": "f2cc4657",
   "metadata": {
    "slideshow": {
     "slide_type": "slide"
    }
   },
   "source": [
    "### Functional-style programming\n",
    "\n",
    "- Julia has first-class functions\n",
    "  - `myfunc = sin; myfunc(1.0)`"
   ]
  },
  {
   "cell_type": "markdown",
   "id": "423854d3",
   "metadata": {
    "slideshow": {
     "slide_type": "fragment"
    }
   },
   "source": [
    "This allows \"higher-order\" functions:\n",
    "\n",
    "- `sort(collection; lt=... by=...)`\n",
    "  - Allows specifying the comparison `<`\n",
    "  - Also allows a map using `by`\n",
    "  - `sort(::Vector{ComplexF32}, by=abs)`\n",
    "  - `sort(::Vector{String}, by=(s -> s[1]))`"
   ]
  },
  {
   "cell_type": "code",
   "execution_count": 6,
   "id": "79f69a89",
   "metadata": {
    "slideshow": {
     "slide_type": "fragment"
    }
   },
   "outputs": [
    {
     "data": {
      "text/plain": [
       "1.0"
      ]
     },
     "execution_count": 6,
     "metadata": {},
     "output_type": "execute_result"
    }
   ],
   "source": [
    "apply(f, x...) = f(x...)\n",
    "apply(sin, π/2)"
   ]
  },
  {
   "cell_type": "markdown",
   "id": "ca0e9c5c",
   "metadata": {
    "slideshow": {
     "slide_type": "fragment"
    }
   },
   "source": [
    "- `map(f, collection)` calls `f` on every element of `collection`\n",
    "  - `foreach(f, collection)` does the same, but discards the result"
   ]
  },
  {
   "cell_type": "markdown",
   "id": "97423cbf",
   "metadata": {
    "slideshow": {
     "slide_type": "fragment"
    }
   },
   "source": [
    "- `reduce(op, collection)` applies `op` to the whole collection\n",
    "  - For example, `reduce(+, collection)` is the sum\n",
    "  - `reduce(*, collection)` is the product\n",
    "  - `reduce(min, collection)` finds the smallest element\n",
    "  - `foldl` and `foldr` guarantee direction"
   ]
  },
  {
   "cell_type": "markdown",
   "id": "8e84b723",
   "metadata": {
    "slideshow": {
     "slide_type": "fragment"
    }
   },
   "source": [
    "- `filter(pred, collection)` keeps only the elements of `collection` which satisfy `pred`\n",
    "  - `filter((x -> x > zero(x)), collection)` keeps positive values\n",
    "  - `filter(!isone, collection)` keeps all elements which are not the multiplicative identity"
   ]
  },
  {
   "cell_type": "markdown",
   "id": "d4d21441",
   "metadata": {
    "slideshow": {
     "slide_type": "fragment"
    }
   },
   "source": [
    "- Why should you care?\n",
    "  - Some problems can be expressed much more naturally"
   ]
  },
  {
   "cell_type": "code",
   "execution_count": 7,
   "id": "0c058fda",
   "metadata": {
    "slideshow": {
     "slide_type": "fragment"
    }
   },
   "outputs": [
    {
     "data": {
      "text/plain": [
       "isleaf (generic function with 1 method)"
      ]
     },
     "execution_count": 7,
     "metadata": {},
     "output_type": "execute_result"
    }
   ],
   "source": [
    "import Base: map, reduce, filter\n",
    "\n",
    "struct Tree{T}\n",
    "    val::T\n",
    "    children::Vector{Tree{T}}\n",
    "end\n",
    "\n",
    "Tree(val::T) where {T} = Tree(val, Tree{T}[])\n",
    "\n",
    "val(t::Tree)      = t.val\n",
    "children(t::Tree) = t.children\n",
    "\n",
    "isleaf(t::Tree) = isempty(children(t))"
   ]
  },
  {
   "cell_type": "code",
   "execution_count": 8,
   "id": "68770f83",
   "metadata": {
    "slideshow": {
     "slide_type": "fragment"
    }
   },
   "outputs": [
    {
     "data": {
      "text/plain": [
       "map (generic function with 61 methods)"
      ]
     },
     "execution_count": 8,
     "metadata": {},
     "output_type": "execute_result"
    }
   ],
   "source": [
    "_map(f) = (st -> map(f, st))\n",
    "# apply f to every node in the tree\n",
    "map(f, t::Tree{T}) where {T} =\n",
    "    if isleaf(t)\n",
    "        Tree(f(val(t)))\n",
    "    else\n",
    "        mapped_children = map(_map(f), children(t))\n",
    "        Tree(f(val(t)), mapped_children)\n",
    "    end"
   ]
  },
  {
   "cell_type": "code",
   "execution_count": 9,
   "id": "5a96d2e7",
   "metadata": {
    "slideshow": {
     "slide_type": "fragment"
    }
   },
   "outputs": [
    {
     "data": {
      "text/plain": [
       "reduce (generic function with 10 methods)"
      ]
     },
     "execution_count": 9,
     "metadata": {},
     "output_type": "execute_result"
    }
   ],
   "source": [
    "_reduce(f, init) = (st -> reduce(f, st, init))\n",
    "# accumulate f from the bottom of the tree to the top\n",
    "reduce(f, t::Tree, init) =\n",
    "    if isleaf(t)\n",
    "        f(val(t), init)\n",
    "    else\n",
    "        inner = map(_reduce(f, init), children(t))\n",
    "        f(val(t), reduce(f, inner, init=init))\n",
    "    end"
   ]
  },
  {
   "cell_type": "code",
   "execution_count": 10,
   "id": "a49e2ba2",
   "metadata": {
    "slideshow": {
     "slide_type": "fragment"
    }
   },
   "outputs": [
    {
     "data": {
      "text/plain": [
       "filter (generic function with 11 methods)"
      ]
     },
     "execution_count": 10,
     "metadata": {},
     "output_type": "execute_result"
    }
   ],
   "source": [
    "# keep only subtrees whose root satisfies f, and return nothing otherwise\n",
    "filter(f, t::Tree{T}) where {T} =\n",
    "    if f(val(t))\n",
    "        inner = Tree{T}[]\n",
    "        keepnotnothing = st -> let filtered = filter(f, st)\n",
    "            if !isnothing(filtered)\n",
    "                push!(inner, filtered)\n",
    "            end\n",
    "        end\n",
    "        foreach(keepnotnothing, children(t))\n",
    "        Tree(val(t), inner)\n",
    "    else\n",
    "        nothing\n",
    "    end"
   ]
  },
  {
   "cell_type": "code",
   "execution_count": 11,
   "id": "ca2ebafe",
   "metadata": {
    "slideshow": {
     "slide_type": "fragment"
    }
   },
   "outputs": [
    {
     "data": {
      "text/plain": [
       "Tree{Int64}(1, Tree{Int64}[Tree{Int64}(2, Tree{Int64}[Tree{Int64}(3, Tree{Int64}[]), Tree{Int64}(4, Tree{Int64}[]), Tree{Int64}(5, Tree{Int64}[])]), Tree{Int64}(6, Tree{Int64}[])])"
      ]
     },
     "execution_count": 11,
     "metadata": {},
     "output_type": "execute_result"
    }
   ],
   "source": [
    "t = Tree(1, [\n",
    "        Tree(2, [\n",
    "            Tree(3),\n",
    "            Tree(4),\n",
    "            Tree(5)\n",
    "        ]),\n",
    "        Tree(6)\n",
    "    ])"
   ]
  },
  {
   "cell_type": "code",
   "execution_count": 12,
   "id": "9de6998f",
   "metadata": {
    "slideshow": {
     "slide_type": "fragment"
    }
   },
   "outputs": [
    {
     "name": "stdout",
     "output_type": "stream",
     "text": [
      "1\n",
      "    2\n",
      "        3\n",
      "        4\n",
      "        5\n",
      "    6\n"
     ]
    }
   ],
   "source": [
    "prettyprint(depth::Int) = (t::Tree -> prettyprint(t, depth + 1))\n",
    "\n",
    "function prettyprint(t::Tree, depth::Int=0)\n",
    "    println(\"  \"^depth, val(t))\n",
    "    foreach(prettyprint(depth + 1), children(t))\n",
    "end\n",
    "    \n",
    "prettyprint(t)"
   ]
  },
  {
   "cell_type": "code",
   "execution_count": 13,
   "id": "58c8f37c",
   "metadata": {
    "slideshow": {
     "slide_type": "fragment"
    }
   },
   "outputs": [
    {
     "data": {
      "text/plain": [
       "21"
      ]
     },
     "execution_count": 13,
     "metadata": {},
     "output_type": "execute_result"
    }
   ],
   "source": [
    "reduce(+, t, 0)"
   ]
  },
  {
   "cell_type": "code",
   "execution_count": 14,
   "id": "ec0b4b85",
   "metadata": {
    "slideshow": {
     "slide_type": "fragment"
    }
   },
   "outputs": [
    {
     "name": "stdout",
     "output_type": "stream",
     "text": [
      "0.5\n",
      "    1.0\n",
      "        1.5\n",
      "        2.0\n",
      "        2.5\n",
      "    3.0\n"
     ]
    }
   ],
   "source": [
    "map(x -> x/2, t) |> prettyprint"
   ]
  },
  {
   "cell_type": "code",
   "execution_count": 15,
   "id": "ebde6a6c",
   "metadata": {
    "slideshow": {
     "slide_type": "fragment"
    }
   },
   "outputs": [
    {
     "name": "stdout",
     "output_type": "stream",
     "text": [
      "1\n",
      "    2\n",
      "        3\n",
      "        4\n"
     ]
    }
   ],
   "source": [
    "filter(x -> x < 5, t) |> prettyprint"
   ]
  },
  {
   "cell_type": "markdown",
   "id": "49204854",
   "metadata": {
    "slideshow": {
     "slide_type": "slide"
    }
   },
   "source": [
    "### Metaprogramming\n",
    "\n",
    "- Code is just a kind of data!"
   ]
  },
  {
   "cell_type": "code",
   "execution_count": 16,
   "id": "7c7958e0",
   "metadata": {},
   "outputs": [
    {
     "data": {
      "text/plain": [
       "quote\n",
       "    \u001b[90m#= In[16]:2 =#\u001b[39m\n",
       "    A = rand(5)\n",
       "    \u001b[90m#= In[16]:3 =#\u001b[39m\n",
       "    A .+= randn(5)\n",
       "    \u001b[90m#= In[16]:4 =#\u001b[39m\n",
       "    sum(A)\n",
       "end"
      ]
     },
     "execution_count": 16,
     "metadata": {},
     "output_type": "execute_result"
    }
   ],
   "source": [
    "code_chunk = quote\n",
    "    A = rand(5)\n",
    "    A .+= randn(5)\n",
    "    sum(A)\n",
    "end"
   ]
  },
  {
   "cell_type": "code",
   "execution_count": 17,
   "id": "36959622",
   "metadata": {},
   "outputs": [
    {
     "data": {
      "text/plain": [
       "Expr"
      ]
     },
     "execution_count": 17,
     "metadata": {},
     "output_type": "execute_result"
    }
   ],
   "source": [
    "typeof(code_chunk)"
   ]
  },
  {
   "cell_type": "code",
   "execution_count": 18,
   "id": "39ec8abf",
   "metadata": {
    "slideshow": {
     "slide_type": "fragment"
    }
   },
   "outputs": [
    {
     "name": "stdout",
     "output_type": "stream",
     "text": [
      "Expr\n",
      "  head: Symbol block\n",
      "  args: Array{Any}((6,))\n",
      "    1: LineNumberNode\n",
      "      line: Int64 2\n",
      "      file: Symbol In[16]\n",
      "    2: Expr\n",
      "      head: Symbol =\n",
      "      args: Array{Any}((2,))\n",
      "        1: Symbol A\n",
      "        2: Expr\n",
      "          head: Symbol call\n",
      "          args: Array{Any}((2,))\n",
      "            1: Symbol rand\n",
      "            2: Int64 5\n",
      "    3: LineNumberNode\n",
      "      line: Int64 3\n",
      "      file: Symbol In[16]\n",
      "    4: Expr\n",
      "      head: Symbol .+=\n",
      "      args: Array{Any}((2,))\n",
      "        1: Symbol A\n",
      "        2: Expr\n",
      "          head: Symbol call\n",
      "          args: Array{Any}((2,))\n",
      "            1: Symbol randn\n",
      "            2: Int64 5\n",
      "    5: LineNumberNode\n",
      "      line: Int64 4\n",
      "      file: Symbol In[16]\n",
      "    6: Expr\n",
      "      head: Symbol call\n",
      "      args: Array{Any}((2,))\n",
      "        1: Symbol sum\n",
      "        2: Symbol A\n"
     ]
    }
   ],
   "source": [
    "dump(code_chunk)"
   ]
  },
  {
   "cell_type": "code",
   "execution_count": 19,
   "id": "697e7f1d",
   "metadata": {
    "slideshow": {
     "slide_type": "fragment"
    }
   },
   "outputs": [
    {
     "name": "stdout",
     "output_type": "stream",
     "text": [
      "(:block,\n",
      "  :(\u001b[90m#= In[16]:2 =#\u001b[39m),\n",
      "  (:(=), :A, (:call, :rand, 5)),\n",
      "  :(\u001b[90m#= In[16]:3 =#\u001b[39m),\n",
      "  (:.+=, :A, (:call, :randn, 5)),\n",
      "  :(\u001b[90m#= In[16]:4 =#\u001b[39m),\n",
      "  (:call, :sum, :A)\n",
      ")"
     ]
    }
   ],
   "source": [
    "Meta.show_sexpr(code_chunk)"
   ]
  },
  {
   "cell_type": "code",
   "execution_count": 20,
   "id": "902286ad",
   "metadata": {
    "slideshow": {
     "slide_type": "fragment"
    }
   },
   "outputs": [
    {
     "name": "stdout",
     "output_type": "stream",
     "text": [
      "(:call, :+, 1, 1)"
     ]
    }
   ],
   "source": [
    "Meta.show_sexpr(Meta.parse(\"1 + 1\"))"
   ]
  },
  {
   "cell_type": "code",
   "execution_count": 22,
   "id": "460cc541",
   "metadata": {
    "slideshow": {
     "slide_type": "fragment"
    }
   },
   "outputs": [
    {
     "name": "stdout",
     "output_type": "stream",
     "text": [
      "Here\n",
      "Hello, world\n",
      "Hello, world\n",
      "After\n"
     ]
    }
   ],
   "source": [
    "macro runtwice(call)\n",
    "    quote\n",
    "        $call\n",
    "        $call\n",
    "    end\n",
    "end\n",
    "\n",
    "println(\"Here\")\n",
    "@runtwice println(\"Hello, world\")\n",
    "println(\"After\")"
   ]
  },
  {
   "cell_type": "code",
   "execution_count": 23,
   "id": "cf18a09b",
   "metadata": {
    "scrolled": true,
    "slideshow": {
     "slide_type": "fragment"
    }
   },
   "outputs": [
    {
     "data": {
      "text/plain": [
       "quote\n",
       "    \u001b[90m#= In[23]:19 =#\u001b[39m\n",
       "    begin\n",
       "        \u001b[90m#= In[23]:7 =#\u001b[39m\n",
       "        if Main.sqrt(2) == 1.4\n",
       "            \u001b[90m#= In[23]:8 =#\u001b[39m\n",
       "            Main.nothing\n",
       "        else\n",
       "            \u001b[90m#= In[23]:10 =#\u001b[39m\n",
       "            Main.throw(Main.AssertionError(Main.str))\n",
       "        end\n",
       "    end\n",
       "end"
      ]
     },
     "execution_count": 23,
     "metadata": {},
     "output_type": "execute_result"
    }
   ],
   "source": [
    "const DEBUG = true\n",
    "\n",
    "macro myassert(expression::Expr)\n",
    "    str = string(expression)\n",
    "    if DEBUG\n",
    "        quote\n",
    "            if $expression\n",
    "                nothing\n",
    "            else\n",
    "                throw(AssertionError(str))\n",
    "            end\n",
    "        end\n",
    "    else\n",
    "        quote end\n",
    "    end\n",
    "end\n",
    "\n",
    "@myassert 1 == 1\n",
    "macroexpand(Main, quote @myassert sqrt(2) == 1.4 end)"
   ]
  },
  {
   "cell_type": "markdown",
   "id": "304ec486",
   "metadata": {
    "slideshow": {
     "slide_type": "slide"
    }
   },
   "source": [
    "# In Summary\n",
    "\n",
    "\n",
    "- Julia is much more than a faster Python or MATLAB\n",
    "- Julia is very expressive, and lets you do things easily which in other languages would be a lot of work\n",
    "- From today,\n",
    "  - From bottom to top, make sure your program has _meaning_\n",
    "    - Use the tools Julia gives you for that\n",
    "  - Remember that humans need to understand your code just as much as computers!\n",
    "  \n",
    "## More Julia!\n",
    "\n",
    "- The documentation: `https://docs.julialang.org/`\n",
    "- The Discourse: `https://discourse.julialang.org/`\n",
    "- Julia-related blogs: `https://forem.julialang.org/`"
   ]
  }
 ],
 "metadata": {
  "celltoolbar": "Slideshow",
  "kernelspec": {
   "display_name": "Julia 1.10.5",
   "language": "julia",
   "name": "julia-1.10"
  },
  "language_info": {
   "file_extension": ".jl",
   "mimetype": "application/julia",
   "name": "julia",
   "version": "1.10.5"
  },
  "rise": {
   "enable_chalkboard": true,
   "scroll": true,
   "theme": "serif"
  }
 },
 "nbformat": 4,
 "nbformat_minor": 5
}
