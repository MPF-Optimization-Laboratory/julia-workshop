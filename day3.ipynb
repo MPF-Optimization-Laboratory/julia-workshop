{
 "cells": [
  {
   "cell_type": "markdown",
   "id": "c0a1208b-b10d-48e1-80f8-89b62faaf15a",
   "metadata": {
    "editable": true,
    "slideshow": {
     "slide_type": ""
    },
    "tags": []
   },
   "source": [
    "# Julia Workshop, Day 3: Types and Performance\n",
    "\n",
    "Goals for today:\n",
    "\n",
    "- Understand type stability and type groundedness\n",
    "- Understand how type stability/groundedness allows high performance code from Julia\n",
    "- Learn tools for dealing with type stability/groundedness\n",
    "- Learn tools for measuring performance"
   ]
  },
  {
   "cell_type": "markdown",
   "id": "1e18263f-79e4-4c62-8aeb-cd10e0de2acf",
   "metadata": {
    "editable": true,
    "slideshow": {
     "slide_type": "slide"
    },
    "tags": []
   },
   "source": [
    "## Problem 1\n",
    "\n",
    "Iterator over the prime numbers less than or equal to $n$"
   ]
  },
  {
   "cell_type": "code",
   "execution_count": 1,
   "id": "7e3c3387-6ef9-4636-8397-c226a41f8141",
   "metadata": {
    "editable": true,
    "slideshow": {
     "slide_type": "fragment"
    },
    "tags": []
   },
   "outputs": [],
   "source": [
    "import Base: iterate\n",
    "\n",
    "struct Primes\n",
    "    n::Int\n",
    "    sieve::Vector{Bool} # or BitVector\n",
    "end"
   ]
  },
  {
   "cell_type": "code",
   "execution_count": 2,
   "id": "741842bd-02c8-4eb6-abda-1ffe9d2ab4de",
   "metadata": {
    "editable": true,
    "slideshow": {
     "slide_type": "fragment"
    },
    "tags": []
   },
   "outputs": [
    {
     "data": {
      "text/plain": [
       "findnexttrue (generic function with 1 method)"
      ]
     },
     "execution_count": 2,
     "metadata": {},
     "output_type": "execute_result"
    }
   ],
   "source": [
    "function findnexttrue(i, sieve)\n",
    "    for j in (i+1):length(sieve)\n",
    "        if sieve[j]\n",
    "            return j\n",
    "        end\n",
    "    end\n",
    "    nothing\n",
    "end\n",
    "\n",
    "# or: findnexttrue(i, sieve) = findfirst(identity, sieve[i:end])"
   ]
  },
  {
   "cell_type": "code",
   "execution_count": 3,
   "id": "382b776e-05c7-4d04-b8d5-6ebaf25d2743",
   "metadata": {
    "editable": true,
    "slideshow": {
     "slide_type": "fragment"
    },
    "tags": []
   },
   "outputs": [
    {
     "data": {
      "text/plain": [
       "Primes"
      ]
     },
     "execution_count": 3,
     "metadata": {},
     "output_type": "execute_result"
    }
   ],
   "source": [
    "# outer constructor\n",
    "function Primes(n)\n",
    "    sieve = ones(Bool, n)\n",
    "    sieve[1] = false # 1 is not prime\n",
    "    \n",
    "    p = 1\n",
    "    while true\n",
    "        p = findnexttrue(p, sieve)\n",
    "        if isnothing(p)\n",
    "            break\n",
    "        end\n",
    "        \n",
    "        # p is a prime, so all multiples of it are not prime\n",
    "        for i in (2p):p:n\n",
    "            sieve[i] = false\n",
    "        end\n",
    "    end\n",
    "    \n",
    "    Primes(n, sieve)\n",
    "end"
   ]
  },
  {
   "cell_type": "code",
   "execution_count": 4,
   "id": "2494d9c5-ea8d-4e98-9527-8d7cca9abe6a",
   "metadata": {
    "editable": true,
    "slideshow": {
     "slide_type": "fragment"
    },
    "tags": []
   },
   "outputs": [
    {
     "data": {
      "text/plain": [
       "iterate (generic function with 248 methods)"
      ]
     },
     "execution_count": 4,
     "metadata": {},
     "output_type": "execute_result"
    }
   ],
   "source": [
    "function iterate(p::Primes, state::Int=1)\n",
    "    next_state = findnexttrue(state, p.sieve)\n",
    "    if isnothing(next_state)\n",
    "        nothing\n",
    "    else\n",
    "        next_state, next_state\n",
    "    end\n",
    "end"
   ]
  },
  {
   "cell_type": "code",
   "execution_count": 5,
   "id": "3ec350c1-f7b0-4ebf-a06f-a7a7fc2fa6fc",
   "metadata": {
    "editable": true,
    "slideshow": {
     "slide_type": "fragment"
    },
    "tags": []
   },
   "outputs": [
    {
     "name": "stdout",
     "output_type": "stream",
     "text": [
      "2, 3, 5, 7, 11, 13, 17, 19, "
     ]
    }
   ],
   "source": [
    "primes = Primes(20)\n",
    "for prime in primes\n",
    "    print(prime, \", \")\n",
    "end"
   ]
  },
  {
   "cell_type": "markdown",
   "id": "a57763da",
   "metadata": {
    "editable": true,
    "slideshow": {
     "slide_type": "subslide"
    },
    "tags": []
   },
   "source": [
    "## Problem 2\n",
    "\n",
    "Outer product matrix type storing O(n+m) elements instead of O(nm)."
   ]
  },
  {
   "cell_type": "code",
   "execution_count": 6,
   "id": "ab3914b4",
   "metadata": {
    "editable": true,
    "slideshow": {
     "slide_type": "fragment"
    },
    "tags": []
   },
   "outputs": [
    {
     "data": {
      "text/plain": [
       "adjoint (generic function with 38 methods)"
      ]
     },
     "execution_count": 6,
     "metadata": {},
     "output_type": "execute_result"
    }
   ],
   "source": [
    "import Base: getindex, size, adjoint\n",
    "\n",
    "# type representing uv'\n",
    "struct OuterProduct{T} <: AbstractMatrix{T}\n",
    "    u::Vector{T}\n",
    "    v::Vector{T}\n",
    "end\n",
    "\n",
    "getindex(M::OuterProduct, i, j) = M.u[i] * conj(M.v[j])\n",
    "size(M::OuterProduct) = length(M.u), length(M.v)\n",
    "adjoint(M::OuterProduct) = OuterProduct(M.v, M.u)"
   ]
  },
  {
   "cell_type": "code",
   "execution_count": 7,
   "id": "1e3b5071",
   "metadata": {
    "editable": true,
    "slideshow": {
     "slide_type": "fragment"
    },
    "tags": []
   },
   "outputs": [
    {
     "data": {
      "text/plain": [
       "4×2 OuterProduct{Float64}:\n",
       " 0.10525     0.145235\n",
       " 0.19789     0.273071\n",
       " 0.00193939  0.00267619\n",
       " 0.197672    0.27277"
      ]
     },
     "execution_count": 7,
     "metadata": {},
     "output_type": "execute_result"
    }
   ],
   "source": [
    "M = OuterProduct(rand(4), rand(2))"
   ]
  },
  {
   "cell_type": "code",
   "execution_count": 8,
   "id": "2a54ec56",
   "metadata": {
    "editable": true,
    "slideshow": {
     "slide_type": "fragment"
    },
    "tags": []
   },
   "outputs": [
    {
     "data": {
      "text/plain": [
       "4-element Vector{Float64}:\n",
       " 0.14814581046585878\n",
       " 0.27854373654669534\n",
       " 0.002729824904811223\n",
       " 0.2782360742385251"
      ]
     },
     "execution_count": 8,
     "metadata": {},
     "output_type": "execute_result"
    }
   ],
   "source": [
    "x = rand(2)\n",
    "M * x"
   ]
  },
  {
   "cell_type": "markdown",
   "id": "3b1ddda8",
   "metadata": {
    "editable": true,
    "slideshow": {
     "slide_type": "subslide"
    },
    "tags": []
   },
   "source": [
    "## Problem 3\n",
    "\n",
    "Peano arithmetic"
   ]
  },
  {
   "cell_type": "code",
   "execution_count": 9,
   "id": "c54d67b2",
   "metadata": {
    "slideshow": {
     "slide_type": "fragment"
    }
   },
   "outputs": [],
   "source": [
    "import Base: +, *, convert\n",
    "\n",
    "abstract type PeanoNumber <: Integer end\n",
    "\n",
    "function convert(::Type{PeanoNumber}, x::Integer)\n",
    "    if x < 0\n",
    "        throw(DomainError(x, \"Peano numbers are nonnegative.\"))\n",
    "    elseif x == 0\n",
    "        Zero()\n",
    "    else\n",
    "        S(convert(PeanoNumber, x - 1))\n",
    "    end\n",
    "end;"
   ]
  },
  {
   "cell_type": "code",
   "execution_count": 10,
   "id": "42fc2578",
   "metadata": {
    "editable": true,
    "slideshow": {
     "slide_type": "fragment"
    },
    "tags": []
   },
   "outputs": [],
   "source": [
    "struct Zero <: PeanoNumber end # no fields!\n",
    "struct S{P <: PeanoNumber} <: PeanoNumber\n",
    "    of::P\n",
    "end"
   ]
  },
  {
   "cell_type": "code",
   "execution_count": 11,
   "id": "2cf1ffc6",
   "metadata": {
    "editable": true,
    "slideshow": {
     "slide_type": "fragment"
    },
    "tags": []
   },
   "outputs": [
    {
     "data": {
      "text/plain": [
       "convert (generic function with 196 methods)"
      ]
     },
     "execution_count": 11,
     "metadata": {},
     "output_type": "execute_result"
    }
   ],
   "source": [
    "convert(::Type{Int}, ::Zero) = 0\n",
    "convert(::Type{Int}, s::S)   = 1 + convert(Int, s.of)"
   ]
  },
  {
   "cell_type": "code",
   "execution_count": 12,
   "id": "ea7263a6",
   "metadata": {
    "slideshow": {
     "slide_type": "fragment"
    }
   },
   "outputs": [
    {
     "data": {
      "text/plain": [
       "+ (generic function with 193 methods)"
      ]
     },
     "execution_count": 12,
     "metadata": {},
     "output_type": "execute_result"
    }
   ],
   "source": [
    "+(x::PeanoNumber, ::Zero) = x\n",
    "+(::Zero, x::PeanoNumber) = x\n",
    "+(::Zero, ::Zero)         = Zero()\n",
    "+(x::S, y::S)             = S(+(x, y.of))"
   ]
  },
  {
   "cell_type": "code",
   "execution_count": 13,
   "id": "1c8e6155",
   "metadata": {
    "slideshow": {
     "slide_type": "fragment"
    }
   },
   "outputs": [
    {
     "data": {
      "text/plain": [
       "S{S{S{Zero}}}(S{S{Zero}}(S{Zero}(Zero())))"
      ]
     },
     "execution_count": 13,
     "metadata": {},
     "output_type": "execute_result"
    }
   ],
   "source": [
    "two = convert(PeanoNumber, 2)\n",
    "three = convert(PeanoNumber, 3)"
   ]
  },
  {
   "cell_type": "code",
   "execution_count": 14,
   "id": "8a17e2ea",
   "metadata": {
    "editable": true,
    "slideshow": {
     "slide_type": "fragment"
    },
    "tags": []
   },
   "outputs": [
    {
     "data": {
      "text/plain": [
       "S{S{S{S{S{Zero}}}}}(S{S{S{S{Zero}}}}(S{S{S{Zero}}}(S{S{Zero}}(S{Zero}(Zero())))))"
      ]
     },
     "execution_count": 14,
     "metadata": {},
     "output_type": "execute_result"
    }
   ],
   "source": [
    "two + three"
   ]
  },
  {
   "cell_type": "code",
   "execution_count": 15,
   "id": "f64a8381",
   "metadata": {
    "slideshow": {
     "slide_type": "fragment"
    }
   },
   "outputs": [
    {
     "data": {
      "text/plain": [
       "5"
      ]
     },
     "execution_count": 15,
     "metadata": {},
     "output_type": "execute_result"
    }
   ],
   "source": [
    "convert(Int, two + three)"
   ]
  },
  {
   "cell_type": "code",
   "execution_count": 16,
   "id": "770b8c99",
   "metadata": {
    "slideshow": {
     "slide_type": "fragment"
    }
   },
   "outputs": [
    {
     "data": {
      "text/plain": [
       "* (generic function with 237 methods)"
      ]
     },
     "execution_count": 16,
     "metadata": {},
     "output_type": "execute_result"
    }
   ],
   "source": [
    "*(::PeanoNumber, ::Zero) = Zero()\n",
    "*(::Zero, ::PeanoNumber) = Zero()\n",
    "*(::Zero, ::Zero)        = Zero()\n",
    "*(x::S, y::S)            = x + (x * y.of)"
   ]
  },
  {
   "cell_type": "code",
   "execution_count": 17,
   "id": "7ba33dfc",
   "metadata": {
    "editable": true,
    "slideshow": {
     "slide_type": "fragment"
    },
    "tags": []
   },
   "outputs": [
    {
     "data": {
      "text/plain": [
       "6"
      ]
     },
     "execution_count": 17,
     "metadata": {},
     "output_type": "execute_result"
    }
   ],
   "source": [
    "convert(Int, two * three)"
   ]
  },
  {
   "cell_type": "markdown",
   "id": "2a871da1",
   "metadata": {
    "editable": true,
    "slideshow": {
     "slide_type": "slide"
    },
    "tags": []
   },
   "source": [
    "## What is a type? What is a type system?\n",
    "\n",
    "- Some types are very intuitive\n",
    "  - If we have 64 bits in memory, what CPU instruction should we emit for `+`?\n",
    "  - Types like `UInt64` and `Float64` just assign meaning to some bits\n",
    "- What about your `Zero <: PeanoNumber` type?"
   ]
  },
  {
   "cell_type": "code",
   "execution_count": 18,
   "id": "677c70c9",
   "metadata": {
    "editable": true,
    "slideshow": {
     "slide_type": "fragment"
    },
    "tags": []
   },
   "outputs": [
    {
     "name": "stdout",
     "output_type": "stream",
     "text": [
      "Int64 takes up 8 bytes.\n"
     ]
    }
   ],
   "source": [
    "x = 5\n",
    "println(typeof(x), \" takes up \", sizeof(x), \" bytes.\")"
   ]
  },
  {
   "cell_type": "code",
   "execution_count": 19,
   "id": "211fcbea",
   "metadata": {
    "editable": true,
    "slideshow": {
     "slide_type": "fragment"
    },
    "tags": []
   },
   "outputs": [
    {
     "name": "stdout",
     "output_type": "stream",
     "text": [
      "Zero takes up 0 bytes.\n"
     ]
    }
   ],
   "source": [
    "z = Zero()\n",
    "println(typeof(z), \" takes up \", sizeof(z), \" bytes.\")"
   ]
  },
  {
   "cell_type": "markdown",
   "id": "c5f199c4",
   "metadata": {
    "editable": true,
    "slideshow": {
     "slide_type": "subslide"
    },
    "tags": []
   },
   "source": [
    "- Different type systems have different goals\n",
    "  - A core common theme is that type systems help make sure that your program has _meaning_\n",
    "  - Type systems attempt to prevent nonsensical operations by making them _type errors_"
   ]
  },
  {
   "cell_type": "markdown",
   "id": "0d237552",
   "metadata": {
    "editable": true,
    "slideshow": {
     "slide_type": "fragment"
    },
    "tags": []
   },
   "source": [
    "- To pick on Javascript a little:\n",
    "\n",
    "```javascript\n",
    "1 + '1' == '11'\n",
    "1 - '1' == 0\n",
    "[] + [] == ''\n",
    "```\n",
    "\n",
    "- These are nonsensical operations which produce nonsensical results"
   ]
  },
  {
   "cell_type": "markdown",
   "id": "f8122f98",
   "metadata": {
    "editable": true,
    "slideshow": {
     "slide_type": "subslide"
    },
    "tags": []
   },
   "source": [
    "- A type system assigns a property called _type_ to every value\n",
    "  - Either ahead of type (static) or while the program is running (dynamic), check that your program is _well-typed_\n",
    "  - If not, cause a type error\n",
    "  - This process is called _type checking_\n",
    "- Other goals type systems _may_ have:\n",
    "  - Abstraction\n",
    "  - Proving things about your code\n",
    "    - A program in Rust being well-typed means you have constructed a proof that it is memory-safe\n",
    "  - Allowing a compiler to optimize your code"
   ]
  },
  {
   "cell_type": "markdown",
   "id": "80760c2a",
   "metadata": {
    "editable": true,
    "slideshow": {
     "slide_type": "subslide"
    },
    "tags": []
   },
   "source": [
    "- This doesn't explain our `Zero` though: what are we assigning a type _to_?\n",
    "- Programming languages describe a program for an abstract computer\n",
    "  - It's the job of the compiler and/or interpreter to map between this abstract computer and actual hardware\n",
    "  - Values in this abstract computer don't always map trivially to bits\n",
    "- Examples:\n",
    "  - If a programming language has floating-point numbers, you can do floating point operations whether or not the hardware directly supports them\n",
    "  - Python and Julia describe programs for an abstract machine with infinite memory"
   ]
  },
  {
   "cell_type": "markdown",
   "id": "ed737cf2",
   "metadata": {
    "editable": true,
    "slideshow": {
     "slide_type": "slide"
    },
    "tags": []
   },
   "source": [
    "## Julia's Compiler\n",
    "\n",
    "- Colloquially, a language being compiled usually means that you have a separate step which takes source code and emits machine code which can be directly fed to the CPU\n",
    "- Technically, compilation is just translation of one machine language to another\n",
    "  - CPython is both compiled and interpreted\n",
    "- Julia is compiled, but not _ahead of time_ like C++\n",
    "  - It's not quite _just in time_ in the sense that tracing JITs like V8 or Numba\n",
    "  - The term _just ahead of time_ is frequently used\n",
    "- More specifically: Julia compiles a function whenever it's called with a specific combination of types"
   ]
  },
  {
   "cell_type": "code",
   "execution_count": 20,
   "id": "93bbc58e",
   "metadata": {
    "editable": true,
    "slideshow": {
     "slide_type": "fragment"
    },
    "tags": []
   },
   "outputs": [],
   "source": [
    "foo(x, y, z) = (x + y) / z\n",
    "foo(1, 2, 3)    # here, we compile a version foo(::Int, ::Int, ::Int)\n",
    "foo(2, 3, 4)    # here, no compilation happens\n",
    "foo(1.0, 2, 3); # here, we compile a version foo(::Float64, ::Int, ::Int)"
   ]
  },
  {
   "cell_type": "markdown",
   "id": "e47139ec",
   "metadata": {
    "editable": true,
    "slideshow": {
     "slide_type": "fragment"
    },
    "tags": []
   },
   "source": [
    "- Core principle making Julia fast:\n",
    "  - If the compiler can infer all the types and they're all concrete, it can generate the same machine code you could get with C/C++/FORTRAN\n",
    "  - Automatically determining all the types is called _type inference_\n",
    "  - If type inference is able to determine the output type of your function using only the input types, your function is _type-stable_\n",
    "  - If type inference is able to determine the types of every variable in your function, your function is _type-grounded_\n",
    "- So, to make your Julia program fast:\n",
    "  1. Pick the right algorithm (!)\n",
    "  2. Make sure type inference succeeds"
   ]
  },
  {
   "cell_type": "markdown",
   "id": "9ef868fc-a91a-4fb6-ab4a-1a6279d405e8",
   "metadata": {
    "editable": true,
    "slideshow": {
     "slide_type": "subslide"
    },
    "tags": []
   },
   "source": [
    "- Code goes through several stages of compilation"
   ]
  },
  {
   "cell_type": "code",
   "execution_count": 21,
   "id": "34e5f9f6-2a33-4830-ae95-3ed0426e0d13",
   "metadata": {
    "editable": true,
    "slideshow": {
     "slide_type": ""
    },
    "tags": []
   },
   "outputs": [],
   "source": [
    "blah(x, y, z) = (x + y) / z;"
   ]
  },
  {
   "cell_type": "code",
   "execution_count": 22,
   "id": "9a3cdc12-017d-4ced-b069-c27eb1c0a49e",
   "metadata": {
    "editable": true,
    "slideshow": {
     "slide_type": "fragment"
    },
    "tags": []
   },
   "outputs": [
    {
     "data": {
      "text/plain": [
       "CodeInfo(\n",
       "\u001b[90m1 ─\u001b[39m %1 = x + y\n",
       "\u001b[90m│  \u001b[39m %2 = %1 / z\n",
       "\u001b[90m└──\u001b[39m      return %2\n",
       ")"
      ]
     },
     "execution_count": 22,
     "metadata": {},
     "output_type": "execute_result"
    }
   ],
   "source": [
    "@code_lowered blah(1, 2, 3)"
   ]
  },
  {
   "cell_type": "code",
   "execution_count": 23,
   "id": "f6eea619-72b8-48ae-82da-f1948c311536",
   "metadata": {
    "editable": true,
    "slideshow": {
     "slide_type": "fragment"
    },
    "tags": []
   },
   "outputs": [
    {
     "name": "stdout",
     "output_type": "stream",
     "text": [
      "\u001b[90m;  @ In[21]:1 within `blah`\u001b[39m\n",
      "\u001b[95mdefine\u001b[39m \u001b[36mdouble\u001b[39m \u001b[93m@julia_blah_1679\u001b[39m\u001b[33m(\u001b[39m\u001b[36mi64\u001b[39m \u001b[95msignext\u001b[39m \u001b[0m%0\u001b[0m, \u001b[36mi64\u001b[39m \u001b[95msignext\u001b[39m \u001b[0m%1\u001b[0m, \u001b[36mi64\u001b[39m \u001b[95msignext\u001b[39m \u001b[0m%2\u001b[33m)\u001b[39m \u001b[0m#0 \u001b[33m{\u001b[39m\n",
      "\u001b[91mtop:\u001b[39m\n",
      "\u001b[90m; ┌ @ int.jl:87 within `+`\u001b[39m\n",
      "   \u001b[0m%3 \u001b[0m= \u001b[96m\u001b[1madd\u001b[22m\u001b[39m \u001b[36mi64\u001b[39m \u001b[0m%1\u001b[0m, \u001b[0m%0\n",
      "\u001b[90m; └\u001b[39m\n",
      "\u001b[90m; ┌ @ int.jl:97 within `/`\u001b[39m\n",
      "\u001b[90m; │┌ @ float.jl:294 within `float`\u001b[39m\n",
      "\u001b[90m; ││┌ @ float.jl:268 within `AbstractFloat`\u001b[39m\n",
      "\u001b[90m; │││┌ @ float.jl:159 within `Float64`\u001b[39m\n",
      "      \u001b[0m%4 \u001b[0m= \u001b[96m\u001b[1msitofp\u001b[22m\u001b[39m \u001b[36mi64\u001b[39m \u001b[0m%3 \u001b[95mto\u001b[39m \u001b[36mdouble\u001b[39m\n",
      "      \u001b[0m%5 \u001b[0m= \u001b[96m\u001b[1msitofp\u001b[22m\u001b[39m \u001b[36mi64\u001b[39m \u001b[0m%2 \u001b[95mto\u001b[39m \u001b[36mdouble\u001b[39m\n",
      "\u001b[90m; │└└└\u001b[39m\n",
      "\u001b[90m; │ @ int.jl:97 within `/` @ float.jl:412\u001b[39m\n",
      "   \u001b[0m%6 \u001b[0m= \u001b[96m\u001b[1mfdiv\u001b[22m\u001b[39m \u001b[36mdouble\u001b[39m \u001b[0m%4\u001b[0m, \u001b[0m%5\n",
      "   \u001b[96m\u001b[1mret\u001b[22m\u001b[39m \u001b[36mdouble\u001b[39m \u001b[0m%6\n",
      "\u001b[90m; └\u001b[39m\n",
      "\u001b[33m}\u001b[39m\n"
     ]
    }
   ],
   "source": [
    "@code_llvm blah(1, 2, 3)"
   ]
  },
  {
   "cell_type": "code",
   "execution_count": 24,
   "id": "bac719f1-e800-43f4-ba53-94d99884439f",
   "metadata": {
    "editable": true,
    "slideshow": {
     "slide_type": ""
    },
    "tags": []
   },
   "outputs": [
    {
     "name": "stdout",
     "output_type": "stream",
     "text": [
      "\t\u001b[0m.section\t\u001b[0m__TEXT\u001b[0m,\u001b[0m__text\u001b[0m,\u001b[0mregular\u001b[0m,\u001b[0mpure_instructions\n",
      "\t\u001b[0m.build_version \u001b[0mmacos\u001b[0m, \u001b[33m14\u001b[39m\u001b[0m, \u001b[33m0\u001b[39m\n",
      "\t\u001b[0m.globl\t\u001b[0m_julia_blah_1716                \u001b[90m; -- Begin function julia_blah_1716\u001b[39m\n",
      "\t\u001b[0m.p2align\t\u001b[33m2\u001b[39m\n",
      "\u001b[91m_julia_blah_1716:\u001b[39m                       \u001b[90m; @julia_blah_1716\u001b[39m\n",
      "\u001b[90m; ┌ @ In[21]:1 within `blah`\u001b[39m\n",
      "\u001b[90m; %bb.0:                                ; %top\u001b[39m\n",
      "\u001b[90m; │┌ @ int.jl:87 within `+`\u001b[39m\n",
      "\t\u001b[96m\u001b[1madd\u001b[22m\u001b[39m\t\u001b[0mx8\u001b[0m, \u001b[0mx1\u001b[0m, \u001b[0mx0\n",
      "\u001b[90m; │└\u001b[39m\n",
      "\u001b[90m; │┌ @ int.jl:97 within `/`\u001b[39m\n",
      "\u001b[90m; ││┌ @ float.jl:294 within `float`\u001b[39m\n",
      "\u001b[90m; │││┌ @ float.jl:268 within `AbstractFloat`\u001b[39m\n",
      "\u001b[90m; ││││┌ @ float.jl:159 within `Float64`\u001b[39m\n",
      "\t\u001b[96m\u001b[1mscvtf\u001b[22m\u001b[39m\t\u001b[0md0\u001b[0m, \u001b[0mx8\n",
      "\t\u001b[96m\u001b[1mscvtf\u001b[22m\u001b[39m\t\u001b[0md1\u001b[0m, \u001b[0mx2\n",
      "\u001b[90m; ││└└└\u001b[39m\n",
      "\u001b[90m; ││ @ int.jl:97 within `/` @ float.jl:412\u001b[39m\n",
      "\t\u001b[96m\u001b[1mfdiv\u001b[22m\u001b[39m\t\u001b[0md0\u001b[0m, \u001b[0md0\u001b[0m, \u001b[0md1\n",
      "\t\u001b[96m\u001b[1mret\u001b[22m\u001b[39m\n",
      "\u001b[90m; └└\u001b[39m\n",
      "                                        \u001b[90m; -- End function\u001b[39m\n",
      "\u001b[0m.subsections_via_symbols\n"
     ]
    }
   ],
   "source": [
    "@code_native blah(1, 2, 3)"
   ]
  },
  {
   "cell_type": "markdown",
   "id": "1d8a4574",
   "metadata": {
    "editable": true,
    "slideshow": {
     "slide_type": "slide"
    },
    "tags": []
   },
   "source": [
    "## Checking Type Inference\n",
    "\n",
    "Introducing your new best friend, `@code_warntype`!\n",
    "\n",
    "- Yes, there is a lot of output\n",
    "- Remember when you first saw an exception"
   ]
  },
  {
   "cell_type": "code",
   "execution_count": 25,
   "id": "f2796de1",
   "metadata": {
    "editable": true,
    "slideshow": {
     "slide_type": "fragment"
    },
    "tags": []
   },
   "outputs": [
    {
     "data": {
      "text/plain": [
       "mysum (generic function with 1 method)"
      ]
     },
     "execution_count": 25,
     "metadata": {},
     "output_type": "execute_result"
    }
   ],
   "source": [
    "function mysum(xs::Vector{T}) where {T <: Number}\n",
    "    ssf = 0\n",
    "    for x in xs\n",
    "        ssf += x\n",
    "    end\n",
    "    ssf\n",
    "end"
   ]
  },
  {
   "cell_type": "code",
   "execution_count": 26,
   "id": "304b6bb2",
   "metadata": {
    "editable": true,
    "slideshow": {
     "slide_type": "fragment"
    },
    "tags": []
   },
   "outputs": [
    {
     "name": "stdout",
     "output_type": "stream",
     "text": [
      "MethodInstance for mysum(::Vector{Int64})\n",
      "  from mysum(\u001b[90mxs\u001b[39m::\u001b[1mVector\u001b[22m\u001b[0m{T}) where T<:Number\u001b[90m @\u001b[39m \u001b[90mMain\u001b[39m \u001b[90m\u001b[4mIn[25]:1\u001b[24m\u001b[39m\n",
      "Static Parameters\n",
      "  T = \u001b[36mInt64\u001b[39m\n",
      "Arguments\n",
      "  #self#\u001b[36m::Core.Const(mysum)\u001b[39m\n",
      "  xs\u001b[36m::Vector{Int64}\u001b[39m\n",
      "Locals\n",
      "  @_3\u001b[33m\u001b[1m::Union{Nothing, Tuple{Int64, Int64}}\u001b[22m\u001b[39m\n",
      "  ssf\u001b[36m::Int64\u001b[39m\n",
      "  x\u001b[36m::Int64\u001b[39m\n",
      "Body\u001b[36m::Int64\u001b[39m\n",
      "\u001b[90m1 ─\u001b[39m       (ssf = 0)\n",
      "\u001b[90m│  \u001b[39m %2  = xs\u001b[36m::Vector{Int64}\u001b[39m\n",
      "\u001b[90m│  \u001b[39m       (@_3 = Base.iterate(%2))\n",
      "\u001b[90m│  \u001b[39m %4  = (@_3 === nothing)\u001b[36m::Bool\u001b[39m\n",
      "\u001b[90m│  \u001b[39m %5  = Base.not_int(%4)\u001b[36m::Bool\u001b[39m\n",
      "\u001b[90m└──\u001b[39m       goto #4 if not %5\n",
      "\u001b[90m2 ┄\u001b[39m %7  = @_3\u001b[36m::Tuple{Int64, Int64}\u001b[39m\n",
      "\u001b[90m│  \u001b[39m       (x = Core.getfield(%7, 1))\n",
      "\u001b[90m│  \u001b[39m %9  = Core.getfield(%7, 2)\u001b[36m::Int64\u001b[39m\n",
      "\u001b[90m│  \u001b[39m       (ssf = ssf + x)\n",
      "\u001b[90m│  \u001b[39m       (@_3 = Base.iterate(%2, %9))\n",
      "\u001b[90m│  \u001b[39m %12 = (@_3 === nothing)\u001b[36m::Bool\u001b[39m\n",
      "\u001b[90m│  \u001b[39m %13 = Base.not_int(%12)\u001b[36m::Bool\u001b[39m\n",
      "\u001b[90m└──\u001b[39m       goto #4 if not %13\n",
      "\u001b[90m3 ─\u001b[39m       goto #2\n",
      "\u001b[90m4 ┄\u001b[39m       return ssf\n",
      "\n"
     ]
    }
   ],
   "source": [
    "@code_warntype mysum([1, 2, 3, 4, 5])"
   ]
  },
  {
   "cell_type": "code",
   "execution_count": 27,
   "id": "1bdc552a",
   "metadata": {
    "slideshow": {
     "slide_type": "subslide"
    }
   },
   "outputs": [
    {
     "name": "stdout",
     "output_type": "stream",
     "text": [
      "MethodInstance for mysum(::Vector{Float64})\n",
      "  from mysum(\u001b[90mxs\u001b[39m::\u001b[1mVector\u001b[22m\u001b[0m{T}) where T<:Number\u001b[90m @\u001b[39m \u001b[90mMain\u001b[39m \u001b[90m\u001b[4mIn[25]:1\u001b[24m\u001b[39m\n",
      "Static Parameters\n",
      "  T = \u001b[36mFloat64\u001b[39m\n",
      "Arguments\n",
      "  #self#\u001b[36m::Core.Const(mysum)\u001b[39m\n",
      "  xs\u001b[36m::Vector{Float64}\u001b[39m\n",
      "Locals\n",
      "  @_3\u001b[33m\u001b[1m::Union{Nothing, Tuple{Float64, Int64}}\u001b[22m\u001b[39m\n",
      "  ssf\u001b[33m\u001b[1m::Union{Float64, Int64}\u001b[22m\u001b[39m\n",
      "  x\u001b[36m::Float64\u001b[39m\n",
      "Body\u001b[33m\u001b[1m::Union{Float64, Int64}\u001b[22m\u001b[39m\n",
      "\u001b[90m1 ─\u001b[39m       (ssf = 0)\n",
      "\u001b[90m│  \u001b[39m %2  = xs\u001b[36m::Vector{Float64}\u001b[39m\n",
      "\u001b[90m│  \u001b[39m       (@_3 = Base.iterate(%2))\n",
      "\u001b[90m│  \u001b[39m %4  = (@_3 === nothing)\u001b[36m::Bool\u001b[39m\n",
      "\u001b[90m│  \u001b[39m %5  = Base.not_int(%4)\u001b[36m::Bool\u001b[39m\n",
      "\u001b[90m└──\u001b[39m       goto #4 if not %5\n",
      "\u001b[90m2 ┄\u001b[39m %7  = @_3\u001b[36m::Tuple{Float64, Int64}\u001b[39m\n",
      "\u001b[90m│  \u001b[39m       (x = Core.getfield(%7, 1))\n",
      "\u001b[90m│  \u001b[39m %9  = Core.getfield(%7, 2)\u001b[36m::Int64\u001b[39m\n",
      "\u001b[90m│  \u001b[39m       (ssf = ssf + x)\n",
      "\u001b[90m│  \u001b[39m       (@_3 = Base.iterate(%2, %9))\n",
      "\u001b[90m│  \u001b[39m %12 = (@_3 === nothing)\u001b[36m::Bool\u001b[39m\n",
      "\u001b[90m│  \u001b[39m %13 = Base.not_int(%12)\u001b[36m::Bool\u001b[39m\n",
      "\u001b[90m└──\u001b[39m       goto #4 if not %13\n",
      "\u001b[90m3 ─\u001b[39m       goto #2\n",
      "\u001b[90m4 ┄\u001b[39m       return ssf\n",
      "\n"
     ]
    }
   ],
   "source": [
    "@code_warntype mysum([1.0, 2.0, 3.0, 4.0, 5.0])"
   ]
  },
  {
   "cell_type": "markdown",
   "id": "35434e0e",
   "metadata": {
    "slideshow": {
     "slide_type": "fragment"
    }
   },
   "source": [
    "- `Union` means \"one of\""
   ]
  },
  {
   "cell_type": "code",
   "execution_count": 28,
   "id": "4abe9107",
   "metadata": {
    "slideshow": {
     "slide_type": "fragment"
    }
   },
   "outputs": [
    {
     "name": "stdout",
     "output_type": "stream",
     "text": [
      "Int64\n",
      "Float64\n"
     ]
    }
   ],
   "source": [
    "println(typeof(mysum(Float64[])))\n",
    "println(typeof(mysum([1.0, 2.0])))"
   ]
  },
  {
   "cell_type": "code",
   "execution_count": 29,
   "id": "a473f83d",
   "metadata": {},
   "outputs": [
    {
     "name": "stdout",
     "output_type": "stream",
     "text": [
      "Float64\n",
      "Float64\n"
     ]
    }
   ],
   "source": [
    "println(typeof(sum(Float64[])))\n",
    "println(typeof(sum([1.0, 2.0])))"
   ]
  },
  {
   "cell_type": "code",
   "execution_count": 30,
   "id": "baef96e9",
   "metadata": {
    "slideshow": {
     "slide_type": "subslide"
    }
   },
   "outputs": [
    {
     "name": "stdout",
     "output_type": "stream",
     "text": [
      "MethodInstance for mybettersum(::Vector{Float64})\n",
      "  from mybettersum(\u001b[90mxs\u001b[39m::\u001b[1mVector\u001b[22m\u001b[0m{T}) where T<:Number\u001b[90m @\u001b[39m \u001b[90mMain\u001b[39m \u001b[90m\u001b[4mIn[30]:1\u001b[24m\u001b[39m\n",
      "Static Parameters\n",
      "  T = \u001b[36mFloat64\u001b[39m\n",
      "Arguments\n",
      "  #self#\u001b[36m::Core.Const(mybettersum)\u001b[39m\n",
      "  xs\u001b[36m::Vector{Float64}\u001b[39m\n",
      "Locals\n",
      "  @_3\u001b[33m\u001b[1m::Union{Nothing, Tuple{Float64, Int64}}\u001b[22m\u001b[39m\n",
      "  ssf\u001b[36m::Float64\u001b[39m\n",
      "  x\u001b[36m::Float64\u001b[39m\n",
      "Body\u001b[36m::Float64\u001b[39m\n",
      "\u001b[90m1 ─\u001b[39m       (ssf = Main.zero($(Expr(:static_parameter, 1))))\n",
      "\u001b[90m│  \u001b[39m %2  = xs\u001b[36m::Vector{Float64}\u001b[39m\n",
      "\u001b[90m│  \u001b[39m       (@_3 = Base.iterate(%2))\n",
      "\u001b[90m│  \u001b[39m %4  = (@_3 === nothing)\u001b[36m::Bool\u001b[39m\n",
      "\u001b[90m│  \u001b[39m %5  = Base.not_int(%4)\u001b[36m::Bool\u001b[39m\n",
      "\u001b[90m└──\u001b[39m       goto #4 if not %5\n",
      "\u001b[90m2 ┄\u001b[39m %7  = @_3\u001b[36m::Tuple{Float64, Int64}\u001b[39m\n",
      "\u001b[90m│  \u001b[39m       (x = Core.getfield(%7, 1))\n",
      "\u001b[90m│  \u001b[39m %9  = Core.getfield(%7, 2)\u001b[36m::Int64\u001b[39m\n",
      "\u001b[90m│  \u001b[39m       (ssf = ssf + x)\n",
      "\u001b[90m│  \u001b[39m       (@_3 = Base.iterate(%2, %9))\n",
      "\u001b[90m│  \u001b[39m %12 = (@_3 === nothing)\u001b[36m::Bool\u001b[39m\n",
      "\u001b[90m│  \u001b[39m %13 = Base.not_int(%12)\u001b[36m::Bool\u001b[39m\n",
      "\u001b[90m└──\u001b[39m       goto #4 if not %13\n",
      "\u001b[90m3 ─\u001b[39m       goto #2\n",
      "\u001b[90m4 ┄\u001b[39m       return ssf\n",
      "\n"
     ]
    }
   ],
   "source": [
    "function mybettersum(xs::Vector{T}) where {T <: Number}\n",
    "    ssf = zero(T)\n",
    "    for x in xs\n",
    "        ssf += x\n",
    "    end\n",
    "    ssf\n",
    "end\n",
    "\n",
    "@code_warntype mybettersum(Float64[])"
   ]
  },
  {
   "cell_type": "markdown",
   "id": "3937c940",
   "metadata": {
    "slideshow": {
     "slide_type": "slide"
    }
   },
   "source": [
    "## On `Union`\n",
    "\n",
    "- Don't want to give the impression that `Union` is bad\n",
    "  - Iteration uses it\n",
    "  - Julia's support for missing values also does\n",
    "    - A possibly missing value of type `T` is a `Union{T, Missing}`"
   ]
  },
  {
   "cell_type": "markdown",
   "id": "a25fd910",
   "metadata": {
    "slideshow": {
     "slide_type": "fragment"
    }
   },
   "source": [
    "- These unions are unions of \"simple\" types\n",
    "  - `isbitstype`: basically, types which are singletons or map easily to bits\n",
    "  - A `Union` of a small number of `isbitstype` types is basically stored as `(which, value)`\n",
    "  - Method lookup turns into essentially an `if/else`\n",
    "- Some types which are _not_ bitstypes:\n",
    "  - `Array`, `String`, anything declared with `mutable struct`\n",
    "    - Then, the value is _boxed_ just like if you have an abstract type"
   ]
  },
  {
   "cell_type": "markdown",
   "id": "7628f534",
   "metadata": {
    "slideshow": {
     "slide_type": "fragment"
    }
   },
   "source": [
    "From best (fastest) to worst (slowest):\n",
    "\n",
    "1. Concrete type\n",
    "2. Union of all `isbitstype` types\n",
    "3. Union of non-`isbitstype` types\n",
    "4. Abstract type"
   ]
  },
  {
   "cell_type": "code",
   "execution_count": 31,
   "id": "bee9a207",
   "metadata": {
    "slideshow": {
     "slide_type": "subslide"
    }
   },
   "outputs": [
    {
     "data": {
      "text/plain": [
       "* (generic function with 238 methods)"
      ]
     },
     "execution_count": 31,
     "metadata": {},
     "output_type": "execute_result"
    }
   ],
   "source": [
    "# what's wrong here?\n",
    "struct Coordinate\n",
    "    x::AbstractFloat\n",
    "    y::AbstractFloat\n",
    "end\n",
    "\n",
    "import Base: +, -, *\n",
    "\n",
    "+(a::Coordinate, b::Coordinate) = Coordinate(a.x + b.x, a.y + b.y)\n",
    "-(a::Coordinate, b::Coordinate) = Coordinate(a.x - b.x, a.y - b.y)\n",
    "*(λ::Real, a::Coordinate) = Coordinate(λ * a.x, λ * a.y)"
   ]
  },
  {
   "cell_type": "code",
   "execution_count": 42,
   "id": "000def99",
   "metadata": {
    "editable": true,
    "slideshow": {
     "slide_type": "fragment"
    },
    "tags": []
   },
   "outputs": [
    {
     "name": "stdout",
     "output_type": "stream",
     "text": [
      "MethodInstance for Coordinate(::Float64, ::Float64)\n",
      "  from Coordinate(\u001b[90mx\u001b[39m::\u001b[1mAbstractFloat\u001b[22m, \u001b[90my\u001b[39m::\u001b[1mAbstractFloat\u001b[22m)\u001b[90m @\u001b[39m \u001b[90mMain\u001b[39m \u001b[90m\u001b[4mIn[31]:3\u001b[24m\u001b[39m\n",
      "Arguments\n",
      "  #ctor-self#\u001b[36m::Core.Const(Coordinate)\u001b[39m\n",
      "  x\u001b[36m::Float64\u001b[39m\n",
      "  y\u001b[36m::Float64\u001b[39m\n",
      "Body\u001b[36m::Coordinate\u001b[39m\n",
      "\u001b[90m1 ─\u001b[39m %1 = %new(Main.Coordinate, x, y)\u001b[36m::Core.PartialStruct(Coordinate, Any[Float64, Float64])\u001b[39m\n",
      "\u001b[90m└──\u001b[39m      return %1\n",
      "\n"
     ]
    }
   ],
   "source": [
    "function +(a::Coordinate, b::Coordinate)\n",
    "    new_x = a.x + b.x\n",
    "    new_y = a.y + b.y\n",
    "    Coordinate(new_x, new_y)\n",
    "end\n",
    "@code_warntype Coordinate(1.0, 2.0)"
   ]
  },
  {
   "cell_type": "code",
   "execution_count": 33,
   "id": "5d975287",
   "metadata": {
    "slideshow": {
     "slide_type": "fragment"
    }
   },
   "outputs": [
    {
     "name": "stdout",
     "output_type": "stream",
     "text": [
      "MethodInstance for +(::Coordinate, ::Coordinate)\n",
      "  from +(\u001b[90ma\u001b[39m::\u001b[1mCoordinate\u001b[22m, \u001b[90mb\u001b[39m::\u001b[1mCoordinate\u001b[22m)\u001b[90m @\u001b[39m \u001b[90mMain\u001b[39m \u001b[90m\u001b[4mIn[32]:1\u001b[24m\u001b[39m\n",
      "Arguments\n",
      "  #self#\u001b[36m::Core.Const(+)\u001b[39m\n",
      "  a\u001b[36m::Coordinate\u001b[39m\n",
      "  b\u001b[36m::Coordinate\u001b[39m\n",
      "Locals\n",
      "  new_y\u001b[91m\u001b[1m::Any\u001b[22m\u001b[39m\n",
      "  new_x\u001b[91m\u001b[1m::Any\u001b[22m\u001b[39m\n",
      "Body\u001b[36m::Coordinate\u001b[39m\n",
      "\u001b[90m1 ─\u001b[39m %1 = Base.getproperty(a, :x)\u001b[91m\u001b[1m::AbstractFloat\u001b[22m\u001b[39m\n",
      "\u001b[90m│  \u001b[39m %2 = Base.getproperty(b, :x)\u001b[91m\u001b[1m::AbstractFloat\u001b[22m\u001b[39m\n",
      "\u001b[90m│  \u001b[39m      (new_x = %1 + %2)\n",
      "\u001b[90m│  \u001b[39m %4 = Base.getproperty(a, :y)\u001b[91m\u001b[1m::AbstractFloat\u001b[22m\u001b[39m\n",
      "\u001b[90m│  \u001b[39m %5 = Base.getproperty(b, :y)\u001b[91m\u001b[1m::AbstractFloat\u001b[22m\u001b[39m\n",
      "\u001b[90m│  \u001b[39m      (new_y = %4 + %5)\n",
      "\u001b[90m│  \u001b[39m %7 = Main.Coordinate(new_x, new_y)\u001b[36m::Coordinate\u001b[39m\n",
      "\u001b[90m└──\u001b[39m      return %7\n",
      "\n"
     ]
    }
   ],
   "source": [
    "@code_warntype Coordinate(1.0, 2.0f0) + Coordinate(2.0, 4.0f0)"
   ]
  },
  {
   "cell_type": "markdown",
   "id": "62eff371",
   "metadata": {
    "slideshow": {
     "slide_type": "fragment"
    }
   },
   "source": [
    "- Abstract types mean something different in function signatures than they do in structs\n",
    "  - In functions, we'll compile a separate version for every combination of subtypes\n",
    "  - We have to explicitly opt in for structs"
   ]
  },
  {
   "cell_type": "code",
   "execution_count": 34,
   "id": "2cd62678",
   "metadata": {
    "slideshow": {
     "slide_type": "subslide"
    }
   },
   "outputs": [
    {
     "data": {
      "text/plain": [
       "* (generic function with 239 methods)"
      ]
     },
     "execution_count": 34,
     "metadata": {},
     "output_type": "execute_result"
    }
   ],
   "source": [
    "struct BetterCoordinate{Tx <: AbstractFloat, Ty <: AbstractFloat}\n",
    "    x::Tx\n",
    "    y::Ty\n",
    "end\n",
    "\n",
    "+(a::BetterCoordinate, b::BetterCoordinate) = BetterCoordinate(a.x + b.x, a.y + b.y)\n",
    "-(a::BetterCoordinate, b::BetterCoordinate) = BetterCoordinate(a.x - b.x, a.y - b.y)\n",
    "*(λ::Real, a::BetterCoordinate) = BetterCoordinate(λ * a.x, λ * a.y)"
   ]
  },
  {
   "cell_type": "code",
   "execution_count": 35,
   "id": "8315c8b7",
   "metadata": {
    "slideshow": {
     "slide_type": "fragment"
    }
   },
   "outputs": [
    {
     "name": "stdout",
     "output_type": "stream",
     "text": [
      "MethodInstance for +(::BetterCoordinate{Float64, Float32}, ::BetterCoordinate{Float64, Float32})\n",
      "  from +(\u001b[90ma\u001b[39m::\u001b[1mBetterCoordinate\u001b[22m, \u001b[90mb\u001b[39m::\u001b[1mBetterCoordinate\u001b[22m)\u001b[90m @\u001b[39m \u001b[90mMain\u001b[39m \u001b[90m\u001b[4mIn[34]:6\u001b[24m\u001b[39m\n",
      "Arguments\n",
      "  #self#\u001b[36m::Core.Const(+)\u001b[39m\n",
      "  a\u001b[36m::BetterCoordinate{Float64, Float32}\u001b[39m\n",
      "  b\u001b[36m::BetterCoordinate{Float64, Float32}\u001b[39m\n",
      "Body\u001b[36m::BetterCoordinate{Float64, Float32}\u001b[39m\n",
      "\u001b[90m1 ─\u001b[39m %1 = Base.getproperty(a, :x)\u001b[36m::Float64\u001b[39m\n",
      "\u001b[90m│  \u001b[39m %2 = Base.getproperty(b, :x)\u001b[36m::Float64\u001b[39m\n",
      "\u001b[90m│  \u001b[39m %3 = (%1 + %2)\u001b[36m::Float64\u001b[39m\n",
      "\u001b[90m│  \u001b[39m %4 = Base.getproperty(a, :y)\u001b[36m::Float32\u001b[39m\n",
      "\u001b[90m│  \u001b[39m %5 = Base.getproperty(b, :y)\u001b[36m::Float32\u001b[39m\n",
      "\u001b[90m│  \u001b[39m %6 = (%4 + %5)\u001b[36m::Float32\u001b[39m\n",
      "\u001b[90m│  \u001b[39m %7 = Main.BetterCoordinate(%3, %6)\u001b[36m::BetterCoordinate{Float64, Float32}\u001b[39m\n",
      "\u001b[90m└──\u001b[39m      return %7\n",
      "\n"
     ]
    }
   ],
   "source": [
    "@code_warntype BetterCoordinate(1.0, 2.0f0) + BetterCoordinate(2.0, 4.0f0)"
   ]
  },
  {
   "cell_type": "markdown",
   "id": "4da44620",
   "metadata": {
    "slideshow": {
     "slide_type": "subslide"
    }
   },
   "source": [
    "## What if you really need dynamic types?\n",
    "\n",
    "- Sometimes you actually need a weird union or an abstract type\n",
    "  - Maybe someone gave you a very stupid CSV file and fixing it up isn't an option\n",
    "  - E.g. some field is either a float or a string\n",
    "- In this case, we want to use a _function barrier_"
   ]
  },
  {
   "cell_type": "code",
   "execution_count": 36,
   "id": "b7a0b430",
   "metadata": {
    "slideshow": {
     "slide_type": "fragment"
    }
   },
   "outputs": [
    {
     "data": {
      "text/plain": [
       "4096"
      ]
     },
     "execution_count": 36,
     "metadata": {},
     "output_type": "execute_result"
    }
   ],
   "source": [
    "process(s::String)  = length(s)\n",
    "process(x::Float64) = convert(Int, trunc(x))\n",
    "const DATALEN = 4096"
   ]
  },
  {
   "cell_type": "code",
   "execution_count": 37,
   "id": "03b58082",
   "metadata": {
    "slideshow": {
     "slide_type": "fragment"
    }
   },
   "outputs": [
    {
     "data": {
      "text/plain": [
       "slow_process (generic function with 1 method)"
      ]
     },
     "execution_count": 37,
     "metadata": {},
     "output_type": "execute_result"
    }
   ],
   "source": [
    "function slow_process()\n",
    "    T = if rand(Bool) # pretend we're checking the first item or something\n",
    "        String\n",
    "    else\n",
    "        Float64\n",
    "    end\n",
    "    \n",
    "    data = Union{String, Float64}[]\n",
    "    \n",
    "    for i in 1:DATALEN\n",
    "        # pretend we're reading\n",
    "        if T == String\n",
    "            push!(data, rand([\"hello\", \"goodbye\"]))\n",
    "        else\n",
    "            push!(data, randn())\n",
    "        end\n",
    "    end\n",
    "    \n",
    "    data, process.(data)\n",
    "end"
   ]
  },
  {
   "cell_type": "code",
   "execution_count": 38,
   "id": "2362500c",
   "metadata": {
    "slideshow": {
     "slide_type": "fragment"
    }
   },
   "outputs": [
    {
     "data": {
      "text/plain": [
       "faster_process (generic function with 1 method)"
      ]
     },
     "execution_count": 38,
     "metadata": {},
     "output_type": "execute_result"
    }
   ],
   "source": [
    "function process_strings()\n",
    "    data = String[]\n",
    "    for i in 1:DATALEN\n",
    "        push!(data, rand([\"hello\", \"goodbye\"]))\n",
    "    end\n",
    "    data, process.(data)\n",
    "end\n",
    "\n",
    "function process_floats()\n",
    "    data = Float64[]\n",
    "    for i in 1:DATALEN\n",
    "        push!(data, randn())\n",
    "    end\n",
    "    data, process.(data)\n",
    "end\n",
    "\n",
    "function faster_process()\n",
    "    if rand(Bool)\n",
    "        process_strings()\n",
    "    else\n",
    "        process_floats()\n",
    "    end\n",
    "end"
   ]
  },
  {
   "cell_type": "code",
   "execution_count": 39,
   "id": "df7f0fd6",
   "metadata": {
    "slideshow": {
     "slide_type": "fragment"
    }
   },
   "outputs": [
    {
     "name": "stdout",
     "output_type": "stream",
     "text": [
      "  29.583 μs (4106 allocations: 218.20 KiB)\n"
     ]
    }
   ],
   "source": [
    "using BenchmarkTools\n",
    "@btime slow_process();"
   ]
  },
  {
   "cell_type": "code",
   "execution_count": 40,
   "id": "3055ce0e",
   "metadata": {},
   "outputs": [
    {
     "name": "stdout",
     "output_type": "stream",
     "text": [
      "  17.583 μs (11 allocations: 154.25 KiB)\n"
     ]
    }
   ],
   "source": [
    "@btime faster_process();"
   ]
  },
  {
   "cell_type": "markdown",
   "id": "45b1753b",
   "metadata": {
    "editable": true,
    "slideshow": {
     "slide_type": "slide"
    },
    "tags": []
   },
   "source": [
    "## Putting `@code_warntype` to use\n",
    "\n",
    "- juliaworkshop.miakramer.space\n",
    "- Download the file labeled \"`@code_warntype` and type stability problems\"\n",
    "- There are several small problems\n",
    "- The first couple may or may not be obvious, but I would highly recommend using `@code_warntype` for practice regardless\n",
    "  - Several of the types are matrices and vectors. Try multiplication, getindex, etc."
   ]
  }
 ],
 "metadata": {
  "kernelspec": {
   "display_name": "Julia 1.10.5",
   "language": "julia",
   "name": "julia-1.10"
  },
  "language_info": {
   "file_extension": ".jl",
   "mimetype": "application/julia",
   "name": "julia",
   "version": "1.10.5"
  }
 },
 "nbformat": 4,
 "nbformat_minor": 5
}
