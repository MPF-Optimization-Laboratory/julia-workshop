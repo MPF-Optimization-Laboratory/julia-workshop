{
 "cells": [
  {
   "cell_type": "markdown",
   "id": "e0c3ee6c-b33f-418b-b4f6-e43615f9b3f8",
   "metadata": {
    "editable": true,
    "slideshow": {
     "slide_type": "slide"
    },
    "tags": []
   },
   "source": [
    "# Julia Workshop, Day 1: The Basics\n",
    "\n",
    "Goals for today:\n",
    "\n",
    "- Install Julia\n",
    "- Get familiar with the basics of Julia and make sure everyone's on the same page\n",
    "- Install a package\n",
    "- Use the REPL to get help\n",
    "- Write a non-trivial program\n",
    "- Start thinking about types"
   ]
  },
  {
   "cell_type": "markdown",
   "id": "9510e899-2a6f-44be-957a-10afb05c882c",
   "metadata": {
    "editable": true,
    "slideshow": {
     "slide_type": "slide"
    },
    "tags": []
   },
   "source": [
    "## Installing Julia\n",
    "\n",
    "- Use juliaup: https://github.com/JuliaLang/juliaup\n",
    "    - This is a program to manage Julia versions"
   ]
  },
  {
   "cell_type": "markdown",
   "id": "af8e90cc-452d-439b-a781-1ff145e7dced",
   "metadata": {
    "editable": true,
    "slideshow": {
     "slide_type": "fragment"
    },
    "tags": []
   },
   "source": [
    "- To test Julia, open a command line\n",
    "    - Type `julia`\n",
    "    - You should see something like this:\n",
    "```\n",
    "               _\n",
    "   _       _ _(_)_     |  Documentation: https://docs.julialang.org\n",
    "  (_)     | (_) (_)    |\n",
    "   _ _   _| |_  __ _   |  Type \"?\" for help, \"]?\" for Pkg help.\n",
    "  | | | | | | |/ _` |  |\n",
    "  | | |_| | | | (_| |  |  Version 1.10.5 (2024-08-27)\n",
    " _/ |\\__'_|_|_|\\__'_|  |  Official https://julialang.org/ release\n",
    "|__/                   |\n",
    "\n",
    "julia>\n",
    "```"
   ]
  },
  {
   "cell_type": "code",
   "execution_count": 1,
   "id": "224f2a3c-a9fb-42ac-b8af-22b642757b70",
   "metadata": {
    "editable": true,
    "slideshow": {
     "slide_type": "fragment"
    },
    "tags": []
   },
   "outputs": [
    {
     "name": "stdout",
     "output_type": "stream",
     "text": [
      "Hello, world!\n"
     ]
    }
   ],
   "source": [
    "println(\"Hello, world!\")"
   ]
  },
  {
   "cell_type": "markdown",
   "id": "84c321ce-e617-4d8d-9125-cdbab13838c5",
   "metadata": {
    "editable": true,
    "slideshow": {
     "slide_type": "slide"
    },
    "tags": []
   },
   "source": [
    "## Ways of Running Julia\n",
    "\n",
    "- Command-line REPL\n",
    "    - This is what we just used\n",
    "    - Interactive\n",
    "    - Positives:\n",
    "        - Works easily over SSH\n",
    "        - Always available\n",
    "        - Quick\n",
    "        - Probably the best way to install packages\n",
    "    - Negatives:\n",
    "        - Session is lost when quitting\n",
    "        - Editing complex code is unpleasant"
   ]
  },
  {
   "cell_type": "markdown",
   "id": "d43ca60f-44a4-432d-bf50-c19a3340526b",
   "metadata": {
    "editable": true,
    "slideshow": {
     "slide_type": "subslide"
    },
    "tags": []
   },
   "source": [
    "- Running scripts\n",
    "    - Also launch from command line\n",
    "    - Like `julia my_script.jl`\n",
    "    - Edit the files in a regular text editor\n",
    "        - Recommended: VSCodium w/ the Julia extension\n",
    "    - Positives:\n",
    "        - Always available\n",
    "        - Best way to run a long-running program, especially on a server\n",
    "    - Negatives:\n",
    "        - Julia takes longer to start up than e.g. Python\n",
    "        - No interactivity"
   ]
  },
  {
   "cell_type": "markdown",
   "id": "323849a1-3834-4a9d-8976-a828f03457c4",
   "metadata": {
    "editable": true,
    "slideshow": {
     "slide_type": "subslide"
    },
    "tags": []
   },
   "source": [
    "- Notebooks\n",
    "    - Jupyter has good support for Julia\n",
    "        - Install the `IJulia` package\n",
    "        - Can launch from Julia REPL\n",
    "    - `Pluto.jl` is a reactive Julia-first notebook\n",
    "    - Positives\n",
    "        - Fantastic way to experiment, work with data\n",
    "        - Your file is saved like a script but is interactive like a REPL\n",
    "    - Negatives\n",
    "        - Notebooks can easily become disorganized (esp. Jupyter)\n",
    "        - Clunky to set up and use"
   ]
  },
  {
   "cell_type": "markdown",
   "id": "fc8a066c-91f5-4a26-b433-c706e99d72e1",
   "metadata": {
    "editable": true,
    "slideshow": {
     "slide_type": "slide"
    },
    "tags": []
   },
   "source": [
    "## The REPL\n",
    "\n",
    "- By default, you'll get the `julia>` prompt, from which you can write normal Julia code\n",
    "- Using some special keys, you can enter other modes\n",
    "- Try `?`: this gets you the `help?>` mode. Try typing `println`\n",
    "- `[Backspace]` exits the current mode\n",
    "- `;` lets you run shell commands (`cd`, `ls`, etc.)\n",
    "- Next, use `]` to get to the package manager\n",
    "  - For now, we'll just install `IJulia`\n",
    "  - Type `add IJulia`, and it'll install\n",
    "  - Now `notebook()` will open a Jupyter notebook\n",
    "- To use a package, type `using IJulia` in the normal mode"
   ]
  },
  {
   "cell_type": "markdown",
   "id": "a8c4f788-cb5a-42d4-b281-faf67723e7de",
   "metadata": {
    "editable": true,
    "slideshow": {
     "slide_type": "fragment"
    },
    "tags": []
   },
   "source": [
    "| Mode | Prompt | Key |\n",
    "|:--|:--|:--|\n",
    "| Normal REPL | `julia>` |  |\n",
    "| Help | `help?>` | `?` |\n",
    "| Package Management | `(project) pkg>` | `]` |\n",
    "| System Shell | `shell>` | `;` |"
   ]
  },
  {
   "cell_type": "markdown",
   "id": "05d8a8e7-c3a0-491b-9251-47f4998fb349",
   "metadata": {
    "editable": true,
    "slideshow": {
     "slide_type": "slide"
    },
    "tags": []
   },
   "source": [
    "## Finish Installing\n",
    "\n",
    "- Everyone should have run hello world in the REPL\n",
    "- Run hello world in Jupyter next\n",
    "    - Install w/ `]add IJulia`\n",
    "    - Run with `using IJulia; notebook()`\n",
    "- Then, install VSCodium or your preferred text editor\n",
    "    - Create a file called `hello.jl`\n",
    "    - Put hello world in it\n",
    "    - Navigate there with your command line\n",
    "        - NOT the Julia REPL\n",
    "    - Run hello world w/ `julia hello.jl`"
   ]
  },
  {
   "cell_type": "code",
   "execution_count": 2,
   "id": "ec7ee90d-5fe6-441f-95f6-6c47ffa3eafc",
   "metadata": {
    "editable": true,
    "slideshow": {
     "slide_type": "fragment"
    },
    "tags": []
   },
   "outputs": [
    {
     "name": "stdout",
     "output_type": "stream",
     "text": [
      "Hello, world!\n"
     ]
    }
   ],
   "source": [
    "println(\"Hello, world!\")"
   ]
  },
  {
   "cell_type": "markdown",
   "id": "5fcf2ff9-75e0-4a51-8d32-8a0da936e17c",
   "metadata": {
    "editable": true,
    "slideshow": {
     "slide_type": "slide"
    },
    "tags": []
   },
   "source": [
    "## What is and why use Julia?\n",
    "\n",
    "- Programming language specifically designed for scientific, mathematic, and numeric computing\n",
    "- Aims to solve the two-language problem\n",
    "  - Two language problem: when writing in a high-level, dynamic language you get expressiveness but slow code\n",
    "- Compared to most commonly-used languages:\n",
    "  - Good package manager and documentation tools\n",
    "  - Faster than most other dynamically-typed languages (Python, R, MATLAB, etc.)\n",
    "  - More expressive than most statially-typed languages (C++, FORTRAN, Java, etc.)\n",
    "- Let's try some things in the REPL!"
   ]
  },
  {
   "cell_type": "code",
   "execution_count": 3,
   "id": "14fe8c36-509f-4ab4-a32e-a5a9ca119cd1",
   "metadata": {
    "editable": true,
    "slideshow": {
     "slide_type": "subslide"
    },
    "tags": []
   },
   "outputs": [
    {
     "data": {
      "text/plain": [
       "5"
      ]
     },
     "execution_count": 3,
     "metadata": {},
     "output_type": "execute_result"
    }
   ],
   "source": [
    "x = 5"
   ]
  },
  {
   "cell_type": "code",
   "execution_count": 4,
   "id": "e18011ec-5625-4c9e-914f-197d8ac855e3",
   "metadata": {
    "editable": true,
    "slideshow": {
     "slide_type": "fragment"
    },
    "tags": []
   },
   "outputs": [
    {
     "data": {
      "text/plain": [
       "\"Hello\""
      ]
     },
     "execution_count": 4,
     "metadata": {},
     "output_type": "execute_result"
    }
   ],
   "source": [
    "α = \"Hello\" # not 'Hello'"
   ]
  },
  {
   "cell_type": "code",
   "execution_count": 5,
   "id": "870d97a9-365b-4cea-a5b5-697bd37dda88",
   "metadata": {
    "editable": true,
    "slideshow": {
     "slide_type": "fragment"
    },
    "tags": []
   },
   "outputs": [
    {
     "name": "stdout",
     "output_type": "stream",
     "text": [
      "The value of `α` is Hello, and its type is String\n"
     ]
    }
   ],
   "source": [
    "println(\"The value of `α` is $(α), and its type is \", typeof(α))"
   ]
  },
  {
   "cell_type": "code",
   "execution_count": 6,
   "id": "bcbe9458-2d4b-428b-be8a-1f597a91b33d",
   "metadata": {
    "editable": true,
    "slideshow": {
     "slide_type": "subslide"
    },
    "tags": []
   },
   "outputs": [
    {
     "name": "stdout",
     "output_type": "stream",
     "text": [
      "Tails\n"
     ]
    }
   ],
   "source": [
    "if rand(Bool)\n",
    "    println(\"Heads\")\n",
    "else\n",
    "    println(\"Tails\")\n",
    "end"
   ]
  },
  {
   "cell_type": "code",
   "execution_count": 7,
   "id": "d3724271-df27-4fbd-9c21-cd7507a1b228",
   "metadata": {
    "editable": true,
    "slideshow": {
     "slide_type": "fragment"
    },
    "tags": []
   },
   "outputs": [
    {
     "name": "stdout",
     "output_type": "stream",
     "text": [
      "it was false\n",
      "2\n"
     ]
    }
   ],
   "source": [
    "# if is an expression!\n",
    "x = if rand(Bool)\n",
    "    println(\"it was true\")\n",
    "    1\n",
    "else\n",
    "    println(\"it was false\")\n",
    "    2\n",
    "end\n",
    "println(x)"
   ]
  },
  {
   "cell_type": "code",
   "execution_count": 8,
   "id": "cac656f3-7aea-45d9-8347-c4c12c68f106",
   "metadata": {
    "editable": true,
    "slideshow": {
     "slide_type": "subslide"
    },
    "tags": []
   },
   "outputs": [
    {
     "name": "stdout",
     "output_type": "stream",
     "text": [
      "12\n",
      "9\n"
     ]
    }
   ],
   "source": [
    "function foo(x)\n",
    "    if x > 5\n",
    "        2x\n",
    "    else\n",
    "        3x\n",
    "    end\n",
    "end\n",
    "\n",
    "println(foo(6))\n",
    "println(foo(3))"
   ]
  },
  {
   "cell_type": "code",
   "execution_count": 9,
   "id": "070ab206-5cf4-4d17-b3dd-07f0b8f399d6",
   "metadata": {
    "editable": true,
    "slideshow": {
     "slide_type": "fragment"
    },
    "tags": []
   },
   "outputs": [
    {
     "data": {
      "text/plain": [
       "quadruple (generic function with 1 method)"
      ]
     },
     "execution_count": 9,
     "metadata": {},
     "output_type": "execute_result"
    }
   ],
   "source": [
    "quadruple(x) = 4x"
   ]
  },
  {
   "cell_type": "markdown",
   "id": "a6501fd5-f850-4184-a0f8-adec04194ce6",
   "metadata": {
    "editable": true,
    "slideshow": {
     "slide_type": "fragment"
    },
    "tags": []
   },
   "source": [
    "- this is exactly equivalent to\n",
    "\n",
    "```julia\n",
    "function quadruple(x)\n",
    "    return 4x\n",
    "end\n",
    "```"
   ]
  },
  {
   "cell_type": "code",
   "execution_count": 10,
   "id": "500cafe7-d544-4b9a-a81b-804b58ecf42d",
   "metadata": {
    "editable": true,
    "slideshow": {
     "slide_type": "subslide"
    },
    "tags": []
   },
   "outputs": [
    {
     "name": "stdout",
     "output_type": "stream",
     "text": [
      "0, 4, 8, 12, 16, "
     ]
    }
   ],
   "source": [
    "x = 0\n",
    "while x < 5\n",
    "    print(quadruple(x), \", \")\n",
    "    x += 1\n",
    "end"
   ]
  },
  {
   "cell_type": "code",
   "execution_count": 11,
   "id": "8eb9ed8f-0359-4b30-925a-1b0f4395d7e7",
   "metadata": {
    "editable": true,
    "slideshow": {
     "slide_type": "fragment"
    },
    "tags": []
   },
   "outputs": [
    {
     "name": "stdout",
     "output_type": "stream",
     "text": [
      "4, 8, 12, 16, 20, "
     ]
    }
   ],
   "source": [
    "xs = [1, 2, 3, 4, 5]\n",
    "for x in xs\n",
    "    print(quadruple(x), \", \")\n",
    "end"
   ]
  },
  {
   "cell_type": "markdown",
   "id": "ea2cbb54-7e11-4dd6-90d3-7b7127f56314",
   "metadata": {
    "editable": true,
    "slideshow": {
     "slide_type": "slide"
    },
    "tags": []
   },
   "source": [
    "## Types\n",
    "\n",
    "- Types play a big role in Julia\n",
    "- Unlike e.g. Python, Julia doesn't try to hide type from you and types carry more information"
   ]
  },
  {
   "cell_type": "code",
   "execution_count": 12,
   "id": "b85e9a93-aeb0-47a6-bf0c-6f61b37bba1e",
   "metadata": {
    "editable": true,
    "slideshow": {
     "slide_type": "fragment"
    },
    "tags": []
   },
   "outputs": [
    {
     "data": {
      "text/plain": [
       "Int64"
      ]
     },
     "execution_count": 12,
     "metadata": {},
     "output_type": "execute_result"
    }
   ],
   "source": [
    "typeof(5)"
   ]
  },
  {
   "cell_type": "code",
   "execution_count": 13,
   "id": "6af24ad2-56f6-43b4-a30c-0ac56881e215",
   "metadata": {
    "editable": true,
    "slideshow": {
     "slide_type": "fragment"
    },
    "tags": []
   },
   "outputs": [
    {
     "data": {
      "text/plain": [
       "String"
      ]
     },
     "execution_count": 13,
     "metadata": {},
     "output_type": "execute_result"
    }
   ],
   "source": [
    "typeof(\"Hello\")"
   ]
  },
  {
   "cell_type": "code",
   "execution_count": 14,
   "id": "626e270a-7dd3-407b-88b5-6ca2f875af83",
   "metadata": {
    "editable": true,
    "slideshow": {
     "slide_type": "fragment"
    },
    "tags": []
   },
   "outputs": [
    {
     "data": {
      "text/plain": [
       "Char"
      ]
     },
     "execution_count": 14,
     "metadata": {},
     "output_type": "execute_result"
    }
   ],
   "source": [
    "typeof(\"Goodbye\"[1])"
   ]
  },
  {
   "cell_type": "code",
   "execution_count": 15,
   "id": "de7235c2-db50-4d3c-9839-c9979d26a85c",
   "metadata": {
    "editable": true,
    "slideshow": {
     "slide_type": "fragment"
    },
    "tags": []
   },
   "outputs": [
    {
     "data": {
      "text/plain": [
       "UnitRange{Int64}"
      ]
     },
     "execution_count": 15,
     "metadata": {},
     "output_type": "execute_result"
    }
   ],
   "source": [
    "typeof(1:5)"
   ]
  },
  {
   "cell_type": "code",
   "execution_count": 16,
   "id": "c7d4e153-cecb-4d2a-93d9-3be1e1966819",
   "metadata": {
    "editable": true,
    "slideshow": {
     "slide_type": "fragment"
    },
    "tags": []
   },
   "outputs": [
    {
     "name": "stdout",
     "output_type": "stream",
     "text": [
      "1, 2, 3, 4, 5, 6, 7, 8, 9, 10, "
     ]
    }
   ],
   "source": [
    "for i in 1:10\n",
    "    print(i, \", \")\n",
    "end"
   ]
  },
  {
   "cell_type": "markdown",
   "id": "f84b47f7-24a8-4e46-86ef-e0576d876385",
   "metadata": {
    "editable": true,
    "slideshow": {
     "slide_type": "slide"
    },
    "tags": []
   },
   "source": [
    "### Arrays\n",
    "\n",
    "- Julia has built-in multidimensional arrays"
   ]
  },
  {
   "cell_type": "code",
   "execution_count": 17,
   "id": "d59be6fc-3fe2-4af2-9555-4f0aeffc8bcc",
   "metadata": {
    "editable": true,
    "slideshow": {
     "slide_type": "fragment"
    },
    "tags": []
   },
   "outputs": [
    {
     "name": "stdout",
     "output_type": "stream",
     "text": [
      "1, 2, 3, 4, "
     ]
    }
   ],
   "source": [
    "xs = [1, 2, 3, 4]\n",
    "\n",
    "for i in 1:4\n",
    "    print(xs[i], \", \")\n",
    "end"
   ]
  },
  {
   "cell_type": "code",
   "execution_count": 18,
   "id": "4f8146fb-8ed9-444a-8d90-9f288f31eb00",
   "metadata": {
    "editable": true,
    "slideshow": {
     "slide_type": "fragment"
    },
    "tags": []
   },
   "outputs": [
    {
     "data": {
      "text/plain": [
       "3-element Vector{Float64}:\n",
       " 20.0\n",
       " 47.0\n",
       " 74.0"
      ]
     },
     "execution_count": 18,
     "metadata": {},
     "output_type": "execute_result"
    }
   ],
   "source": [
    "A = [1 2 3; 4 5 6; 7 8 9]\n",
    "x = [2.0, 3.0, 4.0]\n",
    "\n",
    "A * x"
   ]
  },
  {
   "cell_type": "markdown",
   "id": "5f79b1c4-0fdf-4518-9465-ce326c8d7ebc",
   "metadata": {
    "editable": true,
    "slideshow": {
     "slide_type": "subslide"
    },
    "tags": []
   },
   "source": [
    "- It also has special syntax for broadcasting operations"
   ]
  },
  {
   "cell_type": "code",
   "execution_count": 19,
   "id": "1a42f716-04fc-4297-a7f3-fc27e0cb36c1",
   "metadata": {
    "editable": true,
    "slideshow": {
     "slide_type": "fragment"
    },
    "tags": []
   },
   "outputs": [
    {
     "data": {
      "text/plain": [
       "3×3 Matrix{Float64}:\n",
       " 1.11891e6  1.37482e6  1.63072e6\n",
       " 2.53388e6  3.11342e6  3.69295e6\n",
       " 3.94886e6  4.85201e6  5.75517e6"
      ]
     },
     "execution_count": 19,
     "metadata": {},
     "output_type": "execute_result"
    }
   ],
   "source": [
    "ℯ ^ A # \\euler"
   ]
  },
  {
   "cell_type": "code",
   "execution_count": 20,
   "id": "9bc8d14c-58cc-4b4d-bc14-f54f134f0b26",
   "metadata": {
    "editable": true,
    "slideshow": {
     "slide_type": "fragment"
    },
    "tags": []
   },
   "outputs": [
    {
     "data": {
      "text/plain": [
       "3×3 Matrix{Float64}:\n",
       "    2.71828     7.38906    20.0855\n",
       "   54.5982    148.413     403.429\n",
       " 1096.63     2980.96     8103.08"
      ]
     },
     "execution_count": 20,
     "metadata": {},
     "output_type": "execute_result"
    }
   ],
   "source": [
    "ℯ .^ A"
   ]
  },
  {
   "cell_type": "code",
   "execution_count": 21,
   "id": "a4361cd6-4dcc-4f53-b4ad-b2065edd21ad",
   "metadata": {
    "editable": true,
    "slideshow": {
     "slide_type": "fragment"
    },
    "tags": []
   },
   "outputs": [
    {
     "data": {
      "text/plain": [
       "3-element Vector{Float64}:\n",
       "  0.9092974268256817\n",
       "  0.1411200080598672\n",
       " -0.7568024953079282"
      ]
     },
     "execution_count": 21,
     "metadata": {},
     "output_type": "execute_result"
    }
   ],
   "source": [
    "sin.(x)"
   ]
  },
  {
   "cell_type": "markdown",
   "id": "dcc75426-2d93-4bee-a969-483b7cfc50ba",
   "metadata": {
    "editable": true,
    "slideshow": {
     "slide_type": "slide"
    },
    "tags": []
   },
   "source": [
    "## Guessing Game\n",
    "\n",
    "- Instructions:\n",
    "  - Pick a number between 1 and 100\n",
    "  - Take guesses from the terminal, and say if it's too high or too low\n",
    "  - Repeat until the right number is entered\n",
    "  - You might need to wrap the whole thing in a function (example shown below)\n",
    "- You will need:\n",
    "  - `rand(a:b)` picks a random integer in $[a, b]$\n",
    "  - `readline()` reads a line of input from the terminal\n",
    "  - `parse(Int, s)` parses the `String` `s` as an `Int`\n",
    "- Optional:\n",
    "  - Improve the function getting a number so that it asks again if the number is out of range\n",
    "  - Wrap the script in a function which takes a range\n",
    "  - Limit the number of guesses so that the player must guess optimally"
   ]
  },
  {
   "cell_type": "markdown",
   "id": "6d3da136-61eb-4dcf-9b72-e9c711b5ffca",
   "metadata": {
    "editable": true,
    "slideshow": {
     "slide_type": "fragment"
    },
    "tags": []
   },
   "source": [
    "```julia\n",
    "function main()\n",
    "    # your code here\n",
    "end\n",
    "main()\n",
    "```"
   ]
  },
  {
   "cell_type": "markdown",
   "id": "1661c139-79b0-4582-b855-bb7e540e0d6d",
   "metadata": {
    "editable": true,
    "slideshow": {
     "slide_type": "subslide"
    },
    "tags": []
   },
   "source": [
    "```julia\n",
    "function main()\n",
    "    number = rand(1:100)\n",
    "    \n",
    "    println(\"Pick a number between 1 and 100:\")\n",
    "    \n",
    "    get_number() = parse(Int, readline())\n",
    "    \n",
    "    input = get_number()\n",
    "    \n",
    "    while input != number\n",
    "        if input > number\n",
    "            println(\"Too high!\")\n",
    "        else\n",
    "            println(\"Too low!\")\n",
    "        end\n",
    "        println(\"Enter another number:\")\n",
    "        input = get_number()\n",
    "    end\n",
    "    \n",
    "    println(\"You got it!\")\n",
    "end\n",
    "```"
   ]
  },
  {
   "cell_type": "markdown",
   "id": "d9ac640d-d86a-4baa-ab55-ae5f4853b8eb",
   "metadata": {
    "editable": true,
    "slideshow": {
     "slide_type": "slide"
    },
    "tags": []
   },
   "source": [
    "## A Little More of the Language\n",
    "\n",
    "- We need to introduce some terminology, then we'll apply it\n",
    "- Types form a tree, the root of which is `Any`\n",
    "- Every type is either _abstract_ or _concrete_\n",
    "  - Only abstract types may have subtypes\n",
    "      - No subclasses\n",
    "  - Values always have a concrete type\n",
    "\n",
    "![Subtypes Diagram](https://juliaworkshop.miakramer.space/static/subtypes.png)"
   ]
  },
  {
   "cell_type": "markdown",
   "id": "e6a75c00-2692-4af2-a2cd-c5c1056ba363",
   "metadata": {
    "editable": true,
    "slideshow": {
     "slide_type": "fragment"
    },
    "tags": []
   },
   "source": [
    "- In other words, for any variable `x`, `isabstracttype(typeof(x))` is `false`."
   ]
  },
  {
   "cell_type": "code",
   "execution_count": 22,
   "id": "40023144-5dc5-40e0-928b-eec8df5db1a5",
   "metadata": {
    "editable": true,
    "slideshow": {
     "slide_type": "fragment"
    },
    "tags": []
   },
   "outputs": [
    {
     "data": {
      "text/plain": [
       "Signed"
      ]
     },
     "execution_count": 22,
     "metadata": {},
     "output_type": "execute_result"
    }
   ],
   "source": [
    "supertype(Int)"
   ]
  },
  {
   "cell_type": "code",
   "execution_count": 23,
   "id": "b2a29f87-4f4e-4468-8cff-3ec588257b65",
   "metadata": {
    "editable": true,
    "slideshow": {
     "slide_type": "fragment"
    },
    "tags": []
   },
   "outputs": [
    {
     "data": {
      "text/plain": [
       "3-element Vector{Any}:\n",
       " Bool\n",
       " Signed\n",
       " Unsigned"
      ]
     },
     "execution_count": 23,
     "metadata": {},
     "output_type": "execute_result"
    }
   ],
   "source": [
    "subtypes(Integer)"
   ]
  },
  {
   "cell_type": "code",
   "execution_count": 24,
   "id": "679b3a6b-8374-4b63-881f-ebfd44eff36d",
   "metadata": {
    "editable": true,
    "slideshow": {
     "slide_type": "fragment"
    },
    "tags": []
   },
   "outputs": [
    {
     "data": {
      "text/plain": [
       "true"
      ]
     },
     "execution_count": 24,
     "metadata": {},
     "output_type": "execute_result"
    }
   ],
   "source": [
    "# is Int a subtype of Real?\n",
    "Int <: Real"
   ]
  },
  {
   "cell_type": "code",
   "execution_count": 25,
   "id": "092ef456-dea7-4088-9578-38c48f3a0cd2",
   "metadata": {
    "editable": true,
    "slideshow": {
     "slide_type": "fragment"
    },
    "tags": []
   },
   "outputs": [
    {
     "data": {
      "text/plain": [
       "true"
      ]
     },
     "execution_count": 25,
     "metadata": {},
     "output_type": "execute_result"
    }
   ],
   "source": [
    "# is 5 an Integer?\n",
    "5 isa Integer"
   ]
  },
  {
   "cell_type": "markdown",
   "id": "9e1a9a5a-f13c-4720-985a-40291cfc5cff",
   "metadata": {
    "editable": true,
    "slideshow": {
     "slide_type": ""
    },
    "tags": []
   },
   "source": [
    "- `x isa T` if `typeof(x) <: T`"
   ]
  },
  {
   "cell_type": "code",
   "execution_count": 26,
   "id": "36575725-d77a-49bb-9d0e-bb539efe4146",
   "metadata": {
    "editable": true,
    "slideshow": {
     "slide_type": "fragment"
    },
    "tags": []
   },
   "outputs": [
    {
     "data": {
      "text/plain": [
       "(false, true)"
      ]
     },
     "execution_count": 26,
     "metadata": {},
     "output_type": "execute_result"
    }
   ],
   "source": [
    "isabstracttype(Bool), isabstracttype(Signed)"
   ]
  },
  {
   "cell_type": "markdown",
   "id": "e10c02d0-ed5f-478a-93a9-6a5de9cc27f1",
   "metadata": {
    "editable": true,
    "slideshow": {
     "slide_type": "subslide"
    },
    "tags": []
   },
   "source": [
    "- Types may have parameters\n",
    "  - `Vector` is an abstract (-ish) type, `Vector{Float64}` is a list of 64-bit floats\n",
    "- Note: types are _invariant_ w.r.t. their parameters\n",
    "  - `Float64 <: Real` but `!(Vector{Float64} <: Vector{Real})`\n",
    "  - The exception is `Tuple`\n",
    "- Julia always tries to _infer_ appropriate types"
   ]
  },
  {
   "cell_type": "code",
   "execution_count": 27,
   "id": "76d2901e-548b-467f-af43-3a056cf18c4c",
   "metadata": {
    "editable": true,
    "slideshow": {
     "slide_type": "fragment"
    },
    "tags": []
   },
   "outputs": [
    {
     "data": {
      "text/plain": [
       "Vector{Int64}\u001b[90m (alias for \u001b[39m\u001b[90mArray{Int64, 1}\u001b[39m\u001b[90m)\u001b[39m"
      ]
     },
     "execution_count": 27,
     "metadata": {},
     "output_type": "execute_result"
    }
   ],
   "source": [
    "a = [1, 2, 3]\n",
    "typeof(a)"
   ]
  },
  {
   "cell_type": "code",
   "execution_count": 28,
   "id": "24ca599c-8661-4b9b-881d-257b7a6980be",
   "metadata": {
    "editable": true,
    "slideshow": {
     "slide_type": "fragment"
    },
    "tags": []
   },
   "outputs": [
    {
     "data": {
      "text/plain": [
       "Vector{ComplexF64}\u001b[90m (alias for \u001b[39m\u001b[90mArray{Complex{Float64}, 1}\u001b[39m\u001b[90m)\u001b[39m"
      ]
     },
     "execution_count": 28,
     "metadata": {},
     "output_type": "execute_result"
    }
   ],
   "source": [
    "b = [1, 2.0, 3im]\n",
    "typeof(b)"
   ]
  },
  {
   "cell_type": "code",
   "execution_count": 29,
   "id": "ceb5e818-585c-4766-8eef-82236124e326",
   "metadata": {
    "editable": true,
    "slideshow": {
     "slide_type": "fragment"
    },
    "tags": []
   },
   "outputs": [
    {
     "data": {
      "text/plain": [
       "Vector{Any}\u001b[90m (alias for \u001b[39m\u001b[90mArray{Any, 1}\u001b[39m\u001b[90m)\u001b[39m"
      ]
     },
     "execution_count": 29,
     "metadata": {},
     "output_type": "execute_result"
    }
   ],
   "source": [
    "c = [\"Hello\", 5, 1:6]\n",
    "typeof(c)"
   ]
  },
  {
   "cell_type": "markdown",
   "id": "af094332-95b6-4d23-8697-3b0a6ddbbb0c",
   "metadata": {
    "editable": true,
    "slideshow": {
     "slide_type": "fragment"
    },
    "tags": []
   },
   "source": [
    "- For parametric types, you want concrete parameters whenever possible\n",
    "  - We'll talk more about that next time"
   ]
  },
  {
   "cell_type": "code",
   "execution_count": 30,
   "id": "9046b7b3-89ca-4c90-88c7-e12c3b8a55be",
   "metadata": {
    "editable": true,
    "slideshow": {
     "slide_type": "subslide"
    },
    "tags": []
   },
   "outputs": [
    {
     "ename": "LoadError",
     "evalue": "InexactError: Int64(1.5)",
     "output_type": "error",
     "traceback": [
      "InexactError: Int64(1.5)",
      "",
      "Stacktrace:",
      " [1] Int64",
      "   @ ./float.jl:912 [inlined]",
      " [2] convert",
      "   @ ./number.jl:7 [inlined]",
      " [3] push!(a::Vector{Int64}, item::Float64)",
      "   @ Base ./array.jl:1118",
      " [4] top-level scope",
      "   @ In[30]:5"
     ]
    }
   ],
   "source": [
    "A = Int[] # Vector{Int64}\n",
    "\n",
    "push!(A, 1)\n",
    "push!(A, UInt8(1))\n",
    "push!(A, 1.5)"
   ]
  },
  {
   "cell_type": "code",
   "execution_count": 31,
   "id": "03e6fb29-9b9b-40db-ad05-8cb522e01fd2",
   "metadata": {
    "editable": true,
    "slideshow": {
     "slide_type": "fragment"
    },
    "tags": []
   },
   "outputs": [
    {
     "data": {
      "text/plain": [
       "3-element Vector{Real}:\n",
       " 1\n",
       " 1.5\n",
       " π = 3.1415926535897..."
      ]
     },
     "execution_count": 31,
     "metadata": {},
     "output_type": "execute_result"
    }
   ],
   "source": [
    "A = Real[]\n",
    "\n",
    "push!(A, 1)\n",
    "push!(A, 1.5)\n",
    "push!(A, π)\n",
    "# but you almost certainly don't want this..."
   ]
  }
 ],
 "metadata": {
  "kernelspec": {
   "display_name": "Julia 1.10.5",
   "language": "julia",
   "name": "julia-1.10"
  },
  "language_info": {
   "file_extension": ".jl",
   "mimetype": "application/julia",
   "name": "julia",
   "version": "1.10.5"
  }
 },
 "nbformat": 4,
 "nbformat_minor": 5
}
