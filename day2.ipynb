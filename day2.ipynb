{
 "cells": [
  {
   "cell_type": "markdown",
   "id": "2554cef5-bf8b-4da5-9780-93d9d730aa8c",
   "metadata": {
    "editable": true,
    "slideshow": {
     "slide_type": ""
    },
    "tags": []
   },
   "source": [
    "# Day 2: Multiple Dispatch\n",
    "\n",
    "Goals for today:\n",
    "\n",
    "- Understand multiple dispatch\n",
    "- Use multiple dispatch\n",
    "- Use interfaces\n",
    "- Write your own types"
   ]
  },
  {
   "cell_type": "markdown",
   "id": "17fdf50a-2950-4b52-913d-d4570abc98b8",
   "metadata": {
    "editable": true,
    "slideshow": {
     "slide_type": "slide"
    },
    "tags": []
   },
   "source": [
    "## Multiple Dispatch\n",
    "\n",
    "- This is the core paradigm of Julia\n",
    "  - Called multimethods if you're coming from the Lisp world\n",
    "- One _function_ may have many _methods_"
   ]
  },
  {
   "cell_type": "code",
   "execution_count": 1,
   "id": "b40ce508-1d4a-400e-a19f-9ffbe7df7823",
   "metadata": {
    "editable": true,
    "slideshow": {
     "slide_type": "fragment"
    },
    "tags": []
   },
   "outputs": [
    {
     "data": {
      "text/plain": [
       "bar (generic function with 3 methods)"
      ]
     },
     "execution_count": 1,
     "metadata": {},
     "output_type": "execute_result"
    }
   ],
   "source": [
    "bar(x)          = x  # implicitly ::Any\n",
    "bar(x::Integer) = 2x\n",
    "bar(x::Int8)    = 3x"
   ]
  },
  {
   "cell_type": "code",
   "execution_count": 2,
   "id": "942a17ba-8922-48e2-bfa6-f7378ca02ccf",
   "metadata": {
    "editable": true,
    "slideshow": {
     "slide_type": "fragment"
    },
    "tags": []
   },
   "outputs": [
    {
     "data": {
      "text/plain": [
       "1.0"
      ]
     },
     "execution_count": 2,
     "metadata": {},
     "output_type": "execute_result"
    }
   ],
   "source": [
    "bar(1.0) # Float64"
   ]
  },
  {
   "cell_type": "code",
   "execution_count": 3,
   "id": "14712847-e8ab-452f-b722-e8f51496e14d",
   "metadata": {
    "editable": true,
    "slideshow": {
     "slide_type": "fragment"
    },
    "tags": []
   },
   "outputs": [
    {
     "data": {
      "text/plain": [
       "2"
      ]
     },
     "execution_count": 3,
     "metadata": {},
     "output_type": "execute_result"
    }
   ],
   "source": [
    "bar(1) # Int64"
   ]
  },
  {
   "cell_type": "code",
   "execution_count": 4,
   "id": "bfe670c7-9130-464f-9722-3bb49b75a628",
   "metadata": {
    "editable": true,
    "slideshow": {
     "slide_type": "fragment"
    },
    "tags": []
   },
   "outputs": [
    {
     "data": {
      "text/plain": [
       "3"
      ]
     },
     "execution_count": 4,
     "metadata": {},
     "output_type": "execute_result"
    }
   ],
   "source": [
    "bar(Int8(1)) # Int8"
   ]
  },
  {
   "cell_type": "code",
   "execution_count": 5,
   "id": "56d586fb-794f-44fb-a15e-dbcf3f8e4b44",
   "metadata": {
    "editable": true,
    "slideshow": {
     "slide_type": "fragment"
    },
    "tags": []
   },
   "outputs": [
    {
     "data": {
      "text/html": [
       "bar(x::<b>Integer</b>) in Main at In[1]:2"
      ],
      "text/plain": [
       "bar(\u001b[90mx\u001b[39m::\u001b[1mInteger\u001b[22m)\n",
       "\u001b[90m     @\u001b[39m \u001b[90mMain\u001b[39m \u001b[90m\u001b[4mIn[1]:2\u001b[24m\u001b[39m"
      ]
     },
     "execution_count": 5,
     "metadata": {},
     "output_type": "execute_result"
    }
   ],
   "source": [
    "@which bar(10)"
   ]
  },
  {
   "cell_type": "markdown",
   "id": "695c1208-f7ed-4625-9f85-eaec0f5cb269",
   "metadata": {
    "editable": true,
    "slideshow": {
     "slide_type": "subslide"
    },
    "tags": []
   },
   "source": [
    "- This is the basis for how Julia works\n",
    "- Even basic operators are functions that use multiple dispatch!"
   ]
  },
  {
   "cell_type": "code",
   "execution_count": 6,
   "id": "110f5e9d-a7c9-489d-863d-542b3b23e438",
   "metadata": {
    "editable": true,
    "slideshow": {
     "slide_type": ""
    },
    "tags": []
   },
   "outputs": [
    {
     "data": {
      "text/html": [
       "+(x::<b>T</b>, y::<b>T</b>)<i> where T<:Union{Int128, Int16, Int32, Int64, Int8, UInt128, UInt16, UInt32, UInt64, UInt8}</i> in Base at <a href=\"https://github.com/JuliaLang/julia/tree/6f3fdf7b36250fb95f512a2b927ad2518c07d2b5/base/int.jl#L87\" target=\"_blank\">int.jl:87</a>"
      ],
      "text/plain": [
       "+(\u001b[90mx\u001b[39m::\u001b[1mT\u001b[22m, \u001b[90my\u001b[39m::\u001b[1mT\u001b[22m) where T<:Union{Int128, Int16, Int32, Int64, Int8, UInt128, UInt16, UInt32, UInt64, UInt8}\n",
       "\u001b[90m     @\u001b[39m \u001b[90mBase\u001b[39m \u001b[90m\u001b[4mint.jl:87\u001b[24m\u001b[39m"
      ]
     },
     "execution_count": 6,
     "metadata": {},
     "output_type": "execute_result"
    }
   ],
   "source": [
    "@which +(1, 2)"
   ]
  },
  {
   "cell_type": "code",
   "execution_count": 7,
   "id": "2f89c854-cb24-42f3-b33c-c16a1dd56094",
   "metadata": {
    "editable": true,
    "slideshow": {
     "slide_type": ""
    },
    "tags": []
   },
   "outputs": [
    {
     "data": {
      "text/html": [
       "+(x::<b>T</b>, y::<b>T</b>)<i> where T<:Union{Float16, Float32, Float64}</i> in Base at <a href=\"https://github.com/JuliaLang/julia/tree/6f3fdf7b36250fb95f512a2b927ad2518c07d2b5/base/float.jl#L409\" target=\"_blank\">float.jl:409</a>"
      ],
      "text/plain": [
       "+(\u001b[90mx\u001b[39m::\u001b[1mT\u001b[22m, \u001b[90my\u001b[39m::\u001b[1mT\u001b[22m) where T<:Union{Float16, Float32, Float64}\n",
       "\u001b[90m     @\u001b[39m \u001b[90mBase\u001b[39m \u001b[90m\u001b[4mfloat.jl:409\u001b[24m\u001b[39m"
      ]
     },
     "execution_count": 7,
     "metadata": {},
     "output_type": "execute_result"
    }
   ],
   "source": [
    "@which +(1.0, 2.0)"
   ]
  },
  {
   "cell_type": "code",
   "execution_count": 8,
   "id": "2e2ec423-a0ff-4f4c-9f32-0c5a7c90a4a0",
   "metadata": {
    "editable": true,
    "slideshow": {
     "slide_type": ""
    },
    "tags": []
   },
   "outputs": [
    {
     "data": {
      "text/html": [
       "+(x::<b>Real</b>, z::<b>Complex</b>) in Base at <a href=\"https://github.com/JuliaLang/julia/tree/6f3fdf7b36250fb95f512a2b927ad2518c07d2b5/base/complex.jl#L331\" target=\"_blank\">complex.jl:331</a>"
      ],
      "text/plain": [
       "+(\u001b[90mx\u001b[39m::\u001b[1mReal\u001b[22m, \u001b[90mz\u001b[39m::\u001b[1mComplex\u001b[22m)\n",
       "\u001b[90m     @\u001b[39m \u001b[90mBase\u001b[39m \u001b[90m\u001b[4mcomplex.jl:331\u001b[24m\u001b[39m"
      ]
     },
     "execution_count": 8,
     "metadata": {},
     "output_type": "execute_result"
    }
   ],
   "source": [
    "@which +(1.0, 3.0im)"
   ]
  },
  {
   "cell_type": "markdown",
   "id": "e65ea5c2-923e-4817-b3d1-ae0105d9aaa3",
   "metadata": {
    "editable": true,
    "slideshow": {
     "slide_type": "slide"
    },
    "tags": []
   },
   "source": [
    "## Writing Our Own Type\n",
    "\n",
    "- Let's do integers modulo $n$"
   ]
  },
  {
   "cell_type": "code",
   "execution_count": 9,
   "id": "95db60b6-0698-47fe-84fa-f57c56eba08f",
   "metadata": {
    "editable": true,
    "slideshow": {
     "slide_type": "fragment"
    },
    "tags": []
   },
   "outputs": [],
   "source": [
    "struct IntModN <: Integer\n",
    "    value::Int\n",
    "    modulus::Int\n",
    "end"
   ]
  },
  {
   "cell_type": "code",
   "execution_count": 10,
   "id": "3233e487-df77-4cc8-8189-d4e211e96360",
   "metadata": {
    "editable": true,
    "slideshow": {
     "slide_type": "fragment"
    },
    "tags": []
   },
   "outputs": [
    {
     "data": {
      "text/plain": [
       "IntModN(10, 3)"
      ]
     },
     "execution_count": 10,
     "metadata": {},
     "output_type": "execute_result"
    }
   ],
   "source": [
    "IntModN(10, 3)"
   ]
  },
  {
   "cell_type": "code",
   "execution_count": 11,
   "id": "ef788bcb-1095-4e4a-95a4-2e1d4b5dc95f",
   "metadata": {
    "editable": true,
    "slideshow": {
     "slide_type": "fragment"
    },
    "tags": []
   },
   "outputs": [
    {
     "data": {
      "text/plain": [
       "show (generic function with 278 methods)"
      ]
     },
     "execution_count": 11,
     "metadata": {},
     "output_type": "execute_result"
    }
   ],
   "source": [
    "import Base.show # needed to add a method to someone else's function\n",
    "show(io::IO, x::IntModN) = print(io, \"IntModN($(x.value) mod $(x.modulus))\")"
   ]
  },
  {
   "cell_type": "code",
   "execution_count": 12,
   "id": "1a46cde1-93c2-4881-90dc-8f43070d1aad",
   "metadata": {
    "editable": true,
    "slideshow": {
     "slide_type": ""
    },
    "tags": []
   },
   "outputs": [
    {
     "data": {
      "text/plain": [
       "IntModN(10 mod 3)"
      ]
     },
     "execution_count": 12,
     "metadata": {},
     "output_type": "execute_result"
    }
   ],
   "source": [
    "IntModN(10, 3)"
   ]
  },
  {
   "cell_type": "markdown",
   "id": "ba01f9b0-8752-43d2-8c92-b741de93c952",
   "metadata": {
    "editable": true,
    "slideshow": {
     "slide_type": "subslide"
    },
    "tags": []
   },
   "source": [
    "- Now, let's define addition"
   ]
  },
  {
   "cell_type": "code",
   "execution_count": 13,
   "id": "e6804909-ab40-43c2-bda1-db01db7c918f",
   "metadata": {
    "editable": true,
    "slideshow": {
     "slide_type": "fragment"
    },
    "tags": []
   },
   "outputs": [],
   "source": [
    "struct MismatchedModulusException <: Exception\n",
    "    first::IntModN\n",
    "    second::IntModN\n",
    "end"
   ]
  },
  {
   "cell_type": "code",
   "execution_count": 14,
   "id": "80fbf777-8790-4890-90de-95c617daf31b",
   "metadata": {
    "editable": true,
    "slideshow": {
     "slide_type": "fragment"
    },
    "tags": []
   },
   "outputs": [
    {
     "data": {
      "text/plain": [
       "+ (generic function with 190 methods)"
      ]
     },
     "execution_count": 14,
     "metadata": {},
     "output_type": "execute_result"
    }
   ],
   "source": [
    "import Base.+\n",
    "function +(x::IntModN, y::IntModN)\n",
    "    if x.modulus != y.modulus\n",
    "        throw(MismatchedModulusException(x, y))\n",
    "    end\n",
    "    IntModN(x.value + y.value, x.modulus)\n",
    "end"
   ]
  },
  {
   "cell_type": "code",
   "execution_count": 15,
   "id": "2df657f2-d280-43a2-9e94-680d0188aa23",
   "metadata": {
    "editable": true,
    "slideshow": {
     "slide_type": "fragment"
    },
    "tags": []
   },
   "outputs": [
    {
     "data": {
      "text/plain": [
       "IntModN(28 mod 10)"
      ]
     },
     "execution_count": 15,
     "metadata": {},
     "output_type": "execute_result"
    }
   ],
   "source": [
    "IntModN(5, 10) + IntModN(23, 10)"
   ]
  },
  {
   "cell_type": "code",
   "execution_count": 16,
   "id": "58bce934-5252-4bbf-8d1d-ace0db57347e",
   "metadata": {
    "editable": true,
    "slideshow": {
     "slide_type": "fragment"
    },
    "tags": []
   },
   "outputs": [
    {
     "ename": "LoadError",
     "evalue": "MismatchedModulusException(IntModN(1 mod 2), IntModN(1 mod 3))",
     "output_type": "error",
     "traceback": [
      "MismatchedModulusException(IntModN(1 mod 2), IntModN(1 mod 3))",
      "",
      "Stacktrace:",
      " [1] +(x::IntModN, y::IntModN)",
      "   @ Main ./In[14]:4",
      " [2] top-level scope",
      "   @ In[16]:1"
     ]
    }
   ],
   "source": [
    "IntModN(1, 2) + IntModN(1, 3)"
   ]
  },
  {
   "cell_type": "code",
   "execution_count": 17,
   "id": "daf85ec1-7446-4dae-b3e1-459679e5d1ed",
   "metadata": {
    "editable": true,
    "slideshow": {
     "slide_type": "subslide"
    },
    "tags": []
   },
   "outputs": [
    {
     "data": {
      "text/plain": [
       "congruent (generic function with 1 method)"
      ]
     },
     "execution_count": 17,
     "metadata": {},
     "output_type": "execute_result"
    }
   ],
   "source": [
    "function congruent(x::IntModN, y::IntModN)\n",
    "    if x.modulus != y.modulus\n",
    "        throw(MismatchedModulusException(x, y))\n",
    "    end\n",
    "    mod(x.value, x.modulus) == mod(y.value, x.modulus)\n",
    "end"
   ]
  },
  {
   "cell_type": "code",
   "execution_count": 18,
   "id": "cc7fdb3d-dc11-43e8-8adf-9dc022083515",
   "metadata": {
    "editable": true,
    "slideshow": {
     "slide_type": "fragment"
    },
    "tags": []
   },
   "outputs": [
    {
     "data": {
      "text/plain": [
       "true"
      ]
     },
     "execution_count": 18,
     "metadata": {},
     "output_type": "execute_result"
    }
   ],
   "source": [
    "congruent(IntModN(1, 10), IntModN(11, 10))"
   ]
  },
  {
   "cell_type": "code",
   "execution_count": 19,
   "id": "20591d5c-5b31-4dfe-848c-ff72eb3d1a67",
   "metadata": {
    "editable": true,
    "slideshow": {
     "slide_type": "fragment"
    },
    "tags": []
   },
   "outputs": [
    {
     "data": {
      "text/plain": [
       "true"
      ]
     },
     "execution_count": 19,
     "metadata": {},
     "output_type": "execute_result"
    }
   ],
   "source": [
    "congruent(IntModN(1, 10) + IntModN(1, 10), IntModN(22, 10))"
   ]
  },
  {
   "cell_type": "code",
   "execution_count": 20,
   "id": "03212ec7-c7cc-45e6-9533-05afcd08a793",
   "metadata": {
    "editable": true,
    "slideshow": {
     "slide_type": "fragment"
    },
    "tags": []
   },
   "outputs": [
    {
     "data": {
      "text/plain": [
       "true"
      ]
     },
     "execution_count": 20,
     "metadata": {},
     "output_type": "execute_result"
    }
   ],
   "source": [
    "congruent(IntModN(1, 10) + IntModN(1, 10), IntModN(22, 10))"
   ]
  },
  {
   "cell_type": "markdown",
   "id": "eac377c6-6d42-4186-9e78-867304a730f5",
   "metadata": {
    "editable": true,
    "slideshow": {
     "slide_type": "slide"
    },
    "tags": []
   },
   "source": [
    "## Making Our Own Parametric Type\n",
    "\n",
    "- We explicitly used `Int` for our storage\n",
    "- But what if we want to make it generic?\n",
    "  - For example, if we're dealing with numbers larger than `typemax(Int)`\n",
    "  - Or, we need to store a huge number of them but we know they'll all be small"
   ]
  },
  {
   "cell_type": "code",
   "execution_count": 21,
   "id": "131ae13c-d13b-4c4b-9ec7-1685e10a14d8",
   "metadata": {
    "editable": true,
    "slideshow": {
     "slide_type": "fragment"
    },
    "tags": []
   },
   "outputs": [],
   "source": [
    "struct ModN{T <: Integer} <: Integer\n",
    "    value::T\n",
    "    modulus::T\n",
    "end"
   ]
  },
  {
   "cell_type": "code",
   "execution_count": 22,
   "id": "4aedda65-7c64-4241-ae75-1b26a106aaaf",
   "metadata": {
    "editable": true,
    "slideshow": {
     "slide_type": ""
    },
    "tags": []
   },
   "outputs": [
    {
     "data": {
      "text/plain": [
       "show (generic function with 279 methods)"
      ]
     },
     "execution_count": 22,
     "metadata": {},
     "output_type": "execute_result"
    }
   ],
   "source": [
    "function show(io::IO, x::ModN{T}) where {T <: Integer}\n",
    "    print(io, \"ModN{$T}($(x.value) mod $(x.modulus))\")\n",
    "end"
   ]
  },
  {
   "cell_type": "code",
   "execution_count": 23,
   "id": "cad5ead4-9813-49b1-bac6-e094414bccaa",
   "metadata": {
    "editable": true,
    "slideshow": {
     "slide_type": "fragment"
    },
    "tags": []
   },
   "outputs": [
    {
     "data": {
      "text/plain": [
       "ModN{UInt8}(1 mod 2)"
      ]
     },
     "execution_count": 23,
     "metadata": {},
     "output_type": "execute_result"
    }
   ],
   "source": [
    "ModN(0x1, 0x2)"
   ]
  },
  {
   "cell_type": "code",
   "execution_count": 24,
   "id": "cad8baa3-6b27-4b63-b5f3-feaec4d8986e",
   "metadata": {
    "editable": true,
    "slideshow": {
     "slide_type": "fragment"
    },
    "tags": []
   },
   "outputs": [
    {
     "data": {
      "text/plain": [
       "ModN{Int64}(1 mod 2)"
      ]
     },
     "execution_count": 24,
     "metadata": {},
     "output_type": "execute_result"
    }
   ],
   "source": [
    "ModN(1, 2)"
   ]
  },
  {
   "cell_type": "code",
   "execution_count": 25,
   "id": "1db8b723-8155-4e5f-82c9-b65b1cd5a4a1",
   "metadata": {
    "editable": true,
    "slideshow": {
     "slide_type": "fragment"
    },
    "tags": []
   },
   "outputs": [
    {
     "ename": "LoadError",
     "evalue": "MethodError: no method matching ModN(::UInt8, ::Int64)\n\n\u001b[0mClosest candidates are:\n\u001b[0m  ModN(::T, \u001b[91m::T\u001b[39m) where T<:Integer\n\u001b[0m\u001b[90m   @\u001b[39m \u001b[35mMain\u001b[39m \u001b[90m\u001b[4mIn[21]:2\u001b[24m\u001b[39m\n\u001b[0m  (::Type{T})(::T) where T<:Number\n\u001b[0m\u001b[90m   @\u001b[39m \u001b[90mCore\u001b[39m \u001b[90m\u001b[4mboot.jl:792\u001b[24m\u001b[39m\n",
     "output_type": "error",
     "traceback": [
      "MethodError: no method matching ModN(::UInt8, ::Int64)\n\n\u001b[0mClosest candidates are:\n\u001b[0m  ModN(::T, \u001b[91m::T\u001b[39m) where T<:Integer\n\u001b[0m\u001b[90m   @\u001b[39m \u001b[35mMain\u001b[39m \u001b[90m\u001b[4mIn[21]:2\u001b[24m\u001b[39m\n\u001b[0m  (::Type{T})(::T) where T<:Number\n\u001b[0m\u001b[90m   @\u001b[39m \u001b[90mCore\u001b[39m \u001b[90m\u001b[4mboot.jl:792\u001b[24m\u001b[39m\n",
      "",
      "Stacktrace:",
      " [1] top-level scope",
      "   @ In[25]:1"
     ]
    }
   ],
   "source": [
    "ModN(0x1, 2)"
   ]
  },
  {
   "cell_type": "markdown",
   "id": "f6dc30ac-3859-4ba9-80c5-7e8e3f6a717c",
   "metadata": {
    "editable": true,
    "slideshow": {
     "slide_type": "slide"
    },
    "tags": []
   },
   "source": [
    "## Promotion\n",
    "\n",
    "- To do operations like `+` and `*` on different types, Julia _widens_ one type\n",
    "- For example, `+(1.0, 1)` is essentially `+(1.0, convert(Float64, 1))`\n",
    "    - We saw this last time when building lists\n",
    "- Julia picks the type using `promote_rule`"
   ]
  },
  {
   "cell_type": "code",
   "execution_count": 26,
   "id": "cce5d5cb-450a-4268-905d-ff34df15e885",
   "metadata": {
    "editable": true,
    "slideshow": {
     "slide_type": "fragment"
    },
    "tags": []
   },
   "outputs": [
    {
     "data": {
      "text/plain": [
       "(1.0, 1.0)"
      ]
     },
     "execution_count": 26,
     "metadata": {},
     "output_type": "execute_result"
    }
   ],
   "source": [
    "promote(1.0, 1)"
   ]
  },
  {
   "cell_type": "code",
   "execution_count": 27,
   "id": "3c3e73a9-829a-46b7-bb6d-52351bb8a52e",
   "metadata": {
    "editable": true,
    "slideshow": {
     "slide_type": "fragment"
    },
    "tags": []
   },
   "outputs": [
    {
     "data": {
      "text/plain": [
       "Tuple{Float64, Float64}"
      ]
     },
     "execution_count": 27,
     "metadata": {},
     "output_type": "execute_result"
    }
   ],
   "source": [
    "typeof(promote(1.0, 1))"
   ]
  },
  {
   "cell_type": "code",
   "execution_count": 28,
   "id": "f801d5e7-492b-4dd7-92fe-bbc583a28a61",
   "metadata": {
    "editable": true,
    "slideshow": {
     "slide_type": "fragment"
    },
    "tags": []
   },
   "outputs": [
    {
     "data": {
      "text/plain": [
       "Float64"
      ]
     },
     "execution_count": 28,
     "metadata": {},
     "output_type": "execute_result"
    }
   ],
   "source": [
    "promote_rule(Float64, Int64)"
   ]
  },
  {
   "cell_type": "markdown",
   "id": "9f066504-bd21-47e7-8d9f-e3c328930908",
   "metadata": {
    "editable": true,
    "slideshow": {
     "slide_type": "subslide"
    },
    "tags": []
   },
   "source": [
    "- So, let's use this system!\n",
    "- We'll define constructors for `ModN`\n",
    "  - Constructors in Julia are just functions that have the same name as the type\n",
    "- We saw before that we had a method `ModN(::T, ::T) where {T <: Integer}`"
   ]
  },
  {
   "cell_type": "code",
   "execution_count": 29,
   "id": "3220ad3d-ab21-4644-8e79-e7333c4116e0",
   "metadata": {
    "editable": true,
    "slideshow": {
     "slide_type": "fragment"
    },
    "tags": []
   },
   "outputs": [
    {
     "data": {
      "text/plain": [
       "ModN"
      ]
     },
     "execution_count": 29,
     "metadata": {},
     "output_type": "execute_result"
    }
   ],
   "source": [
    "ModN(value::Integer, modulus::Integer) = ModN(promote(value, modulus)...)"
   ]
  },
  {
   "cell_type": "code",
   "execution_count": 30,
   "id": "401f3055-7744-4b2d-8c3e-3209dd424cc8",
   "metadata": {
    "editable": true,
    "slideshow": {
     "slide_type": "fragment"
    },
    "tags": []
   },
   "outputs": [
    {
     "data": {
      "text/plain": [
       "ModN{Int64}(1 mod 2)"
      ]
     },
     "execution_count": 30,
     "metadata": {},
     "output_type": "execute_result"
    }
   ],
   "source": [
    "ModN(0x1, 2)"
   ]
  },
  {
   "cell_type": "code",
   "execution_count": 31,
   "id": "cf39217d-3a83-4101-9365-764c639f9e41",
   "metadata": {
    "editable": true,
    "slideshow": {
     "slide_type": "subslide"
    },
    "tags": []
   },
   "outputs": [
    {
     "data": {
      "text/plain": [
       "congruent (generic function with 2 methods)"
      ]
     },
     "execution_count": 31,
     "metadata": {},
     "output_type": "execute_result"
    }
   ],
   "source": [
    "function +(x::ModN{T}, y::ModN{U}) where {T, U}\n",
    "    if x.modulus != y.modulus\n",
    "        throw(MismatchedModulusException(x, y))\n",
    "    end\n",
    "    ModN(x.value + y.value, x.modulus)\n",
    "end\n",
    "\n",
    "function congruent(x::ModN, y::ModN)\n",
    "    if x.modulus != y.modulus\n",
    "        throw(MismatchedModulusException(x, y))\n",
    "    end\n",
    "    mod(x.value, x.modulus) == mod(y.value, y.modulus)\n",
    "end"
   ]
  },
  {
   "cell_type": "code",
   "execution_count": 32,
   "id": "f67b8ad9-f35a-4ba2-9fcf-e9285cec72c2",
   "metadata": {
    "editable": true,
    "slideshow": {
     "slide_type": "fragment"
    },
    "tags": []
   },
   "outputs": [
    {
     "data": {
      "text/plain": [
       "ModN{Int64}(2 mod 5)"
      ]
     },
     "execution_count": 32,
     "metadata": {},
     "output_type": "execute_result"
    }
   ],
   "source": [
    "ModN(0x1, 0x5) + ModN(1, 5)"
   ]
  },
  {
   "cell_type": "markdown",
   "id": "b7ee7a44-e1bd-418e-b5bb-be799b48adc5",
   "metadata": {
    "editable": true,
    "slideshow": {
     "slide_type": "slide"
    },
    "tags": []
   },
   "source": [
    "### Problem: Complex Numbers\n",
    "\n",
    "- Julia has them built in\n",
    "- But, as an exercise, let's write our own\n",
    "- Only worry about floats (subtypes of `AbstractFloat`)\n",
    "\n",
    "```julia\n",
    "import Base: real, imag, +\n",
    "struct MyComplex{???}\n",
    "    real::???\n",
    "    imag::???\n",
    "end\n",
    "```"
   ]
  },
  {
   "cell_type": "markdown",
   "id": "b1c8ee18-da2a-46c8-9c6c-26c9b5d2b2e9",
   "metadata": {
    "editable": true,
    "slideshow": {
     "slide_type": "fragment"
    },
    "tags": []
   },
   "source": [
    "- Complex numbers: $c = a + bi$; $i^2 = -1$\n",
    "    - $\\Re(c) = \\text{real}(c) = a$\n",
    "    - $\\Im(c) = \\text{imag}(c) = b$\n",
    "    - $c_1 + c_2 = \\left(\\strut\\Re(c_1) + \\Re(c_2)\\right) + \\left(\\strut\\Im(c_1) + \\Im(c_2)\\right)i$"
   ]
  },
  {
   "cell_type": "code",
   "execution_count": 33,
   "id": "5d5b2f78-310c-4b32-8450-69c87eca2afa",
   "metadata": {
    "editable": true,
    "slideshow": {
     "slide_type": "fragment"
    },
    "tags": []
   },
   "outputs": [],
   "source": [
    "import Base: real, imag, +\n",
    "struct MyComplex{T <: AbstractFloat}\n",
    "    real::T\n",
    "    imag::T\n",
    "end"
   ]
  },
  {
   "cell_type": "code",
   "execution_count": 34,
   "id": "676f8d19-a61d-485a-b9cb-dc5d0e451ab2",
   "metadata": {
    "editable": true,
    "slideshow": {
     "slide_type": "fragment"
    },
    "tags": []
   },
   "outputs": [
    {
     "data": {
      "text/plain": [
       "imag (generic function with 17 methods)"
      ]
     },
     "execution_count": 34,
     "metadata": {},
     "output_type": "execute_result"
    }
   ],
   "source": [
    "real(c::MyComplex) = c.real\n",
    "imag(c::MyComplex) = c.imag"
   ]
  },
  {
   "cell_type": "code",
   "execution_count": 35,
   "id": "c1b98982-e277-4aaf-a36e-0e2e015e12e3",
   "metadata": {
    "editable": true,
    "slideshow": {
     "slide_type": "fragment"
    },
    "tags": []
   },
   "outputs": [
    {
     "data": {
      "text/plain": [
       "MyComplex"
      ]
     },
     "execution_count": 35,
     "metadata": {},
     "output_type": "execute_result"
    }
   ],
   "source": [
    "MyComplex(real::AbstractFloat, imag::AbstractFloat) = MyComplex(promote(real, imag)...)"
   ]
  },
  {
   "cell_type": "code",
   "execution_count": 36,
   "id": "089fc1a6-e377-4e7a-a427-b9846e765fe6",
   "metadata": {
    "editable": true,
    "slideshow": {
     "slide_type": "fragment"
    },
    "tags": []
   },
   "outputs": [
    {
     "data": {
      "text/plain": [
       "MyComplex{Float32}(1.0f0, 2.0f0)"
      ]
     },
     "execution_count": 36,
     "metadata": {},
     "output_type": "execute_result"
    }
   ],
   "source": [
    "MyComplex(Float32(1.0), Float16(2.0))"
   ]
  },
  {
   "cell_type": "code",
   "execution_count": 37,
   "id": "6af50ec3-aae1-4886-a184-f807176f2639",
   "metadata": {
    "editable": true,
    "slideshow": {
     "slide_type": "fragment"
    },
    "tags": []
   },
   "outputs": [
    {
     "data": {
      "text/plain": [
       "+ (generic function with 192 methods)"
      ]
     },
     "execution_count": 37,
     "metadata": {},
     "output_type": "execute_result"
    }
   ],
   "source": [
    "+(x::MyComplex, y::MyComplex) = MyComplex(real(x) + real(y), imag(x) + imag(y))"
   ]
  },
  {
   "cell_type": "code",
   "execution_count": 38,
   "id": "d1c4388f-3d56-452f-a7d0-ee842b831da3",
   "metadata": {
    "editable": true,
    "slideshow": {
     "slide_type": "fragment"
    },
    "tags": []
   },
   "outputs": [
    {
     "data": {
      "text/plain": [
       "MyComplex{Float64}(2.0, 4.0)"
      ]
     },
     "execution_count": 38,
     "metadata": {},
     "output_type": "execute_result"
    }
   ],
   "source": [
    "MyComplex(1.0, 2.0f0) + MyComplex(Float16(1), Float16(2))"
   ]
  },
  {
   "cell_type": "markdown",
   "id": "8129e742-e751-462b-9e93-7d3e65c60a04",
   "metadata": {
    "editable": true,
    "slideshow": {
     "slide_type": "slide"
    },
    "tags": []
   },
   "source": [
    "## Iterators\n",
    "\n",
    "- One use of dispatch: easy to iterate!\n",
    "- If you have a type that you'd like to iterate over, you just need to define two methods of `iterate`\n",
    "- Julia turns:\n",
    "\n",
    "```julia\n",
    "for x in iterable\n",
    "    # do something with x\n",
    "end\n",
    "```\n",
    "\n",
    "into:\n",
    "\n",
    "```julia\n",
    "next = iterate(iterable)\n",
    "while !isnothing(next)\n",
    "    (x, state) = next\n",
    "    # do something with x\n",
    "    next = iterate(iterable, state)\n",
    "end\n",
    "```"
   ]
  },
  {
   "cell_type": "code",
   "execution_count": 39,
   "id": "a8f50ea7-a422-4596-8d58-488fe45ed5bd",
   "metadata": {
    "editable": true,
    "slideshow": {
     "slide_type": ""
    },
    "tags": []
   },
   "outputs": [
    {
     "name": "stdout",
     "output_type": "stream",
     "text": [
      "Julia"
     ]
    }
   ],
   "source": [
    "v = ['J', 'u', 'l', 'i', 'a']\n",
    "for character in v\n",
    "    print(character)\n",
    "end"
   ]
  },
  {
   "cell_type": "code",
   "execution_count": 40,
   "id": "389d8799-dcd1-48a8-b162-423158a2b007",
   "metadata": {
    "editable": true,
    "slideshow": {
     "slide_type": "fragment"
    },
    "tags": []
   },
   "outputs": [
    {
     "name": "stdout",
     "output_type": "stream",
     "text": [
      "(iterated_item, state) = iterate(v) = ('J', 2)\n",
      "(iterated_item, state) = iterate(v, state) = ('u', 3)\n",
      "(iterated_item, state) = iterate(v, state) = ('l', 4)\n",
      "(iterated_item, state) = iterate(v, state) = ('i', 5)\n",
      "(iterated_item, state) = iterate(v, state) = ('a', 6)\n",
      "iterate(v, state) = nothing\n"
     ]
    }
   ],
   "source": [
    "@show iterated_item, state = iterate(v)\n",
    "@show iterated_item, state = iterate(v, state)\n",
    "@show iterated_item, state = iterate(v, state)\n",
    "@show iterated_item, state = iterate(v, state)\n",
    "@show iterated_item, state = iterate(v, state)\n",
    "@show iterate(v, state)"
   ]
  },
  {
   "cell_type": "markdown",
   "id": "32975088-0c59-478c-8e5d-3a721eeb31a5",
   "metadata": {
    "editable": true,
    "slideshow": {
     "slide_type": "subslide"
    },
    "tags": []
   },
   "source": [
    "- So, if we want to replicate that:"
   ]
  },
  {
   "cell_type": "code",
   "execution_count": 41,
   "id": "2f51a87b-b508-4f0e-a97c-3b2e8ae699cd",
   "metadata": {
    "editable": true,
    "slideshow": {
     "slide_type": "fragment"
    },
    "tags": []
   },
   "outputs": [],
   "source": [
    "struct MyVector{Element}\n",
    "    vector::Vector{Element}\n",
    "end"
   ]
  },
  {
   "cell_type": "code",
   "execution_count": 42,
   "id": "74d4ec82-4281-419c-b276-4ddd2a6e2be4",
   "metadata": {
    "editable": true,
    "slideshow": {
     "slide_type": "fragment"
    },
    "tags": []
   },
   "outputs": [
    {
     "data": {
      "text/plain": [
       "iterate (generic function with 247 methods)"
      ]
     },
     "execution_count": 42,
     "metadata": {},
     "output_type": "execute_result"
    }
   ],
   "source": [
    "import Base: iterate\n",
    "\n",
    "# first method: return (first_item, next_state)\n",
    "function iterate(v::MyVector)\n",
    "    if length(v.vector) == 0\n",
    "        nothing\n",
    "    else\n",
    "        # the element returned, the next state\n",
    "        (v.vector[1], 2)\n",
    "    end\n",
    "end"
   ]
  },
  {
   "cell_type": "code",
   "execution_count": 43,
   "id": "0f4fbb82-8530-4b86-8207-63a9111e1902",
   "metadata": {
    "editable": true,
    "slideshow": {
     "slide_type": "fragment"
    },
    "tags": []
   },
   "outputs": [
    {
     "data": {
      "text/plain": [
       "iterate (generic function with 248 methods)"
      ]
     },
     "execution_count": 43,
     "metadata": {},
     "output_type": "execute_result"
    }
   ],
   "source": [
    "# second method: return (next_item, next_state)\n",
    "function iterate(v::MyVector, state)\n",
    "    if state > length(v.vector)\n",
    "        nothing\n",
    "    else\n",
    "        (v.vector[state], state + 1)\n",
    "    end\n",
    "end"
   ]
  },
  {
   "cell_type": "code",
   "execution_count": 44,
   "id": "78d3a695-8189-498e-9ecc-62c3e9ba2711",
   "metadata": {
    "editable": true,
    "slideshow": {
     "slide_type": "fragment"
    },
    "tags": []
   },
   "outputs": [
    {
     "name": "stdout",
     "output_type": "stream",
     "text": [
      "Julia"
     ]
    }
   ],
   "source": [
    "mv = MyVector(v)\n",
    "for x in mv\n",
    "    print(x)\n",
    "end"
   ]
  },
  {
   "cell_type": "markdown",
   "id": "5986d494-588d-4ca4-8f55-74b0e9a12dfc",
   "metadata": {
    "editable": true,
    "slideshow": {
     "slide_type": "subslide"
    },
    "tags": []
   },
   "source": [
    "- Or, if we want to iterate over the first $n$ squares:"
   ]
  },
  {
   "cell_type": "code",
   "execution_count": 45,
   "id": "7e7a464c-1580-4254-bfe1-c0de9839a238",
   "metadata": {
    "editable": true,
    "slideshow": {
     "slide_type": ""
    },
    "tags": []
   },
   "outputs": [],
   "source": [
    "struct Squares\n",
    "    max::Int\n",
    "end"
   ]
  },
  {
   "cell_type": "code",
   "execution_count": 46,
   "id": "eb6239b8-7e9e-4dac-9b89-4f54fd3a4e02",
   "metadata": {
    "editable": true,
    "slideshow": {
     "slide_type": ""
    },
    "tags": []
   },
   "outputs": [
    {
     "data": {
      "text/plain": [
       "iterate (generic function with 250 methods)"
      ]
     },
     "execution_count": 46,
     "metadata": {},
     "output_type": "execute_result"
    }
   ],
   "source": [
    "# first method: return (first_item, next_state)\n",
    "iterate(::Squares) = (1, 2)\n",
    "# second method: return (next_item, next_state)\n",
    "iterate(s::Squares, i::Int) = if i > s.max\n",
    "    nothing\n",
    "else\n",
    "    (i^2, i + 1)\n",
    "end"
   ]
  },
  {
   "cell_type": "code",
   "execution_count": 47,
   "id": "c68df9e5-b341-4f45-a876-b432febe569a",
   "metadata": {
    "editable": true,
    "slideshow": {
     "slide_type": ""
    },
    "tags": []
   },
   "outputs": [
    {
     "name": "stdout",
     "output_type": "stream",
     "text": [
      "1, 4, 9, 16, 25, "
     ]
    }
   ],
   "source": [
    "for s in Squares(5)\n",
    "    print(s, \", \")\n",
    "end"
   ]
  },
  {
   "cell_type": "code",
   "execution_count": 48,
   "id": "c43a7a46-02af-4caa-ab07-a5c4b466e29a",
   "metadata": {
    "editable": true,
    "slideshow": {
     "slide_type": ""
    },
    "tags": []
   },
   "outputs": [
    {
     "name": "stdout",
     "output_type": "stream",
     "text": [
      "(iterated_item, next_state) = iterate(s) = (1, 2)\n",
      "(iterated_item, next_state) = iterate(s, next_state) = (4, 3)\n",
      "(iterated_item, next_state) = iterate(s, next_state) = (9, 4)\n",
      "(iterated_item, next_state) = iterate(s, next_state) = (16, 5)\n",
      "(iterated_item, next_state) = iterate(s, next_state) = (25, 6)\n",
      "iter = iterate(s, next_state) = nothing\n"
     ]
    }
   ],
   "source": [
    "s = Squares(5)\n",
    "\n",
    "@show iterated_item, next_state = iterate(s)\n",
    "@show iterated_item, next_state = iterate(s, next_state)\n",
    "@show iterated_item, next_state = iterate(s, next_state)\n",
    "@show iterated_item, next_state = iterate(s, next_state)\n",
    "@show iterated_item, next_state = iterate(s, next_state)\n",
    "@show iter = iterate(s, next_state)"
   ]
  },
  {
   "cell_type": "markdown",
   "id": "4f112fe5-5881-4930-ba94-e80058ac8ed2",
   "metadata": {
    "editable": true,
    "slideshow": {
     "slide_type": "slide"
    },
    "tags": []
   },
   "source": [
    "### Aside: Dispatch and Defaults\n",
    "\n",
    "- Julia (like many languages) has default parameters\n",
    "- In Python:\n",
    "\n",
    "```python\n",
    ">>> def f(x, y=0):\n",
    "...     print(f\"({x}, {y})\")\n",
    "... \n",
    ">>> f(1, 2)\n",
    "(1, 2)\n",
    ">>> f(1)\n",
    "(1, 0)\n",
    ">>> \n",
    "```"
   ]
  },
  {
   "cell_type": "markdown",
   "id": "32b6ef25-bc03-4c9c-b198-cd13e4e66b17",
   "metadata": {
    "editable": true,
    "slideshow": {
     "slide_type": "fragment"
    },
    "tags": []
   },
   "source": [
    "- In Julia, we do it through dispatch rather than through function call magic\n",
    "\n",
    "```julia\n",
    "hasdefault(x, y=0) = println(\"($x, $y)\")\n",
    "```\n",
    "\n",
    "is the same as:"
   ]
  },
  {
   "cell_type": "code",
   "execution_count": 49,
   "id": "ae30c41b-8a6c-48b7-8690-5774bf38b869",
   "metadata": {
    "editable": true,
    "slideshow": {
     "slide_type": ""
    },
    "tags": []
   },
   "outputs": [
    {
     "name": "stdout",
     "output_type": "stream",
     "text": [
      "(1, 0)\n",
      "(1, 2)\n"
     ]
    }
   ],
   "source": [
    "hasdefault(x, y) = println(\"($x, $y)\")\n",
    "hasdefault(x) = hasdefault(x, 0)\n",
    "hasdefault(1)\n",
    "hasdefault(1, 2)"
   ]
  },
  {
   "cell_type": "markdown",
   "id": "4c6f4355-e157-412f-a3d7-ba44e6438f0f",
   "metadata": {
    "editable": true,
    "slideshow": {
     "slide_type": "fragment"
    },
    "tags": []
   },
   "source": [
    "- So, this would've worked as well:\n",
    "\n",
    "```julia\n",
    "iterate(s::Squares, i::Int=1) = if i > s.max\n",
    "    nothing\n",
    "else\n",
    "    (i^2, i + 1)\n",
    "end\n",
    "```"
   ]
  },
  {
   "cell_type": "markdown",
   "id": "415760e5-453d-4aeb-b6a6-00279dbefd18",
   "metadata": {
    "editable": true,
    "slideshow": {
     "slide_type": "fragment"
    },
    "tags": []
   },
   "source": [
    "## Interfaces\n",
    "\n",
    "- This iteration is an example of one of Julia's _interfaces_\n",
    "- Unlike e.g. Rust or Haskell, Julia's interfaces are informal and not checked by the compiler during compilation\n",
    "- But they are still powerful!\n",
    "- Other useful interfaces:\n",
    "  - Indexing\n",
    "  - Array"
   ]
  },
  {
   "cell_type": "markdown",
   "id": "a7d9ac72-b2fe-4f31-9e28-f7e80783b21b",
   "metadata": {
    "editable": true,
    "slideshow": {
     "slide_type": "slide"
    },
    "tags": []
   },
   "source": [
    "## Exercise\n",
    "\n",
    "- Write a type which represents all constant multiples of integers up to `n`\n",
    "    - I.e. if you build it with `factor = 1.5` and `n = 4`, iterating over it should produce `1.5, 3.0, 4.5, 6.0`\n",
    "- It should store `n` as an `Int`, but have a type parameter `{T <: Number}` for `factor`\n",
    "- Write the two `iterate` methods for it\n",
    "    - [docs.julialang.org/en/v1/manual/interfaces/](https://docs.julialang.org/en/v1/manual/interfaces/)\n",
    "- Then, using the documentation linked above, write a `length` method and a `getindex` method for it\n",
    "- Bonus: what is `eltype` for this type?"
   ]
  },
  {
   "cell_type": "code",
   "execution_count": 50,
   "id": "75e613c5-703d-4a76-87f5-d1734c9afb01",
   "metadata": {
    "editable": true,
    "slideshow": {
     "slide_type": "fragment"
    },
    "tags": []
   },
   "outputs": [
    {
     "data": {
      "text/plain": [
       "getindex (generic function with 186 methods)"
      ]
     },
     "execution_count": 50,
     "metadata": {},
     "output_type": "execute_result"
    }
   ],
   "source": [
    "struct Multiples{T <: Number}\n",
    "    n::Int\n",
    "    factor::T\n",
    "end\n",
    "\n",
    "iterate(m::Multiples) = if m.n == 0\n",
    "    return nothing\n",
    "else\n",
    "    return (m.factor * 1, 2)\n",
    "end\n",
    "\n",
    "iterate(m::Multiples, state::Int) = if state > m.n\n",
    "    return nothing\n",
    "else\n",
    "    return (m.factor * state, state + 1)\n",
    "end\n",
    "\n",
    "import Base: length, getindex\n",
    "\n",
    "length(m::Multiples) = m.n\n",
    "\n",
    "getindex(m::Multiples, i) = if i > length(m) || i < 1\n",
    "    throw(BoundsError(m, i))\n",
    "else\n",
    "    m.factor * i\n",
    "end"
   ]
  },
  {
   "cell_type": "code",
   "execution_count": 51,
   "id": "ff3fd3d9-5531-4a3f-85b9-8fc0529306b5",
   "metadata": {
    "editable": true,
    "slideshow": {
     "slide_type": ""
    },
    "tags": []
   },
   "outputs": [
    {
     "name": "stdout",
     "output_type": "stream",
     "text": [
      "Multiples{Float64}(4, 1.5)\n",
      "1.5\n",
      "3.0\n",
      "4.5\n",
      "6.0\n"
     ]
    }
   ],
   "source": [
    "m = Multiples(4, 1.5)\n",
    "println(m)\n",
    "for x in m\n",
    "    println(x)\n",
    "end"
   ]
  },
  {
   "cell_type": "code",
   "execution_count": 52,
   "id": "e31a2c7d-9986-4af9-8a5c-0c18ae635bb3",
   "metadata": {
    "editable": true,
    "slideshow": {
     "slide_type": ""
    },
    "tags": []
   },
   "outputs": [
    {
     "name": "stdout",
     "output_type": "stream",
     "text": [
      "Multiples{ComplexF64}(3, 0.0 + 0.5im)\n",
      "0.0 + 0.5im\n",
      "0.0 + 1.0im\n",
      "0.0 + 1.5im\n"
     ]
    }
   ],
   "source": [
    "m = Multiples(3, 0.5im)\n",
    "println(m)\n",
    "for x in m\n",
    "    println(x)\n",
    "end"
   ]
  },
  {
   "cell_type": "code",
   "execution_count": 53,
   "id": "f40fcddc-6624-488b-a53f-07d62c53b1bf",
   "metadata": {
    "editable": true,
    "slideshow": {
     "slide_type": "fragment"
    },
    "tags": []
   },
   "outputs": [
    {
     "data": {
      "text/plain": [
       "4//3"
      ]
     },
     "execution_count": 53,
     "metadata": {},
     "output_type": "execute_result"
    }
   ],
   "source": [
    "Multiples(5, 2//3)[2]"
   ]
  },
  {
   "cell_type": "markdown",
   "id": "d14b2502-a5c2-410b-8528-9607d66305af",
   "metadata": {
    "editable": true,
    "slideshow": {
     "slide_type": "slide"
    },
    "tags": []
   },
   "source": [
    "## Problems\n",
    "\n",
    "- There's starter code on the website with some basic tests\n",
    "\n",
    "1. Write an iterator over the prime numbers $\\leq n$ using a Sieve of Eratosthenes\n",
    "2. Write a matrix type which is the outer product of two vectors, without storing the full matrix\n",
    "3. Implement the natural numbers using types!"
   ]
  }
 ],
 "metadata": {
  "kernelspec": {
   "display_name": "Julia 1.10.5",
   "language": "julia",
   "name": "julia-1.10"
  },
  "language_info": {
   "file_extension": ".jl",
   "mimetype": "application/julia",
   "name": "julia",
   "version": "1.10.5"
  }
 },
 "nbformat": 4,
 "nbformat_minor": 5
}
