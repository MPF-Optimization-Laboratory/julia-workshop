{
 "cells": [
  {
   "cell_type": "markdown",
   "metadata": {
    "slideshow": {
     "slide_type": "slide"
    }
   },
   "source": [
    "# Julia Workshop, Day 1: The Basics\n",
    "\n",
    "Goals for today:\n",
    "\n",
    "- Get familiar with the basics of Julia and make sure everyone's on the same page\n",
    "- Install a package\n",
    "- Use the REPL to get help\n",
    "- Write some nontrivial programs in it\n",
    "- Make your own Julia types\n",
    "- Use multiple dispatch"
   ]
  },
  {
   "cell_type": "markdown",
   "metadata": {
    "slideshow": {
     "slide_type": "slide"
    }
   },
   "source": [
    "## The REPL\n",
    "\n",
    "- By default, you'll get the `julia>` prompt, from which you can write normal Julia code\n",
    "- Using some special keys, you can enter other modes\n",
    "- Try `?`: this gets you the `help?>` mode. Try typing `println`\n",
    "- `;` lets you run shell commands (`cd`, `ls`, etc.)\n",
    "- Next, use `]` to get to the package manager\n",
    "  - For now, we'll just install `Revise.jl`, which will make development easier\n",
    "  - Type `add Revise`, and it'll install\n",
    "- To use a package, type `using Revise`"
   ]
  },
  {
   "cell_type": "markdown",
   "metadata": {
    "slideshow": {
     "slide_type": "slide"
    }
   },
   "source": [
    "## What is and why use Julia?\n",
    "\n",
    "- Programming language specifically designed for scientific, mathematic, and numeric computing\n",
    "- Aims to solve the two-language problem\n",
    "  - Two language problem: when writing in a high-level, dynamic language you get expressiveness but slow code\n",
    "- Compared to most commonly-used languages:\n",
    "  - Good package manager and documentation tools\n",
    "  - Faster than most other dynamically-typed languages (Python, R, MATLAB, etc.)\n",
    "  - More expressive than most statially-typed languages (C++, FORTRAN, Java, etc.)\n",
    "- Let's try some things in the REPL!"
   ]
  },
  {
   "cell_type": "code",
   "execution_count": 1,
   "metadata": {
    "slideshow": {
     "slide_type": "subslide"
    }
   },
   "outputs": [
    {
     "data": {
      "text/plain": [
       "5"
      ]
     },
     "execution_count": 1,
     "metadata": {},
     "output_type": "execute_result"
    }
   ],
   "source": [
    "x = 5"
   ]
  },
  {
   "cell_type": "code",
   "execution_count": 2,
   "metadata": {
    "scrolled": true,
    "slideshow": {
     "slide_type": "fragment"
    }
   },
   "outputs": [
    {
     "data": {
      "text/plain": [
       "\"Hello\""
      ]
     },
     "execution_count": 2,
     "metadata": {},
     "output_type": "execute_result"
    }
   ],
   "source": [
    "α = \"Hello\""
   ]
  },
  {
   "cell_type": "code",
   "execution_count": 3,
   "metadata": {
    "scrolled": true,
    "slideshow": {
     "slide_type": "fragment"
    }
   },
   "outputs": [
    {
     "name": "stdout",
     "output_type": "stream",
     "text": [
      "The value of `α` is Hello, and its type is String\n"
     ]
    }
   ],
   "source": [
    "println(\"The value of `α` is $(α), and its type is \", typeof(α))"
   ]
  },
  {
   "cell_type": "code",
   "execution_count": 4,
   "metadata": {
    "scrolled": false,
    "slideshow": {
     "slide_type": "fragment"
    }
   },
   "outputs": [
    {
     "name": "stdout",
     "output_type": "stream",
     "text": [
      "Tails\n"
     ]
    }
   ],
   "source": [
    "if rand(Bool)\n",
    "    println(\"Heads\")\n",
    "else\n",
    "    println(\"Tails\")\n",
    "end"
   ]
  },
  {
   "cell_type": "code",
   "execution_count": 69,
   "metadata": {
    "slideshow": {
     "slide_type": "fragment"
    }
   },
   "outputs": [
    {
     "name": "stdout",
     "output_type": "stream",
     "text": [
      "it was false\n",
      "2\n"
     ]
    }
   ],
   "source": [
    "# if is an expression!\n",
    "x = if rand(Bool)\n",
    "    1\n",
    "else\n",
    "    println(\"it was false\")\n",
    "    2\n",
    "end\n",
    "println(x)"
   ]
  },
  {
   "cell_type": "code",
   "execution_count": 70,
   "metadata": {
    "slideshow": {
     "slide_type": "subslide"
    }
   },
   "outputs": [
    {
     "name": "stdout",
     "output_type": "stream",
     "text": [
      "6\n",
      "12\n",
      "3\n",
      "9\n"
     ]
    }
   ],
   "source": [
    "function foo(x)\n",
    "    if x > 5\n",
    "        2x\n",
    "    else\n",
    "        3x\n",
    "    end\n",
    "end\n",
    "\n",
    "println(foo(6))\n",
    "println(foo(3))"
   ]
  },
  {
   "cell_type": "code",
   "execution_count": 7,
   "metadata": {
    "slideshow": {
     "slide_type": "fragment"
    }
   },
   "outputs": [
    {
     "data": {
      "text/plain": [
       "quadruple (generic function with 1 method)"
      ]
     },
     "execution_count": 7,
     "metadata": {},
     "output_type": "execute_result"
    }
   ],
   "source": [
    "quadruple(x) = 4x"
   ]
  },
  {
   "cell_type": "markdown",
   "metadata": {
    "slideshow": {
     "slide_type": "fragment"
    }
   },
   "source": [
    "- This is exactly equivalent to\n",
    "\n",
    "```julia\n",
    "function quadruple(x)\n",
    "    return 4x\n",
    "end\n",
    "```"
   ]
  },
  {
   "cell_type": "code",
   "execution_count": 8,
   "metadata": {
    "scrolled": false,
    "slideshow": {
     "slide_type": "fragment"
    }
   },
   "outputs": [
    {
     "name": "stdout",
     "output_type": "stream",
     "text": [
      "0, 4, 8, 12, 16, "
     ]
    }
   ],
   "source": [
    "x = 0\n",
    "while x < 5\n",
    "    print(quadruple(x), \", \")\n",
    "    x += 1\n",
    "end"
   ]
  },
  {
   "cell_type": "code",
   "execution_count": 9,
   "metadata": {
    "scrolled": true,
    "slideshow": {
     "slide_type": "fragment"
    }
   },
   "outputs": [
    {
     "name": "stdout",
     "output_type": "stream",
     "text": [
      "4, 8, 12, 16, 20, "
     ]
    }
   ],
   "source": [
    "xs = [1, 2, 3, 4, 5]\n",
    "for x in xs\n",
    "    print(quadruple(x), \", \")\n",
    "end"
   ]
  },
  {
   "cell_type": "markdown",
   "metadata": {
    "slideshow": {
     "slide_type": "slide"
    }
   },
   "source": [
    "## Types\n",
    "\n",
    "- Types play a big role in Julia\n",
    "- Unlike e.g. Python, Julia doesn't try to hide type from you and types carry more information"
   ]
  },
  {
   "cell_type": "code",
   "execution_count": 10,
   "metadata": {
    "slideshow": {
     "slide_type": "fragment"
    }
   },
   "outputs": [
    {
     "data": {
      "text/plain": [
       "Int64"
      ]
     },
     "execution_count": 10,
     "metadata": {},
     "output_type": "execute_result"
    }
   ],
   "source": [
    "typeof(5)"
   ]
  },
  {
   "cell_type": "code",
   "execution_count": 11,
   "metadata": {
    "slideshow": {
     "slide_type": "fragment"
    }
   },
   "outputs": [
    {
     "data": {
      "text/plain": [
       "String"
      ]
     },
     "execution_count": 11,
     "metadata": {},
     "output_type": "execute_result"
    }
   ],
   "source": [
    "typeof(\"Hello\")"
   ]
  },
  {
   "cell_type": "code",
   "execution_count": 12,
   "metadata": {
    "slideshow": {
     "slide_type": "fragment"
    }
   },
   "outputs": [
    {
     "data": {
      "text/plain": [
       "Char"
      ]
     },
     "execution_count": 12,
     "metadata": {},
     "output_type": "execute_result"
    }
   ],
   "source": [
    "typeof(\"Goodbye\"[1])"
   ]
  },
  {
   "cell_type": "code",
   "execution_count": 13,
   "metadata": {
    "slideshow": {
     "slide_type": "fragment"
    }
   },
   "outputs": [
    {
     "data": {
      "text/plain": [
       "UnitRange{Int64}"
      ]
     },
     "execution_count": 13,
     "metadata": {},
     "output_type": "execute_result"
    }
   ],
   "source": [
    "typeof(1:5)"
   ]
  },
  {
   "cell_type": "code",
   "execution_count": 14,
   "metadata": {
    "slideshow": {
     "slide_type": "fragment"
    }
   },
   "outputs": [
    {
     "name": "stdout",
     "output_type": "stream",
     "text": [
      "1, 2, 3, 4, 5, 6, 7, 8, 9, 10, "
     ]
    }
   ],
   "source": [
    "for i in 1:10\n",
    "    print(i, \", \")\n",
    "end"
   ]
  },
  {
   "cell_type": "markdown",
   "metadata": {
    "slideshow": {
     "slide_type": "subslide"
    }
   },
   "source": [
    "### Arrays\n",
    "\n",
    "- Julia has built-in multidimensional arrays"
   ]
  },
  {
   "cell_type": "code",
   "execution_count": 15,
   "metadata": {},
   "outputs": [
    {
     "name": "stdout",
     "output_type": "stream",
     "text": [
      "1, 2, 3, 4, "
     ]
    }
   ],
   "source": [
    "xs = [1, 2, 3, 4]\n",
    "\n",
    "for i in 1:4\n",
    "    print(xs[i], \", \")\n",
    "end"
   ]
  },
  {
   "cell_type": "code",
   "execution_count": 16,
   "metadata": {
    "scrolled": true,
    "slideshow": {
     "slide_type": "fragment"
    }
   },
   "outputs": [
    {
     "data": {
      "text/plain": [
       "3-element Vector{Float64}:\n",
       " 20.0\n",
       " 47.0\n",
       " 74.0"
      ]
     },
     "execution_count": 16,
     "metadata": {},
     "output_type": "execute_result"
    }
   ],
   "source": [
    "A = [1 2 3; 4 5 6; 7 8 9]\n",
    "x = [2.0, 3.0, 4.0]\n",
    "\n",
    "A * x"
   ]
  },
  {
   "cell_type": "markdown",
   "metadata": {
    "slideshow": {
     "slide_type": "subslide"
    }
   },
   "source": [
    "- It also has special syntax for broadcasting operations"
   ]
  },
  {
   "cell_type": "code",
   "execution_count": 17,
   "metadata": {
    "slideshow": {
     "slide_type": "fragment"
    }
   },
   "outputs": [
    {
     "data": {
      "text/plain": [
       "3×3 Matrix{Float64}:\n",
       " 1.11891e6  1.37482e6  1.63072e6\n",
       " 2.53388e6  3.11342e6  3.69295e6\n",
       " 3.94886e6  4.85201e6  5.75517e6"
      ]
     },
     "execution_count": 17,
     "metadata": {},
     "output_type": "execute_result"
    }
   ],
   "source": [
    "ℯ ^ A # \\euler"
   ]
  },
  {
   "cell_type": "code",
   "execution_count": 18,
   "metadata": {},
   "outputs": [
    {
     "data": {
      "text/plain": [
       "3×3 Matrix{Float64}:\n",
       "    2.71828     7.38906    20.0855\n",
       "   54.5982    148.413     403.429\n",
       " 1096.63     2980.96     8103.08"
      ]
     },
     "execution_count": 18,
     "metadata": {},
     "output_type": "execute_result"
    }
   ],
   "source": [
    "ℯ .^ A"
   ]
  },
  {
   "cell_type": "code",
   "execution_count": 19,
   "metadata": {
    "slideshow": {
     "slide_type": "fragment"
    }
   },
   "outputs": [
    {
     "data": {
      "text/plain": [
       "3-element Vector{Float64}:\n",
       "  0.9092974268256817\n",
       "  0.1411200080598672\n",
       " -0.7568024953079282"
      ]
     },
     "execution_count": 19,
     "metadata": {},
     "output_type": "execute_result"
    }
   ],
   "source": [
    "sin.(x)"
   ]
  },
  {
   "cell_type": "markdown",
   "metadata": {
    "slideshow": {
     "slide_type": "slide"
    }
   },
   "source": [
    "## Guessing Game\n",
    "\n",
    "- Instructions:\n",
    "  - Pick a number between 1 and 100\n",
    "  - Take guesses from the terminal, and say if it's too high or too low\n",
    "  - Repeat until the right number is entered\n",
    "  - You might need to wrap the whole thing in a function (example shown below)\n",
    "- You will need:\n",
    "  - `rand(a:b)` picks a random integer in $[a, b]$\n",
    "  - `readline()` reads a line of input from the terminal\n",
    "  - `parse(Int, s)` parses the `String` `s` as an `Int`\n",
    "- Optional:\n",
    "  - Improve the function getting a number so that it asks again if the number is out of range\n",
    "  - Wrap the script in a function which takes a range\n",
    "  - Limit the number of guesses so that the player must guess optimally"
   ]
  },
  {
   "cell_type": "markdown",
   "metadata": {
    "slideshow": {
     "slide_type": "fragment"
    }
   },
   "source": [
    "```julia\n",
    "function main()\n",
    "    # your code here\n",
    "end\n",
    "main()\n",
    "```"
   ]
  },
  {
   "cell_type": "markdown",
   "metadata": {
    "slideshow": {
     "slide_type": "subslide"
    }
   },
   "source": [
    "```julia\n",
    "number = rand(1:100)\n",
    "\n",
    "println(\"Pick a number between 1 and 100:\")\n",
    "\n",
    "get_number() = parse(Int, readline())\n",
    "\n",
    "input = get_number()\n",
    "\n",
    "while input != number\n",
    "    if input > number\n",
    "        println(\"Too high!\")\n",
    "    else\n",
    "        println(\"Too low!\")\n",
    "    end\n",
    "    println(\"Enter another number:\")\n",
    "    input = get_number()\n",
    "end\n",
    "\n",
    "println(\"You got it!\")\n",
    "```"
   ]
  },
  {
   "cell_type": "markdown",
   "metadata": {
    "slideshow": {
     "slide_type": "slide"
    }
   },
   "source": [
    "## A Little More of the Language\n",
    "\n",
    "- Types form a tree, the root of which is `Any`\n",
    "- Every type is either _abstract_ or _concrete_\n",
    "  - Only abstract types may have subtypes: no subclasses\n",
    "  - Values always have a concrete type\n",
    "\n",
    "![Subtypes Diagram](https://juliaworkshop.miakramer.space/static/subtypes.png)"
   ]
  },
  {
   "cell_type": "code",
   "execution_count": 20,
   "metadata": {
    "slideshow": {
     "slide_type": "fragment"
    }
   },
   "outputs": [
    {
     "data": {
      "text/plain": [
       "Real"
      ]
     },
     "execution_count": 20,
     "metadata": {},
     "output_type": "execute_result"
    }
   ],
   "source": [
    "supertype(Integer)"
   ]
  },
  {
   "cell_type": "code",
   "execution_count": 21,
   "metadata": {
    "slideshow": {
     "slide_type": "fragment"
    }
   },
   "outputs": [
    {
     "data": {
      "text/plain": [
       "3-element Vector{Any}:\n",
       " Bool\n",
       " Signed\n",
       " Unsigned"
      ]
     },
     "execution_count": 21,
     "metadata": {},
     "output_type": "execute_result"
    }
   ],
   "source": [
    "subtypes(Integer)"
   ]
  },
  {
   "cell_type": "code",
   "execution_count": 22,
   "metadata": {
    "slideshow": {
     "slide_type": "fragment"
    }
   },
   "outputs": [
    {
     "data": {
      "text/plain": [
       "true"
      ]
     },
     "execution_count": 22,
     "metadata": {},
     "output_type": "execute_result"
    }
   ],
   "source": [
    "Int <: Real"
   ]
  },
  {
   "cell_type": "code",
   "execution_count": 71,
   "metadata": {},
   "outputs": [
    {
     "data": {
      "text/plain": [
       "false"
      ]
     },
     "execution_count": 71,
     "metadata": {},
     "output_type": "execute_result"
    }
   ],
   "source": [
    "5 isa Integer"
   ]
  },
  {
   "cell_type": "code",
   "execution_count": 24,
   "metadata": {
    "slideshow": {
     "slide_type": "fragment"
    }
   },
   "outputs": [
    {
     "data": {
      "text/plain": [
       "(false, true)"
      ]
     },
     "execution_count": 24,
     "metadata": {},
     "output_type": "execute_result"
    }
   ],
   "source": [
    "isabstracttype(Bool), isabstracttype(Signed)"
   ]
  },
  {
   "cell_type": "markdown",
   "metadata": {
    "slideshow": {
     "slide_type": "subslide"
    }
   },
   "source": [
    "- Types may have parameters\n",
    "  - `Vector` is an abstract (-ish) type, `Vector{Float64}` is a list of 64-bit floats\n",
    "- Note: types are _invariant_ w.r.t. their parameters\n",
    "  - `Float64 <: Real` but `!(Vector{Float64} <: Vector{Real})`\n",
    "  - The exception is `Tuple`\n",
    "- Julia always tries to _infer_ appropriate types"
   ]
  },
  {
   "cell_type": "code",
   "execution_count": 25,
   "metadata": {
    "slideshow": {
     "slide_type": "fragment"
    }
   },
   "outputs": [
    {
     "data": {
      "text/plain": [
       "Vector{Int64}\u001b[90m (alias for \u001b[39m\u001b[90mArray{Int64, 1}\u001b[39m\u001b[90m)\u001b[39m"
      ]
     },
     "execution_count": 25,
     "metadata": {},
     "output_type": "execute_result"
    }
   ],
   "source": [
    "a = [1, 2, 3]\n",
    "typeof(a)"
   ]
  },
  {
   "cell_type": "code",
   "execution_count": 26,
   "metadata": {
    "slideshow": {
     "slide_type": "fragment"
    }
   },
   "outputs": [
    {
     "data": {
      "text/plain": [
       "Vector{ComplexF64}\u001b[90m (alias for \u001b[39m\u001b[90mArray{Complex{Float64}, 1}\u001b[39m\u001b[90m)\u001b[39m"
      ]
     },
     "execution_count": 26,
     "metadata": {},
     "output_type": "execute_result"
    }
   ],
   "source": [
    "b = [1, 2.0, 3im]\n",
    "typeof(b)"
   ]
  },
  {
   "cell_type": "code",
   "execution_count": 27,
   "metadata": {
    "slideshow": {
     "slide_type": "fragment"
    }
   },
   "outputs": [
    {
     "data": {
      "text/plain": [
       "Vector{Any}\u001b[90m (alias for \u001b[39m\u001b[90mArray{Any, 1}\u001b[39m\u001b[90m)\u001b[39m"
      ]
     },
     "execution_count": 27,
     "metadata": {},
     "output_type": "execute_result"
    }
   ],
   "source": [
    "c = [\"Hello\", 5, 1:6]\n",
    "typeof(c)"
   ]
  },
  {
   "cell_type": "markdown",
   "metadata": {
    "slideshow": {
     "slide_type": "subslide"
    }
   },
   "source": [
    "- Be careful with types\n",
    "- Remember, `5 isa Int`, `5 isa Real`, `5 isa Any` and so on\n",
    "- For parametric types, you want concrete parameters whenever possible\n",
    "  - We'll talk more about that next time"
   ]
  },
  {
   "cell_type": "code",
   "execution_count": 73,
   "metadata": {
    "scrolled": true,
    "slideshow": {
     "slide_type": "fragment"
    }
   },
   "outputs": [
    {
     "ename": "LoadError",
     "evalue": "InexactError: Int64(1.5)",
     "output_type": "error",
     "traceback": [
      "InexactError: Int64(1.5)",
      "",
      "Stacktrace:",
      " [1] Int64",
      "   @ ./float.jl:900 [inlined]",
      " [2] convert",
      "   @ ./number.jl:7 [inlined]",
      " [3] push!(a::Vector{Int64}, item::Float64)",
      "   @ Base ./array.jl:1060",
      " [4] top-level scope",
      "   @ In[73]:5"
     ]
    }
   ],
   "source": [
    "A = Int[] # Vector{Int64}\n",
    "\n",
    "push!(A, 1)\n",
    "push!(A, UInt8(1))\n",
    "push!(A, 1.5)"
   ]
  },
  {
   "cell_type": "code",
   "execution_count": 75,
   "metadata": {
    "slideshow": {
     "slide_type": "fragment"
    }
   },
   "outputs": [
    {
     "data": {
      "text/plain": [
       "3-element Vector{Real}:\n",
       " 1\n",
       " 1.5\n",
       " π = 3.1415926535897..."
      ]
     },
     "execution_count": 75,
     "metadata": {},
     "output_type": "execute_result"
    }
   ],
   "source": [
    "A = Real[]\n",
    "\n",
    "push!(A, 1)\n",
    "push!(A, 1.5)\n",
    "push!(A, π)\n",
    "# but you almost certainly don't want this..."
   ]
  },
  {
   "cell_type": "markdown",
   "metadata": {
    "slideshow": {
     "slide_type": "slide"
    }
   },
   "source": [
    "## Multiple Dispatch\n",
    "\n",
    "- This is the core paradigm of Julia\n",
    "  - Called multimethods if you're coming from the Lisp world\n",
    "- One _function_ may have many _methods_"
   ]
  },
  {
   "cell_type": "markdown",
   "metadata": {
    "slideshow": {
     "slide_type": "fragment"
    }
   },
   "source": [
    "- We always pick the **most specific** method"
   ]
  },
  {
   "cell_type": "code",
   "execution_count": 30,
   "metadata": {
    "slideshow": {
     "slide_type": "fragment"
    }
   },
   "outputs": [
    {
     "data": {
      "text/plain": [
       "bar (generic function with 3 methods)"
      ]
     },
     "execution_count": 30,
     "metadata": {},
     "output_type": "execute_result"
    }
   ],
   "source": [
    "bar(x)          = x  # implicitly ::Any\n",
    "bar(x::Integer) = 2x\n",
    "bar(x::Int8)    = 3x"
   ]
  },
  {
   "cell_type": "code",
   "execution_count": 31,
   "metadata": {
    "slideshow": {
     "slide_type": "fragment"
    }
   },
   "outputs": [
    {
     "data": {
      "text/plain": [
       "(1.0, 2, 3)"
      ]
     },
     "execution_count": 31,
     "metadata": {},
     "output_type": "execute_result"
    }
   ],
   "source": [
    "bar(1.0), bar(1), bar(Int8(1))"
   ]
  },
  {
   "cell_type": "code",
   "execution_count": 32,
   "metadata": {
    "slideshow": {
     "slide_type": "fragment"
    }
   },
   "outputs": [
    {
     "data": {
      "text/html": [
       "bar(x::<b>Integer</b>) in Main at In[30]:2"
      ],
      "text/plain": [
       "bar(\u001b[90mx\u001b[39m::\u001b[1mInteger\u001b[22m)\n",
       "\u001b[90m     @\u001b[39m \u001b[90mMain\u001b[39m \u001b[90m\u001b[4mIn[30]:2\u001b[24m\u001b[39m"
      ]
     },
     "execution_count": 32,
     "metadata": {},
     "output_type": "execute_result"
    }
   ],
   "source": [
    "@which bar(10)"
   ]
  },
  {
   "cell_type": "code",
   "execution_count": 33,
   "metadata": {
    "slideshow": {
     "slide_type": "subslide"
    }
   },
   "outputs": [
    {
     "data": {
      "text/html": [
       "+(x::<b>T</b>, y::<b>T</b>)<i> where T<:Union{Int128, Int16, Int32, Int64, Int8, UInt128, UInt16, UInt32, UInt64, UInt8}</i> in Base at <a href=\"https://github.com/JuliaLang/julia/tree/bed2cd540a11544ed4be381d471bbf590f0b745e/base/int.jl#L87\" target=\"_blank\">int.jl:87</a>"
      ],
      "text/plain": [
       "+(\u001b[90mx\u001b[39m::\u001b[1mT\u001b[22m, \u001b[90my\u001b[39m::\u001b[1mT\u001b[22m) where T<:Union{Int128, Int16, Int32, Int64, Int8, UInt128, UInt16, UInt32, UInt64, UInt8}\n",
       "\u001b[90m     @\u001b[39m \u001b[90mBase\u001b[39m \u001b[90m\u001b[4mint.jl:87\u001b[24m\u001b[39m"
      ]
     },
     "execution_count": 33,
     "metadata": {},
     "output_type": "execute_result"
    }
   ],
   "source": [
    "@which +(1, 2)"
   ]
  },
  {
   "cell_type": "code",
   "execution_count": 34,
   "metadata": {
    "slideshow": {
     "slide_type": "fragment"
    }
   },
   "outputs": [
    {
     "data": {
      "text/html": [
       "+(x::<b>T</b>, y::<b>T</b>)<i> where T<:Union{Float16, Float32, Float64}</i> in Base at <a href=\"https://github.com/JuliaLang/julia/tree/bed2cd540a11544ed4be381d471bbf590f0b745e/base/float.jl#L408\" target=\"_blank\">float.jl:408</a>"
      ],
      "text/plain": [
       "+(\u001b[90mx\u001b[39m::\u001b[1mT\u001b[22m, \u001b[90my\u001b[39m::\u001b[1mT\u001b[22m) where T<:Union{Float16, Float32, Float64}\n",
       "\u001b[90m     @\u001b[39m \u001b[90mBase\u001b[39m \u001b[90m\u001b[4mfloat.jl:408\u001b[24m\u001b[39m"
      ]
     },
     "execution_count": 34,
     "metadata": {},
     "output_type": "execute_result"
    }
   ],
   "source": [
    "@which +(1.0, 2.0)"
   ]
  },
  {
   "cell_type": "code",
   "execution_count": 35,
   "metadata": {
    "slideshow": {
     "slide_type": "fragment"
    }
   },
   "outputs": [
    {
     "data": {
      "text/html": [
       "+(x::<b>Real</b>, z::<b>Complex</b>) in Base at <a href=\"https://github.com/JuliaLang/julia/tree/bed2cd540a11544ed4be381d471bbf590f0b745e/base/complex.jl#L328\" target=\"_blank\">complex.jl:328</a>"
      ],
      "text/plain": [
       "+(\u001b[90mx\u001b[39m::\u001b[1mReal\u001b[22m, \u001b[90mz\u001b[39m::\u001b[1mComplex\u001b[22m)\n",
       "\u001b[90m     @\u001b[39m \u001b[90mBase\u001b[39m \u001b[90m\u001b[4mcomplex.jl:328\u001b[24m\u001b[39m"
      ]
     },
     "execution_count": 35,
     "metadata": {},
     "output_type": "execute_result"
    }
   ],
   "source": [
    "@which +(1.0, 3.0im)"
   ]
  },
  {
   "cell_type": "markdown",
   "metadata": {
    "slideshow": {
     "slide_type": "slide"
    }
   },
   "source": [
    "## Writing Our Own Type\n",
    "\n",
    "- Let's do integers modulo $n$"
   ]
  },
  {
   "cell_type": "code",
   "execution_count": 36,
   "metadata": {
    "slideshow": {
     "slide_type": "fragment"
    }
   },
   "outputs": [],
   "source": [
    "struct IntModN <: Integer\n",
    "    value::Int\n",
    "    modulus::Int\n",
    "end"
   ]
  },
  {
   "cell_type": "code",
   "execution_count": 37,
   "metadata": {},
   "outputs": [
    {
     "data": {
      "text/plain": [
       "IntModN(10, 3)"
      ]
     },
     "execution_count": 37,
     "metadata": {},
     "output_type": "execute_result"
    }
   ],
   "source": [
    "IntModN(10, 3)"
   ]
  },
  {
   "cell_type": "code",
   "execution_count": 38,
   "metadata": {
    "slideshow": {
     "slide_type": "fragment"
    }
   },
   "outputs": [
    {
     "data": {
      "text/plain": [
       "show (generic function with 286 methods)"
      ]
     },
     "execution_count": 38,
     "metadata": {},
     "output_type": "execute_result"
    }
   ],
   "source": [
    "import Base.show\n",
    "show(io::IO, x::IntModN) = print(io, \"IntModN($(x.value) mod $(x.modulus))\")"
   ]
  },
  {
   "cell_type": "code",
   "execution_count": 39,
   "metadata": {
    "slideshow": {
     "slide_type": "fragment"
    }
   },
   "outputs": [
    {
     "data": {
      "text/plain": [
       "IntModN(10 mod 3)"
      ]
     },
     "execution_count": 39,
     "metadata": {},
     "output_type": "execute_result"
    }
   ],
   "source": [
    "IntModN(10, 3)"
   ]
  },
  {
   "cell_type": "code",
   "execution_count": 40,
   "metadata": {
    "slideshow": {
     "slide_type": "fragment"
    }
   },
   "outputs": [],
   "source": [
    "struct MismatchedModulusException <: Exception\n",
    "    first::IntModN\n",
    "    second::IntModN\n",
    "end"
   ]
  },
  {
   "cell_type": "code",
   "execution_count": 41,
   "metadata": {
    "slideshow": {
     "slide_type": "fragment"
    }
   },
   "outputs": [
    {
     "data": {
      "text/plain": [
       "+ (generic function with 208 methods)"
      ]
     },
     "execution_count": 41,
     "metadata": {},
     "output_type": "execute_result"
    }
   ],
   "source": [
    "import Base.+\n",
    "function +(x::IntModN, y::IntModN)\n",
    "    if x.modulus != y.modulus\n",
    "        throw(MismatchedModulusException(x, y))\n",
    "    end\n",
    "    IntModN(x.value + y.value, x.modulus)\n",
    "end"
   ]
  },
  {
   "cell_type": "code",
   "execution_count": 77,
   "metadata": {
    "slideshow": {
     "slide_type": "fragment"
    }
   },
   "outputs": [
    {
     "data": {
      "text/plain": [
       "IntModN(28 mod 10)"
      ]
     },
     "execution_count": 77,
     "metadata": {},
     "output_type": "execute_result"
    }
   ],
   "source": [
    "IntModN(5, 10) + IntModN(23, 10)"
   ]
  },
  {
   "cell_type": "code",
   "execution_count": 43,
   "metadata": {
    "slideshow": {
     "slide_type": "fragment"
    }
   },
   "outputs": [
    {
     "data": {
      "text/plain": [
       "congruent (generic function with 1 method)"
      ]
     },
     "execution_count": 43,
     "metadata": {},
     "output_type": "execute_result"
    }
   ],
   "source": [
    "function congruent(x::IntModN, y::IntModN)\n",
    "    if x.modulus != y.modulus\n",
    "        throw(MismatchedModulusException(x, y))\n",
    "    end\n",
    "    mod(x.value, x.modulus) == mod(y.value, x.modulus)\n",
    "end"
   ]
  },
  {
   "cell_type": "code",
   "execution_count": 79,
   "metadata": {
    "slideshow": {
     "slide_type": "fragment"
    }
   },
   "outputs": [
    {
     "data": {
      "text/plain": [
       "true"
      ]
     },
     "execution_count": 79,
     "metadata": {},
     "output_type": "execute_result"
    }
   ],
   "source": [
    "congruent(IntModN(1, 10), IntModN(11, 10))"
   ]
  },
  {
   "cell_type": "code",
   "execution_count": 80,
   "metadata": {
    "slideshow": {
     "slide_type": "fragment"
    }
   },
   "outputs": [
    {
     "data": {
      "text/plain": [
       "true"
      ]
     },
     "execution_count": 80,
     "metadata": {},
     "output_type": "execute_result"
    }
   ],
   "source": [
    "congruent(IntModN(1, 10) + IntModN(1, 10), IntModN(22, 10))"
   ]
  },
  {
   "cell_type": "markdown",
   "metadata": {
    "slideshow": {
     "slide_type": "slide"
    }
   },
   "source": [
    "## Making Our Own Parametric Type\n",
    "\n",
    "- We explicitly used `Int` for our storage\n",
    "- But what if we want to make it generic?\n",
    "  - For example, if we're dealing with numbers larger than `typemax(Int)`"
   ]
  },
  {
   "cell_type": "code",
   "execution_count": 46,
   "metadata": {
    "slideshow": {
     "slide_type": "fragment"
    }
   },
   "outputs": [],
   "source": [
    "struct ModN{T <: Integer} <: Integer\n",
    "    value::T\n",
    "    modulus::T\n",
    "end"
   ]
  },
  {
   "cell_type": "code",
   "execution_count": 47,
   "metadata": {
    "slideshow": {
     "slide_type": "fragment"
    }
   },
   "outputs": [
    {
     "data": {
      "text/plain": [
       "show (generic function with 287 methods)"
      ]
     },
     "execution_count": 47,
     "metadata": {},
     "output_type": "execute_result"
    }
   ],
   "source": [
    "function show(io::IO, x::ModN{T}) where {T <: Integer}\n",
    "    print(io, \"ModN{$T}($(x.value) mod $(x.modulus))\")\n",
    "end"
   ]
  },
  {
   "cell_type": "code",
   "execution_count": 48,
   "metadata": {
    "slideshow": {
     "slide_type": "fragment"
    }
   },
   "outputs": [
    {
     "data": {
      "text/plain": [
       "ModN{UInt8}(1 mod 2)"
      ]
     },
     "execution_count": 48,
     "metadata": {},
     "output_type": "execute_result"
    }
   ],
   "source": [
    "ModN(0x1, 0x2)"
   ]
  },
  {
   "cell_type": "code",
   "execution_count": 49,
   "metadata": {},
   "outputs": [
    {
     "data": {
      "text/plain": [
       "ModN{Int64}(1 mod 2)"
      ]
     },
     "execution_count": 49,
     "metadata": {},
     "output_type": "execute_result"
    }
   ],
   "source": [
    "ModN(1, 2)"
   ]
  },
  {
   "cell_type": "code",
   "execution_count": 50,
   "metadata": {
    "scrolled": true,
    "slideshow": {
     "slide_type": "fragment"
    }
   },
   "outputs": [
    {
     "ename": "LoadError",
     "evalue": "MethodError: no method matching ModN(::UInt8, ::Int64)\n\n\u001b[0mClosest candidates are:\n\u001b[0m  ModN(::T, \u001b[91m::T\u001b[39m) where T<:Integer\n\u001b[0m\u001b[90m   @\u001b[39m \u001b[35mMain\u001b[39m \u001b[90m\u001b[4mIn[46]:2\u001b[24m\u001b[39m\n\u001b[0m  (::Type{T})(::T) where T<:Number\n\u001b[0m\u001b[90m   @\u001b[39m \u001b[90mCore\u001b[39m \u001b[90m\u001b[4mboot.jl:792\u001b[24m\u001b[39m\n",
     "output_type": "error",
     "traceback": [
      "MethodError: no method matching ModN(::UInt8, ::Int64)\n\n\u001b[0mClosest candidates are:\n\u001b[0m  ModN(::T, \u001b[91m::T\u001b[39m) where T<:Integer\n\u001b[0m\u001b[90m   @\u001b[39m \u001b[35mMain\u001b[39m \u001b[90m\u001b[4mIn[46]:2\u001b[24m\u001b[39m\n\u001b[0m  (::Type{T})(::T) where T<:Number\n\u001b[0m\u001b[90m   @\u001b[39m \u001b[90mCore\u001b[39m \u001b[90m\u001b[4mboot.jl:792\u001b[24m\u001b[39m\n",
      "",
      "Stacktrace:",
      " [1] top-level scope",
      "   @ In[50]:1"
     ]
    }
   ],
   "source": [
    "ModN(0x1, 2)"
   ]
  },
  {
   "cell_type": "markdown",
   "metadata": {
    "slideshow": {
     "slide_type": "slide"
    }
   },
   "source": [
    "## Promotion\n",
    "\n",
    "- To do operations like `+` and `*` on different types, Julia _widens_ one type\n",
    "- For example, `+(1.0, 1)` is essentially `+(1.0, convert(Float64, 1))`\n",
    "- Julia picks the type using `promote_rule`"
   ]
  },
  {
   "cell_type": "code",
   "execution_count": 51,
   "metadata": {
    "slideshow": {
     "slide_type": "fragment"
    }
   },
   "outputs": [
    {
     "data": {
      "text/plain": [
       "(1.0, 1.0)"
      ]
     },
     "execution_count": 51,
     "metadata": {},
     "output_type": "execute_result"
    }
   ],
   "source": [
    "promote(1.0, 1)"
   ]
  },
  {
   "cell_type": "code",
   "execution_count": 52,
   "metadata": {
    "slideshow": {
     "slide_type": "fragment"
    }
   },
   "outputs": [
    {
     "data": {
      "text/plain": [
       "Float64"
      ]
     },
     "execution_count": 52,
     "metadata": {},
     "output_type": "execute_result"
    }
   ],
   "source": [
    "promote_rule(Float64, Int64)"
   ]
  },
  {
   "cell_type": "markdown",
   "metadata": {
    "slideshow": {
     "slide_type": "fragment"
    }
   },
   "source": [
    "- So, let's use this system!\n",
    "- We'll define constructors for `ModN`\n",
    "  - Constructors in Julia are just functions that have the same name as the type\n",
    "- We saw before that we had a method `ModN(::T, ::T) where {T <: Integer}`"
   ]
  },
  {
   "cell_type": "code",
   "execution_count": 53,
   "metadata": {
    "slideshow": {
     "slide_type": "fragment"
    }
   },
   "outputs": [
    {
     "data": {
      "text/plain": [
       "ModN"
      ]
     },
     "execution_count": 53,
     "metadata": {},
     "output_type": "execute_result"
    }
   ],
   "source": [
    "ModN(value::Integer, modulus::Integer) = ModN(promote(value, modulus)...)"
   ]
  },
  {
   "cell_type": "code",
   "execution_count": 54,
   "metadata": {
    "slideshow": {
     "slide_type": "fragment"
    }
   },
   "outputs": [
    {
     "data": {
      "text/plain": [
       "ModN{Int64}(1 mod 2)"
      ]
     },
     "execution_count": 54,
     "metadata": {},
     "output_type": "execute_result"
    }
   ],
   "source": [
    "ModN(0x1, 2)"
   ]
  },
  {
   "cell_type": "code",
   "execution_count": 55,
   "metadata": {
    "slideshow": {
     "slide_type": "fragment"
    }
   },
   "outputs": [
    {
     "data": {
      "text/plain": [
       "congruent (generic function with 2 methods)"
      ]
     },
     "execution_count": 55,
     "metadata": {},
     "output_type": "execute_result"
    }
   ],
   "source": [
    "function +(x::ModN{T}, y::ModN{U}) where {T, U}\n",
    "    if x.modulus != y.modulus\n",
    "        throw(MismatchedModulusException(x, y))\n",
    "    end\n",
    "    ModN(x.value + y.value, x.modulus)\n",
    "end\n",
    "\n",
    "function congruent(x::ModN, y::ModN)\n",
    "    if x.modulus != y.modulus\n",
    "        throw(MismatchedModulusException(x, y))\n",
    "    end\n",
    "    mod(x.value, x.modulus) == mod(y.value, y.modulus)\n",
    "end"
   ]
  },
  {
   "cell_type": "code",
   "execution_count": 56,
   "metadata": {
    "slideshow": {
     "slide_type": "fragment"
    }
   },
   "outputs": [
    {
     "data": {
      "text/plain": [
       "ModN{Int64}(2 mod 5)"
      ]
     },
     "execution_count": 56,
     "metadata": {},
     "output_type": "execute_result"
    }
   ],
   "source": [
    "ModN(0x1, 0x5) + ModN(1, 5)"
   ]
  },
  {
   "cell_type": "markdown",
   "metadata": {
    "slideshow": {
     "slide_type": "slide"
    }
   },
   "source": [
    "## Iterators\n",
    "\n",
    "- One use of dispatch: easy to iterate!\n",
    "- If you have a type `Iter` which you'd like to iterate over, you just need to define two methods of `iterate`\n",
    "- So, if we wanted to replicate list iteration:"
   ]
  },
  {
   "cell_type": "code",
   "execution_count": 57,
   "metadata": {
    "slideshow": {
     "slide_type": "fragment"
    }
   },
   "outputs": [],
   "source": [
    "struct MyVector{Element}\n",
    "    vector::Vector{Element}\n",
    "end"
   ]
  },
  {
   "cell_type": "code",
   "execution_count": 58,
   "metadata": {
    "slideshow": {
     "slide_type": "fragment"
    }
   },
   "outputs": [
    {
     "data": {
      "text/plain": [
       "iterate (generic function with 248 methods)"
      ]
     },
     "execution_count": 58,
     "metadata": {},
     "output_type": "execute_result"
    }
   ],
   "source": [
    "import Base: iterate\n",
    "\n",
    "# first method: return (first_item, next_state)\n",
    "iterate(v::MyVector) = if length(v.vector) == 0\n",
    "    nothing\n",
    "else\n",
    "    (v.vector[1], 2)\n",
    "end\n",
    "\n",
    "# second method: return (next_item, next_state)\n",
    "iterate(v::MyVector, state) = if state > length(v.vector)\n",
    "    nothing\n",
    "else\n",
    "    (v.vector[state], state + 1)\n",
    "end"
   ]
  },
  {
   "cell_type": "code",
   "execution_count": 59,
   "metadata": {
    "slideshow": {
     "slide_type": "fragment"
    }
   },
   "outputs": [
    {
     "name": "stdout",
     "output_type": "stream",
     "text": [
      "a\n",
      "b\n",
      "c\n",
      "d\n",
      "e\n"
     ]
    }
   ],
   "source": [
    "v = MyVector(['a', 'b', 'c', 'd', 'e'])\n",
    "for x in v\n",
    "    println(x)\n",
    "end"
   ]
  },
  {
   "cell_type": "markdown",
   "metadata": {
    "slideshow": {
     "slide_type": "subslide"
    }
   },
   "source": [
    "- Example: iterating over the first $n$ squares"
   ]
  },
  {
   "cell_type": "code",
   "execution_count": 60,
   "metadata": {
    "slideshow": {
     "slide_type": "fragment"
    }
   },
   "outputs": [],
   "source": [
    "struct Squares\n",
    "    max::Int\n",
    "end"
   ]
  },
  {
   "cell_type": "code",
   "execution_count": 61,
   "metadata": {
    "slideshow": {
     "slide_type": "fragment"
    }
   },
   "outputs": [
    {
     "data": {
      "text/plain": [
       "iterate (generic function with 250 methods)"
      ]
     },
     "execution_count": 61,
     "metadata": {},
     "output_type": "execute_result"
    }
   ],
   "source": [
    "# first method: return (first_item, next_state)\n",
    "iterate(::Squares) = (1, 2)\n",
    "# second method: return (next_item, next_state)\n",
    "iterate(s::Squares, i::Int) = if i > s.max\n",
    "    nothing\n",
    "else\n",
    "    (i^2, i + 1)\n",
    "end"
   ]
  },
  {
   "cell_type": "code",
   "execution_count": 62,
   "metadata": {
    "slideshow": {
     "slide_type": "fragment"
    }
   },
   "outputs": [
    {
     "name": "stdout",
     "output_type": "stream",
     "text": [
      "1, 4, 9, 16, 25, "
     ]
    }
   ],
   "source": [
    "for s in Squares(5)\n",
    "    print(s, \", \")\n",
    "end"
   ]
  },
  {
   "cell_type": "code",
   "execution_count": 63,
   "metadata": {
    "slideshow": {
     "slide_type": "fragment"
    }
   },
   "outputs": [
    {
     "name": "stdout",
     "output_type": "stream",
     "text": [
      "(1, 2)\n",
      "(4, 3)\n",
      "(9, 4)\n",
      "(16, 5)\n",
      "(25, 6)\n",
      "nothing\n"
     ]
    }
   ],
   "source": [
    "s = Squares(5)\n",
    "\n",
    "iterated_item, next_state = iterate(s)\n",
    "println((iterated_item, next_state))\n",
    "\n",
    "iterated_item, next_state = iterate(s, next_state)\n",
    "println((iterated_item, next_state))\n",
    "\n",
    "iterated_item, next_state = iterate(s, next_state)\n",
    "println((iterated_item, next_state))\n",
    "\n",
    "iterated_item, next_state = iterate(s, next_state)\n",
    "println((iterated_item, next_state))\n",
    "\n",
    "iterated_item, next_state = iterate(s, next_state)\n",
    "println((iterated_item, next_state))\n",
    "\n",
    "iter = iterate(s, next_state)\n",
    "println(iter)"
   ]
  },
  {
   "cell_type": "markdown",
   "metadata": {
    "slideshow": {
     "slide_type": "fragment"
    }
   },
   "source": [
    "To explain, Julia turns:\n",
    "\n",
    "```julia\n",
    "for x in iterable\n",
    "    # do something\n",
    "end\n",
    "```\n",
    "\n",
    "into:\n",
    "\n",
    "```julia\n",
    "next = iterate(iterable)\n",
    "while !isnothing(next)\n",
    "    (x, state) = next\n",
    "    # do something\n",
    "    next = iterate(iterable, state)\n",
    "end\n",
    "```"
   ]
  },
  {
   "cell_type": "markdown",
   "metadata": {
    "slideshow": {
     "slide_type": "subslide"
    }
   },
   "source": [
    "### Aside: Dispatch and Defaults\n",
    "\n",
    "- Julia (like many languages) has default parameters\n",
    "- In Python:\n",
    "\n",
    "```python\n",
    ">>> def f(x, y=0):\n",
    "...     print(f\"({x}, {y})\")\n",
    "... \n",
    ">>> f(1, 2)\n",
    "(1, 2)\n",
    ">>> f(1)\n",
    "(1, 0)\n",
    ">>> \n",
    "```"
   ]
  },
  {
   "cell_type": "markdown",
   "metadata": {
    "slideshow": {
     "slide_type": "fragment"
    }
   },
   "source": [
    "- In Julia, we do it through dispatch rather than through function call magic\n",
    "\n",
    "```julia\n",
    "hasdefault(x, y=0) = println(\"($x, $y)\")\n",
    "```\n",
    "\n",
    "is the same as:"
   ]
  },
  {
   "cell_type": "code",
   "execution_count": 64,
   "metadata": {
    "slideshow": {
     "slide_type": "fragment"
    }
   },
   "outputs": [
    {
     "name": "stdout",
     "output_type": "stream",
     "text": [
      "(1, 0)\n",
      "(1, 2)\n"
     ]
    }
   ],
   "source": [
    "hasdefault(x, y) = println(\"($x, $y)\")\n",
    "hasdefault(x) = hasdefault(x, 0)\n",
    "hasdefault(1)\n",
    "hasdefault(1, 2)"
   ]
  },
  {
   "cell_type": "markdown",
   "metadata": {
    "slideshow": {
     "slide_type": "fragment"
    }
   },
   "source": [
    "- So, this would've worked as well:\n",
    "\n",
    "```julia\n",
    "iterate(s::Squares, i::Int=1) = if i > s.max\n",
    "    nothing\n",
    "else\n",
    "    (i^2, i + 1)\n",
    "end\n",
    "```"
   ]
  },
  {
   "cell_type": "markdown",
   "metadata": {
    "slideshow": {
     "slide_type": "subslide"
    }
   },
   "source": [
    "## Interfaces\n",
    "\n",
    "- This iteration is an example of one of Julia's _interfaces_\n",
    "- Unlike e.g. Rust or Haskell, Julia's interfaces are informal and not checked by the compiler during compilation\n",
    "- But they are still powerful!\n",
    "- Other useful interfaces:\n",
    "  - Indexing\n",
    "  - Array"
   ]
  },
  {
   "cell_type": "markdown",
   "metadata": {
    "slideshow": {
     "slide_type": "slide"
    }
   },
   "source": [
    "## Last Exercise of the Evening\n",
    "\n",
    "- Write a type which represents all multiples of integers up to `n`\n",
    "    - I.e. if you build it with `factor = 1.5` and `n = 4`, iterating over it should produce `1.5, 3.0, 4.5, 6.0`\n",
    "- It should store `n` as an `Int`, but have a type parameter `{T <: Number}` for `factor`\n",
    "- Write the two `iterate` methods for it\n",
    "    - [docs.julialang.org/en/v1/manual/interfaces/](https://docs.julialang.org/en/v1/manual/interfaces/)\n",
    "- Then, using the documentation linked above, write a `length` method and a `getindex` method for it\n",
    "- Bonus: what is `eltype` for this type?"
   ]
  },
  {
   "cell_type": "code",
   "execution_count": 65,
   "metadata": {
    "slideshow": {
     "slide_type": "subslide"
    }
   },
   "outputs": [
    {
     "data": {
      "text/plain": [
       "iterate (generic function with 252 methods)"
      ]
     },
     "execution_count": 65,
     "metadata": {},
     "output_type": "execute_result"
    }
   ],
   "source": [
    "struct Multiples{T <: Number}\n",
    "    n::Int\n",
    "    factor::T\n",
    "end\n",
    "\n",
    "function iterate(m::Multiples)\n",
    "    if m.n == 0\n",
    "        return nothing\n",
    "    else\n",
    "        return (m.factor * 1, 2)\n",
    "    end\n",
    "end\n",
    "\n",
    "function iterate(m::Multiples, state::Int)\n",
    "    if state > m.n\n",
    "        return nothing\n",
    "    else\n",
    "        return (m.factor * state, state + 1)\n",
    "    end\n",
    "end\n",
    "\n",
    "function iterate(m::Multiples{T}, state::Int) where {T <: Integer} = ..."
   ]
  },
  {
   "cell_type": "code",
   "execution_count": 66,
   "metadata": {
    "slideshow": {
     "slide_type": "fragment"
    }
   },
   "outputs": [
    {
     "name": "stdout",
     "output_type": "stream",
     "text": [
      "Multiples{Float64}(5, 1.5)\n",
      "1.5\n",
      "3.0\n",
      "4.5\n",
      "6.0\n",
      "7.5\n"
     ]
    }
   ],
   "source": [
    "m = Multiples(5, 1.5)\n",
    "println(m)\n",
    "for x in m\n",
    "    println(x)\n",
    "end"
   ]
  },
  {
   "cell_type": "code",
   "execution_count": 67,
   "metadata": {
    "slideshow": {
     "slide_type": "fragment"
    }
   },
   "outputs": [
    {
     "name": "stdout",
     "output_type": "stream",
     "text": [
      "Multiples{Complex{Bool}}(3, im)\n",
      "0 + 1im\n",
      "0 + 2im\n",
      "0 + 3im\n"
     ]
    }
   ],
   "source": [
    "m = Multiples(3, im)\n",
    "println(m)\n",
    "for x in m\n",
    "    println(x)\n",
    "end"
   ]
  },
  {
   "cell_type": "markdown",
   "metadata": {
    "slideshow": {
     "slide_type": "slide"
    }
   },
   "source": [
    "## In Summary\n",
    "\n",
    "- Julia's REPL is very useful, and often if you forget something just ask it!\n",
    "- Julia is a very expressive language, and the type system is a major part of that\n",
    "- Types form a hierarchy, and are either concrete or abstract\n",
    "- Types may have parameters\n",
    "- We can write our own types and stick them in the hierarchy\n",
    "  - We can get operations like `+` using dispatch\n",
    "- We can do operations on different types using the promotion system"
   ]
  },
  {
   "cell_type": "markdown",
   "metadata": {
    "slideshow": {
     "slide_type": "slide"
    }
   },
   "source": [
    "## Problems \n",
    "\n",
    "- Three short problems, more detailed description is in the starter code\n",
    "  - [juliaworkshop.miakramer.space](https://juliaworkshop.miakramer.space)\n",
    "- Problem 1: Write an iterator over the primes $\\leq n$\n",
    "  - Write a type, write some simple code, use the iterator methods\n",
    "- Problem 2: Write an array type which is the outer product of two vectors\n",
    "  - Write a matrix type, fill in a couple methods and it's fully functional!\n",
    "  - (This makes efficient representations very easy!)\n",
    "- Problem 3: Peano Arithmetic\n",
    "  - Get more comfortable with dispatch and recursion\n",
    "  - (Just don't try too large of problems, this one's a workout for the compiler)"
   ]
  }
 ],
 "metadata": {
  "celltoolbar": "Slideshow",
  "kernelspec": {
   "display_name": "Julia 1.9.3",
   "language": "julia",
   "name": "julia-1.9"
  },
  "language_info": {
   "file_extension": ".jl",
   "mimetype": "application/julia",
   "name": "julia",
   "version": "1.9.3"
  },
  "rise": {
   "enable_chalkboard": true,
   "scroll": true,
   "theme": "serif"
  }
 },
 "nbformat": 4,
 "nbformat_minor": 5
}
