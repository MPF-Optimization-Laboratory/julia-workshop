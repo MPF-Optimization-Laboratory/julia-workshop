{
 "cells": [
  {
   "cell_type": "markdown",
   "id": "a7a16643-b929-468a-9dd4-f0fa9f788a5e",
   "metadata": {
    "editable": true,
    "slideshow": {
     "slide_type": "slide"
    },
    "tags": []
   },
   "source": [
    "# Julia Workshop, Day 5: Documentation, Organizing Programs, Workflow\n",
    "\n",
    "Goals for today:\n",
    "\n",
    "- Write documentation for the module we started last time\n",
    "- Organizing programs at a high level\n",
    "- Discussing workflows for developing Julia\n",
    "- A taste of further Julia: macros and functional programming"
   ]
  },
  {
   "cell_type": "markdown",
   "id": "e993e5ed",
   "metadata": {
    "editable": true,
    "slideshow": {
     "slide_type": "slide"
    },
    "tags": []
   },
   "source": [
    "## Documentation\n",
    "\n",
    "- Docstrings are added like Python, but unlike Python support Markdown syntax\n",
    "- A standard tool for documentation is `Documenter.jl`\n",
    "- To use it, we'll add its own environment just like for testing (run in your project root folder)\n",
    "\n",
    "```\n",
    "] activate docs\n",
    "] add Documenter\n",
    "```\n",
    "\n",
    "- Then, add a `make.jl` file in the docs folder:\n",
    "\n",
    "\n",
    "```julia\n",
    "push!(LOAD_PATH, \"../src/\")  # this makes sure your package can be loaded\n",
    "using Documenter, DemoPackage\n",
    "\n",
    "makedocs(sitename=\"Dual Number Polynomial Differentiation\", remotes=nothing)\n",
    "```\n",
    "\n",
    "- Finally, add an `index.md` file (should be at `DemoPackage/docs/src`):"
   ]
  },
  {
   "cell_type": "raw",
   "id": "fab93884-710d-451c-83b9-d55510e0c8fd",
   "metadata": {
    "editable": true,
    "raw_mimetype": "",
    "slideshow": {
     "slide_type": "fragment"
    },
    "tags": []
   },
   "source": [
    "# Dual Number Polynomial Differentiation\n",
    "\n",
    "```@docs\n",
    "DualNumber\n",
    "```\n",
    "\n",
    "```@docs\n",
    "Polynomial\n",
    "```\n",
    "\n",
    "## Differentiation\n",
    "\n",
    "By using dual numbers with polynomials we can evaluate the derivative! Consider a polynomial ``P(x) = p_0 + p_1 x + \\cdots + p_n x^n``. Then,\n",
    "\n",
    "```math\n",
    "\\begin{aligned}\n",
    "P(a + bϵ) &= p_0 + p_1 (a + bϵ) + \\cdots + p_n (a + bϵ)^n \\\\\n",
    "          &= p_0 + p_1 a + p_2 a^2 + \\dots \\\\\n",
    "          &+ p_1bϵ + 2p_2 abϵ + 3p_3 a^2 b ϵ + \\cdots \\\\\n",
    "          &= P(a) + bP^\\prime(a)ϵ\n",
    "\\end{aligned}\n",
    "```\n",
    "\n",
    "```@docs\n",
    "derivative\n",
    "```"
   ]
  },
  {
   "cell_type": "markdown",
   "id": "8249f271",
   "metadata": {
    "editable": true,
    "slideshow": {
     "slide_type": "fragment"
    },
    "tags": []
   },
   "source": [
    "- Now, in the `docs` directory, you can build the docs like `julia --project make.jl`\n",
    "- A good way to run a test serve of them is `python3 -m http.server 8000 --directory build`, which you can then access at `http://localhost:8000`"
   ]
  },
  {
   "cell_type": "markdown",
   "id": "d231701e",
   "metadata": {
    "slideshow": {
     "slide_type": "slide"
    }
   },
   "source": [
    "## Using `git`\n",
    "\n",
    "- I don't want to spend time on using git, but it's a fanastic tool\n",
    "- A good guide is available [here](https://git-scm.com/book/en/v2)\n",
    "- _You should use it_\n",
    "  - Don't ever comment out an old version of code, just branch and delete it!\n",
    "- A starting `.gitignore` for Julia projects is:\n",
    "\n",
    "```\n",
    ".DS_Store\n",
    "/docs/build/\n",
    "/docs/site/\n",
    ".vscode\n",
    "*.jl.cov\n",
    "*.jl.*.cov\n",
    "/Manifest.toml\n",
    "/test/Manifest.toml\n",
    "/docs/Manifest.toml\n",
    "```"
   ]
  },
  {
   "cell_type": "markdown",
   "id": "77ce0650",
   "metadata": {
    "slideshow": {
     "slide_type": "slide"
    }
   },
   "source": [
    "## Organizing a Program\n",
    "\n",
    "- It's difficult to give concrete instructions\n",
    "\n",
    "Things to keep in mind:\n",
    "\n",
    "- Code is read more often than it is written\n",
    "  - Give things meaningful names\n",
    "  - Write a comment if you had to think about what to do\n",
    "  - Follow the style guide\n",
    "  - No \"magic numbers\"\n",
    "- Humans have atrocious working memory\n",
    "  - Pieces of your program (modules, types, functions) should have a clear, understandable meaning\n",
    "  - You should be able to reason abstractly about them"
   ]
  },
  {
   "cell_type": "markdown",
   "id": "5dad5c3d",
   "metadata": {
    "editable": true,
    "slideshow": {
     "slide_type": "subslide"
    },
    "tags": []
   },
   "source": [
    "1. Start with your data.\n",
    "  - Ask:\n",
    "    - What does it look like? What's a good representation?\n",
    "    - The best representation may not be the way you get data\n",
    "    - Tabular/relational? Time series? Graphical? Tree? Geographical?\n",
    "    - Which pieces of data always go together?\n",
    "  - Write types to store your data\n",
    "    - Types are cheap!\n",
    "    - If you need strong guarantees, write inner constructors\n",
    "    - Write some outer constructors for ways you'll be commonly constructing these types\n",
    "    - Don't be afraid to write your own array type or implement an algebra"
   ]
  },
  {
   "cell_type": "markdown",
   "id": "b95c8ba7",
   "metadata": {
    "slideshow": {
     "slide_type": "fragment"
    }
   },
   "source": [
    "2. Write some helper functions to get at common information you'll need\n",
    "  - Functions are cheap!\n",
    "  - Examples:\n",
    "    - If you're storing start and end times, write a `duration` function\n",
    "    - If you're storing polar coordinates, write a function to get Cartesian coordinates\n",
    "    - If you have a graph, write functions to make it easier to move around/get edge information\n",
    "  - Make the names descriptive: this helps make your code readable\n",
    "    - Consider `timer.t_end - timer.t_start` vs `duration(timer)`\n",
    "    - Or `coord.r * cos(coord.θ)` vs `x(coord)`"
   ]
  },
  {
   "cell_type": "markdown",
   "id": "5ec6f09e",
   "metadata": {
    "slideshow": {
     "slide_type": "fragment"
    }
   },
   "source": [
    "3. Sketch the main bit of your program\n",
    "  - The `main` function or your algorithm\n",
    "  - Keep it very high level\n",
    "  - Call functions you wish existed\n",
    "  - Give things meaningful names, autocomplete exists for a reason!"
   ]
  },
  {
   "cell_type": "markdown",
   "id": "6e1b64c8",
   "metadata": {
    "slideshow": {
     "slide_type": "fragment"
    }
   },
   "source": [
    "4. Fill in functions you named in 3.\n",
    "  - Also keep them high level, this step is recursive\n",
    "  - Remember, functions should have a clear semantic meaning\n",
    "  - If you use a similar bit of code in more than ~three places, consider separating it into a function\n",
    "  \n",
    "Clues you may need to write another function:\n",
    "\n",
    "- Lots of nested `if`s and `for`s\n",
    "- Very long functions which do many things"
   ]
  },
  {
   "cell_type": "markdown",
   "id": "f24311ba",
   "metadata": {
    "slideshow": {
     "slide_type": "slide"
    }
   },
   "source": [
    "## Miscellanea\n",
    "\n",
    "- There is so much more to Julia"
   ]
  },
  {
   "cell_type": "markdown",
   "id": "599811b1",
   "metadata": {
    "slideshow": {
     "slide_type": "subslide"
    }
   },
   "source": [
    "### Some Useful Packages\n",
    "\n",
    "- For plotting:\n",
    "  - `Plots.jl` is very flexible, and can output to many backends\n",
    "    - It's somewhat slow, especially to get started\n",
    "    - However, it can output to `pgfplots` so your plots can match your TeX documents\n",
    "    - The documentation isn't very good\n",
    "  - `Makie.jl` is a newer project with a focus on performance\n",
    "    - Can render on GPUs, including ray tracing on AMD GPUs\n",
    "    - Also can make interactive plots\n",
    "- For dataframes (like `pandas`), consider `DataFrames.jl`\n",
    "- `Zygote.jl` does automatic differentiation on whole programs\n",
    "  - `RayTracer.jl` was a pure-Julia differentiable ray tracer for e.g. inverse graphics \n",
    "- `Unitful.jl` does arithmetic and conversions on quantities with units with minimal runtime cost\n",
    "- `Measurements.jl` does uncertainty propagation\n",
    "- `FFTW.jl` for FFTs, `DifferentialEquations.jl`, `JuMP.jl` & `ModelingToolkit.jl`, `Yao.jl` for QC, &c\n",
    "\n",
    "Beyond this, [juliapackages.com](https://juliapackages.com/packages) has a categorized list of packages, and the number of stars on GitHub/GitLab"
   ]
  },
  {
   "cell_type": "code",
   "execution_count": 2,
   "id": "c9221ae7",
   "metadata": {
    "editable": true,
    "slideshow": {
     "slide_type": "subslide"
    },
    "tags": []
   },
   "outputs": [
    {
     "data": {
      "image/png": "[encoded data removed]",
      "image/svg+xml": [
       "<?xml version=\"1.0\" encoding=\"utf-8\"?>\n",
       "<svg xmlns=\"http://www.w3.org/2000/svg\" xmlns:xlink=\"http://www.w3.org/1999/xlink\" width=\"600\" height=\"400\" viewBox=\"0 0 2400 1600\">\n",
       "<defs>\n",
       "  <clipPath id=\"clip920\">\n",
       "    <rect x=\"0\" y=\"0\" width=\"2400\" height=\"1600\"/>\n",
       "  </clipPath>\n",
       "</defs>\n",
       "<path clip-path=\"url(#clip920)\" d=\"M0 1600 L2400 1600 L2400 8.88178e-14 L0 8.88178e-14  Z\" fill=\"#ffffff\" fill-rule=\"evenodd\" fill-opacity=\"1\"/>\n",
       "<defs>\n",
       "  <clipPath id=\"clip921\">\n",
       "    <rect x=\"480\" y=\"0\" width=\"1681\" height=\"1600\"/>\n",
       "  </clipPath>\n",
       "</defs>\n",
       "<path clip-path=\"url(#clip920)\" d=\"M264.287 1423.18 L2352.76 1423.18 L2352.76 47.2441 L264.287 47.2441  Z\" fill=\"#ffffff\" fill-rule=\"evenodd\" fill-opacity=\"1\"/>\n",
       "<defs>\n",
       "  <clipPath id=\"clip922\">\n",
       "    <rect x=\"264\" y=\"47\" width=\"2089\" height=\"1377\"/>\n",
       "  </clipPath>\n",
       "</defs>\n",
       "<polyline clip-path=\"url(#clip922)\" style=\"stroke:#000000; stroke-linecap:round; stroke-linejoin:round; stroke-width:2; stroke-opacity:0.1; fill:none\" points=\"292.61,1423.18 292.61,47.2441 \"/>\n",
       "<polyline clip-path=\"url(#clip922)\" style=\"stroke:#000000; stroke-linecap:round; stroke-linejoin:round; stroke-width:2; stroke-opacity:0.1; fill:none\" points=\"600.462,1423.18 600.462,47.2441 \"/>\n",
       "<polyline clip-path=\"url(#clip922)\" style=\"stroke:#000000; stroke-linecap:round; stroke-linejoin:round; stroke-width:2; stroke-opacity:0.1; fill:none\" points=\"908.314,1423.18 908.314,47.2441 \"/>\n",
       "<polyline clip-path=\"url(#clip922)\" style=\"stroke:#000000; stroke-linecap:round; stroke-linejoin:round; stroke-width:2; stroke-opacity:0.1; fill:none\" points=\"1216.17,1423.18 1216.17,47.2441 \"/>\n",
       "<polyline clip-path=\"url(#clip922)\" style=\"stroke:#000000; stroke-linecap:round; stroke-linejoin:round; stroke-width:2; stroke-opacity:0.1; fill:none\" points=\"1524.02,1423.18 1524.02,47.2441 \"/>\n",
       "<polyline clip-path=\"url(#clip922)\" style=\"stroke:#000000; stroke-linecap:round; stroke-linejoin:round; stroke-width:2; stroke-opacity:0.1; fill:none\" points=\"1831.87,1423.18 1831.87,47.2441 \"/>\n",
       "<polyline clip-path=\"url(#clip922)\" style=\"stroke:#000000; stroke-linecap:round; stroke-linejoin:round; stroke-width:2; stroke-opacity:0.1; fill:none\" points=\"2139.72,1423.18 2139.72,47.2441 \"/>\n",
       "<polyline clip-path=\"url(#clip922)\" style=\"stroke:#000000; stroke-linecap:round; stroke-linejoin:round; stroke-width:2; stroke-opacity:0.1; fill:none\" points=\"264.287,1387.36 2352.76,1387.36 \"/>\n",
       "<polyline clip-path=\"url(#clip922)\" style=\"stroke:#000000; stroke-linecap:round; stroke-linejoin:round; stroke-width:2; stroke-opacity:0.1; fill:none\" points=\"264.287,949.84 2352.76,949.84 \"/>\n",
       "<polyline clip-path=\"url(#clip922)\" style=\"stroke:#000000; stroke-linecap:round; stroke-linejoin:round; stroke-width:2; stroke-opacity:0.1; fill:none\" points=\"264.287,512.321 2352.76,512.321 \"/>\n",
       "<polyline clip-path=\"url(#clip922)\" style=\"stroke:#000000; stroke-linecap:round; stroke-linejoin:round; stroke-width:2; stroke-opacity:0.1; fill:none\" points=\"264.287,74.8009 2352.76,74.8009 \"/>\n",
       "<polyline clip-path=\"url(#clip920)\" style=\"stroke:#000000; stroke-linecap:round; stroke-linejoin:round; stroke-width:4; stroke-opacity:1; fill:none\" points=\"264.287,1423.18 2352.76,1423.18 \"/>\n",
       "<polyline clip-path=\"url(#clip920)\" style=\"stroke:#000000; stroke-linecap:round; stroke-linejoin:round; stroke-width:4; stroke-opacity:1; fill:none\" points=\"292.61,1423.18 292.61,1404.28 \"/>\n",
       "<polyline clip-path=\"url(#clip920)\" style=\"stroke:#000000; stroke-linecap:round; stroke-linejoin:round; stroke-width:4; stroke-opacity:1; fill:none\" points=\"600.462,1423.18 600.462,1404.28 \"/>\n",
       "<polyline clip-path=\"url(#clip920)\" style=\"stroke:#000000; stroke-linecap:round; stroke-linejoin:round; stroke-width:4; stroke-opacity:1; fill:none\" points=\"908.314,1423.18 908.314,1404.28 \"/>\n",
       "<polyline clip-path=\"url(#clip920)\" style=\"stroke:#000000; stroke-linecap:round; stroke-linejoin:round; stroke-width:4; stroke-opacity:1; fill:none\" points=\"1216.17,1423.18 1216.17,1404.28 \"/>\n",
       "<polyline clip-path=\"url(#clip920)\" style=\"stroke:#000000; stroke-linecap:round; stroke-linejoin:round; stroke-width:4; stroke-opacity:1; fill:none\" points=\"1524.02,1423.18 1524.02,1404.28 \"/>\n",
       "<polyline clip-path=\"url(#clip920)\" style=\"stroke:#000000; stroke-linecap:round; stroke-linejoin:round; stroke-width:4; stroke-opacity:1; fill:none\" points=\"1831.87,1423.18 1831.87,1404.28 \"/>\n",
       "<polyline clip-path=\"url(#clip920)\" style=\"stroke:#000000; stroke-linecap:round; stroke-linejoin:round; stroke-width:4; stroke-opacity:1; fill:none\" points=\"2139.72,1423.18 2139.72,1404.28 \"/>\n",
       "<path clip-path=\"url(#clip920)\" d=\"M292.61 1454.1 Q288.999 1454.1 287.17 1457.66 Q285.364 1461.2 285.364 1468.33 Q285.364 1475.44 287.17 1479.01 Q288.999 1482.55 292.61 1482.55 Q296.244 1482.55 298.05 1479.01 Q299.878 1475.44 299.878 1468.33 Q299.878 1461.2 298.05 1457.66 Q296.244 1454.1 292.61 1454.1 M292.61 1450.39 Q298.42 1450.39 301.475 1455 Q304.554 1459.58 304.554 1468.33 Q304.554 1477.06 301.475 1481.67 Q298.42 1486.25 292.61 1486.25 Q286.8 1486.25 283.721 1481.67 Q280.665 1477.06 280.665 1468.33 Q280.665 1459.58 283.721 1455 Q286.8 1450.39 292.61 1450.39 Z\" fill=\"#000000\" fill-rule=\"nonzero\" fill-opacity=\"1\" /><path clip-path=\"url(#clip920)\" d=\"M575.149 1481.64 L582.788 1481.64 L582.788 1455.28 L574.478 1456.95 L574.478 1452.69 L582.742 1451.02 L587.418 1451.02 L587.418 1481.64 L595.057 1481.64 L595.057 1485.58 L575.149 1485.58 L575.149 1481.64 Z\" fill=\"#000000\" fill-rule=\"nonzero\" fill-opacity=\"1\" /><path clip-path=\"url(#clip920)\" d=\"M614.501 1454.1 Q610.89 1454.1 609.061 1457.66 Q607.256 1461.2 607.256 1468.33 Q607.256 1475.44 609.061 1479.01 Q610.89 1482.55 614.501 1482.55 Q618.135 1482.55 619.941 1479.01 Q621.77 1475.44 621.77 1468.33 Q621.77 1461.2 619.941 1457.66 Q618.135 1454.1 614.501 1454.1 M614.501 1450.39 Q620.311 1450.39 623.367 1455 Q626.445 1459.58 626.445 1468.33 Q626.445 1477.06 623.367 1481.67 Q620.311 1486.25 614.501 1486.25 Q608.691 1486.25 605.612 1481.67 Q602.557 1477.06 602.557 1468.33 Q602.557 1459.58 605.612 1455 Q608.691 1450.39 614.501 1450.39 Z\" fill=\"#000000\" fill-rule=\"nonzero\" fill-opacity=\"1\" /><path clip-path=\"url(#clip920)\" d=\"M887.087 1481.64 L903.407 1481.64 L903.407 1485.58 L881.462 1485.58 L881.462 1481.64 Q884.124 1478.89 888.708 1474.26 Q893.314 1469.61 894.495 1468.27 Q896.74 1465.74 897.62 1464.01 Q898.522 1462.25 898.522 1460.56 Q898.522 1457.8 896.578 1456.07 Q894.657 1454.33 891.555 1454.33 Q889.356 1454.33 886.902 1455.09 Q884.471 1455.86 881.694 1457.41 L881.694 1452.69 Q884.518 1451.55 886.971 1450.97 Q889.425 1450.39 891.462 1450.39 Q896.832 1450.39 900.027 1453.08 Q903.221 1455.77 903.221 1460.26 Q903.221 1462.39 902.411 1464.31 Q901.624 1466.2 899.518 1468.8 Q898.939 1469.47 895.837 1472.69 Q892.735 1475.88 887.087 1481.64 Z\" fill=\"#000000\" fill-rule=\"nonzero\" fill-opacity=\"1\" /><path clip-path=\"url(#clip920)\" d=\"M923.221 1454.1 Q919.61 1454.1 917.781 1457.66 Q915.976 1461.2 915.976 1468.33 Q915.976 1475.44 917.781 1479.01 Q919.61 1482.55 923.221 1482.55 Q926.855 1482.55 928.661 1479.01 Q930.49 1475.44 930.49 1468.33 Q930.49 1461.2 928.661 1457.66 Q926.855 1454.1 923.221 1454.1 M923.221 1450.39 Q929.031 1450.39 932.087 1455 Q935.166 1459.58 935.166 1468.33 Q935.166 1477.06 932.087 1481.67 Q929.031 1486.25 923.221 1486.25 Q917.411 1486.25 914.332 1481.67 Q911.277 1477.06 911.277 1468.33 Q911.277 1459.58 914.332 1455 Q917.411 1450.39 923.221 1450.39 Z\" fill=\"#000000\" fill-rule=\"nonzero\" fill-opacity=\"1\" /><path clip-path=\"url(#clip920)\" d=\"M1205.01 1466.95 Q1208.37 1467.66 1210.24 1469.93 Q1212.14 1472.2 1212.14 1475.53 Q1212.14 1480.65 1208.62 1483.45 Q1205.1 1486.25 1198.62 1486.25 Q1196.44 1486.25 1194.13 1485.81 Q1191.84 1485.39 1189.38 1484.54 L1189.38 1480.02 Q1191.33 1481.16 1193.64 1481.74 Q1195.96 1482.32 1198.48 1482.32 Q1202.88 1482.32 1205.17 1480.58 Q1207.49 1478.84 1207.49 1475.53 Q1207.49 1472.48 1205.33 1470.77 Q1203.2 1469.03 1199.38 1469.03 L1195.36 1469.03 L1195.36 1465.19 L1199.57 1465.19 Q1203.02 1465.19 1204.85 1463.82 Q1206.68 1462.43 1206.68 1459.84 Q1206.68 1457.18 1204.78 1455.77 Q1202.9 1454.33 1199.38 1454.33 Q1197.46 1454.33 1195.26 1454.75 Q1193.06 1455.16 1190.43 1456.04 L1190.43 1451.88 Q1193.09 1451.14 1195.4 1450.77 Q1197.74 1450.39 1199.8 1450.39 Q1205.12 1450.39 1208.23 1452.83 Q1211.33 1455.23 1211.33 1459.35 Q1211.33 1462.22 1209.68 1464.21 Q1208.04 1466.18 1205.01 1466.95 Z\" fill=\"#000000\" fill-rule=\"nonzero\" fill-opacity=\"1\" /><path clip-path=\"url(#clip920)\" d=\"M1231 1454.1 Q1227.39 1454.1 1225.56 1457.66 Q1223.76 1461.2 1223.76 1468.33 Q1223.76 1475.44 1225.56 1479.01 Q1227.39 1482.55 1231 1482.55 Q1234.64 1482.55 1236.44 1479.01 Q1238.27 1475.44 1238.27 1468.33 Q1238.27 1461.2 1236.44 1457.66 Q1234.64 1454.1 1231 1454.1 M1231 1450.39 Q1236.81 1450.39 1239.87 1455 Q1242.95 1459.58 1242.95 1468.33 Q1242.95 1477.06 1239.87 1481.67 Q1236.81 1486.25 1231 1486.25 Q1225.19 1486.25 1222.12 1481.67 Q1219.06 1477.06 1219.06 1468.33 Q1219.06 1459.58 1222.12 1455 Q1225.19 1450.39 1231 1450.39 Z\" fill=\"#000000\" fill-rule=\"nonzero\" fill-opacity=\"1\" /><path clip-path=\"url(#clip920)\" d=\"M1512.19 1455.09 L1500.38 1473.54 L1512.19 1473.54 L1512.19 1455.09 M1510.96 1451.02 L1516.84 1451.02 L1516.84 1473.54 L1521.77 1473.54 L1521.77 1477.43 L1516.84 1477.43 L1516.84 1485.58 L1512.19 1485.58 L1512.19 1477.43 L1496.59 1477.43 L1496.59 1472.92 L1510.96 1451.02 Z\" fill=\"#000000\" fill-rule=\"nonzero\" fill-opacity=\"1\" /><path clip-path=\"url(#clip920)\" d=\"M1539.5 1454.1 Q1535.89 1454.1 1534.06 1457.66 Q1532.26 1461.2 1532.26 1468.33 Q1532.26 1475.44 1534.06 1479.01 Q1535.89 1482.55 1539.5 1482.55 Q1543.14 1482.55 1544.94 1479.01 Q1546.77 1475.44 1546.77 1468.33 Q1546.77 1461.2 1544.94 1457.66 Q1543.14 1454.1 1539.5 1454.1 M1539.5 1450.39 Q1545.31 1450.39 1548.37 1455 Q1551.45 1459.58 1551.45 1468.33 Q1551.45 1477.06 1548.37 1481.67 Q1545.31 1486.25 1539.5 1486.25 Q1533.69 1486.25 1530.62 1481.67 Q1527.56 1477.06 1527.56 1468.33 Q1527.56 1459.58 1530.62 1455 Q1533.69 1450.39 1539.5 1450.39 Z\" fill=\"#000000\" fill-rule=\"nonzero\" fill-opacity=\"1\" /><path clip-path=\"url(#clip920)\" d=\"M1806.57 1451.02 L1824.93 1451.02 L1824.93 1454.96 L1810.85 1454.96 L1810.85 1463.43 Q1811.87 1463.08 1812.89 1462.92 Q1813.91 1462.73 1814.93 1462.73 Q1820.71 1462.73 1824.09 1465.9 Q1827.47 1469.08 1827.47 1474.49 Q1827.47 1480.07 1824 1483.17 Q1820.53 1486.25 1814.21 1486.25 Q1812.03 1486.25 1809.76 1485.88 Q1807.52 1485.51 1805.11 1484.77 L1805.11 1480.07 Q1807.19 1481.2 1809.42 1481.76 Q1811.64 1482.32 1814.12 1482.32 Q1818.12 1482.32 1820.46 1480.21 Q1822.8 1478.1 1822.8 1474.49 Q1822.8 1470.88 1820.46 1468.77 Q1818.12 1466.67 1814.12 1466.67 Q1812.24 1466.67 1810.37 1467.08 Q1808.51 1467.5 1806.57 1468.38 L1806.57 1451.02 Z\" fill=\"#000000\" fill-rule=\"nonzero\" fill-opacity=\"1\" /><path clip-path=\"url(#clip920)\" d=\"M1846.68 1454.1 Q1843.07 1454.1 1841.25 1457.66 Q1839.44 1461.2 1839.44 1468.33 Q1839.44 1475.44 1841.25 1479.01 Q1843.07 1482.55 1846.68 1482.55 Q1850.32 1482.55 1852.12 1479.01 Q1853.95 1475.44 1853.95 1468.33 Q1853.95 1461.2 1852.12 1457.66 Q1850.32 1454.1 1846.68 1454.1 M1846.68 1450.39 Q1852.5 1450.39 1855.55 1455 Q1858.63 1459.58 1858.63 1468.33 Q1858.63 1477.06 1855.55 1481.67 Q1852.5 1486.25 1846.68 1486.25 Q1840.87 1486.25 1837.8 1481.67 Q1834.74 1477.06 1834.74 1468.33 Q1834.74 1459.58 1837.8 1455 Q1840.87 1450.39 1846.68 1450.39 Z\" fill=\"#000000\" fill-rule=\"nonzero\" fill-opacity=\"1\" /><path clip-path=\"url(#clip920)\" d=\"M2125.13 1466.44 Q2121.98 1466.44 2120.13 1468.59 Q2118.3 1470.74 2118.3 1474.49 Q2118.3 1478.22 2120.13 1480.39 Q2121.98 1482.55 2125.13 1482.55 Q2128.28 1482.55 2130.1 1480.39 Q2131.96 1478.22 2131.96 1474.49 Q2131.96 1470.74 2130.1 1468.59 Q2128.28 1466.44 2125.13 1466.44 M2134.41 1451.78 L2134.41 1456.04 Q2132.65 1455.21 2130.84 1454.77 Q2129.06 1454.33 2127.3 1454.33 Q2122.67 1454.33 2120.22 1457.45 Q2117.79 1460.58 2117.44 1466.9 Q2118.81 1464.89 2120.87 1463.82 Q2122.93 1462.73 2125.41 1462.73 Q2130.61 1462.73 2133.62 1465.9 Q2136.66 1469.05 2136.66 1474.49 Q2136.66 1479.82 2133.51 1483.03 Q2130.36 1486.25 2125.13 1486.25 Q2119.13 1486.25 2115.96 1481.67 Q2112.79 1477.06 2112.79 1468.33 Q2112.79 1460.14 2116.68 1455.28 Q2120.57 1450.39 2127.12 1450.39 Q2128.88 1450.39 2130.66 1450.74 Q2132.47 1451.09 2134.41 1451.78 Z\" fill=\"#000000\" fill-rule=\"nonzero\" fill-opacity=\"1\" /><path clip-path=\"url(#clip920)\" d=\"M2154.71 1454.1 Q2151.1 1454.1 2149.27 1457.66 Q2147.47 1461.2 2147.47 1468.33 Q2147.47 1475.44 2149.27 1479.01 Q2151.1 1482.55 2154.71 1482.55 Q2158.34 1482.55 2160.15 1479.01 Q2161.98 1475.44 2161.98 1468.33 Q2161.98 1461.2 2160.15 1457.66 Q2158.34 1454.1 2154.71 1454.1 M2154.71 1450.39 Q2160.52 1450.39 2163.58 1455 Q2166.65 1459.58 2166.65 1468.33 Q2166.65 1477.06 2163.58 1481.67 Q2160.52 1486.25 2154.71 1486.25 Q2148.9 1486.25 2145.82 1481.67 Q2142.77 1477.06 2142.77 1468.33 Q2142.77 1459.58 2145.82 1455 Q2148.9 1450.39 2154.71 1450.39 Z\" fill=\"#000000\" fill-rule=\"nonzero\" fill-opacity=\"1\" /><path clip-path=\"url(#clip920)\" d=\"M1158.08 1520.52 L1164.51 1520.52 L1164.51 1568.04 L1158.08 1568.04 L1158.08 1520.52 Z\" fill=\"#000000\" fill-rule=\"nonzero\" fill-opacity=\"1\" /><path clip-path=\"url(#clip920)\" d=\"M1182.85 1522.27 L1182.85 1532.4 L1194.91 1532.4 L1194.91 1536.95 L1182.85 1536.95 L1182.85 1556.3 Q1182.85 1560.66 1184.02 1561.9 Q1185.23 1563.14 1188.89 1563.14 L1194.91 1563.14 L1194.91 1568.04 L1188.89 1568.04 Q1182.11 1568.04 1179.54 1565.53 Q1176.96 1562.98 1176.96 1556.3 L1176.96 1536.95 L1172.66 1536.95 L1172.66 1532.4 L1176.96 1532.4 L1176.96 1522.27 L1182.85 1522.27 Z\" fill=\"#000000\" fill-rule=\"nonzero\" fill-opacity=\"1\" /><path clip-path=\"url(#clip920)\" d=\"M1233.1 1548.76 L1233.1 1551.62 L1206.18 1551.62 Q1206.56 1557.67 1209.81 1560.85 Q1213.08 1564 1218.91 1564 Q1222.28 1564 1225.43 1563.17 Q1228.62 1562.35 1231.74 1560.69 L1231.74 1566.23 Q1228.58 1567.57 1225.27 1568.27 Q1221.96 1568.97 1218.56 1568.97 Q1210.03 1568.97 1205.03 1564 Q1200.07 1559.04 1200.07 1550.57 Q1200.07 1541.82 1204.78 1536.69 Q1209.52 1531.54 1217.54 1531.54 Q1224.73 1531.54 1228.9 1536.18 Q1233.1 1540.8 1233.1 1548.76 M1227.25 1547.04 Q1227.18 1542.23 1224.54 1539.37 Q1221.93 1536.5 1217.6 1536.5 Q1212.7 1536.5 1209.74 1539.27 Q1206.81 1542.04 1206.37 1547.07 L1227.25 1547.04 Z\" fill=\"#000000\" fill-rule=\"nonzero\" fill-opacity=\"1\" /><path clip-path=\"url(#clip920)\" d=\"M1263.37 1537.87 Q1262.39 1537.3 1261.21 1537.04 Q1260.06 1536.76 1258.66 1536.76 Q1253.7 1536.76 1251.02 1540 Q1248.38 1543.22 1248.38 1549.27 L1248.38 1568.04 L1242.49 1568.04 L1242.49 1532.4 L1248.38 1532.4 L1248.38 1537.93 Q1250.23 1534.69 1253.19 1533.13 Q1256.15 1531.54 1260.38 1531.54 Q1260.99 1531.54 1261.72 1531.63 Q1262.45 1531.7 1263.34 1531.85 L1263.37 1537.87 Z\" fill=\"#000000\" fill-rule=\"nonzero\" fill-opacity=\"1\" /><path clip-path=\"url(#clip920)\" d=\"M1285.72 1550.12 Q1278.62 1550.12 1275.88 1551.75 Q1273.14 1553.37 1273.14 1557.29 Q1273.14 1560.4 1275.18 1562.25 Q1277.25 1564.07 1280.78 1564.07 Q1285.65 1564.07 1288.58 1560.63 Q1291.54 1557.16 1291.54 1551.43 L1291.54 1550.12 L1285.72 1550.12 M1297.4 1547.71 L1297.4 1568.04 L1291.54 1568.04 L1291.54 1562.63 Q1289.54 1565.88 1286.54 1567.44 Q1283.55 1568.97 1279.22 1568.97 Q1273.75 1568.97 1270.5 1565.91 Q1267.29 1562.82 1267.29 1557.67 Q1267.29 1551.65 1271.3 1548.6 Q1275.34 1545.54 1283.33 1545.54 L1291.54 1545.54 L1291.54 1544.97 Q1291.54 1540.93 1288.87 1538.73 Q1286.23 1536.5 1281.42 1536.5 Q1278.36 1536.5 1275.47 1537.23 Q1272.57 1537.97 1269.9 1539.43 L1269.9 1534.02 Q1273.11 1532.78 1276.14 1532.17 Q1279.16 1531.54 1282.02 1531.54 Q1289.76 1531.54 1293.58 1535.55 Q1297.4 1539.56 1297.4 1547.71 Z\" fill=\"#000000\" fill-rule=\"nonzero\" fill-opacity=\"1\" /><path clip-path=\"url(#clip920)\" d=\"M1315.25 1522.27 L1315.25 1532.4 L1327.32 1532.4 L1327.32 1536.95 L1315.25 1536.95 L1315.25 1556.3 Q1315.25 1560.66 1316.43 1561.9 Q1317.64 1563.14 1321.3 1563.14 L1327.32 1563.14 L1327.32 1568.04 L1321.3 1568.04 Q1314.52 1568.04 1311.94 1565.53 Q1309.37 1562.98 1309.37 1556.3 L1309.37 1536.95 L1305.07 1536.95 L1305.07 1532.4 L1309.37 1532.4 L1309.37 1522.27 L1315.25 1522.27 Z\" fill=\"#000000\" fill-rule=\"nonzero\" fill-opacity=\"1\" /><path clip-path=\"url(#clip920)\" d=\"M1335.02 1532.4 L1340.88 1532.4 L1340.88 1568.04 L1335.02 1568.04 L1335.02 1532.4 M1335.02 1518.52 L1340.88 1518.52 L1340.88 1525.93 L1335.02 1525.93 L1335.02 1518.52 Z\" fill=\"#000000\" fill-rule=\"nonzero\" fill-opacity=\"1\" /><path clip-path=\"url(#clip920)\" d=\"M1366.94 1536.5 Q1362.23 1536.5 1359.5 1540.19 Q1356.76 1543.85 1356.76 1550.25 Q1356.76 1556.65 1359.46 1560.34 Q1362.2 1564 1366.94 1564 Q1371.62 1564 1374.36 1560.31 Q1377.1 1556.62 1377.1 1550.25 Q1377.1 1543.92 1374.36 1540.23 Q1371.62 1536.5 1366.94 1536.5 M1366.94 1531.54 Q1374.58 1531.54 1378.94 1536.5 Q1383.3 1541.47 1383.3 1550.25 Q1383.3 1559 1378.94 1564 Q1374.58 1568.97 1366.94 1568.97 Q1359.27 1568.97 1354.91 1564 Q1350.58 1559 1350.58 1550.25 Q1350.58 1541.47 1354.91 1536.5 Q1359.27 1531.54 1366.94 1531.54 Z\" fill=\"#000000\" fill-rule=\"nonzero\" fill-opacity=\"1\" /><path clip-path=\"url(#clip920)\" d=\"M1422.64 1546.53 L1422.64 1568.04 L1416.79 1568.04 L1416.79 1546.72 Q1416.79 1541.66 1414.81 1539.14 Q1412.84 1536.63 1408.89 1536.63 Q1404.15 1536.63 1401.41 1539.65 Q1398.68 1542.68 1398.68 1547.9 L1398.68 1568.04 L1392.79 1568.04 L1392.79 1532.4 L1398.68 1532.4 L1398.68 1537.93 Q1400.78 1534.72 1403.61 1533.13 Q1406.47 1531.54 1410.2 1531.54 Q1416.34 1531.54 1419.49 1535.36 Q1422.64 1539.14 1422.64 1546.53 Z\" fill=\"#000000\" fill-rule=\"nonzero\" fill-opacity=\"1\" /><path clip-path=\"url(#clip920)\" d=\"M1457.05 1533.45 L1457.05 1538.98 Q1454.57 1537.71 1451.89 1537.07 Q1449.22 1536.44 1446.36 1536.44 Q1441.99 1536.44 1439.8 1537.77 Q1437.63 1539.11 1437.63 1541.79 Q1437.63 1543.82 1439.19 1545 Q1440.75 1546.15 1445.46 1547.2 L1447.47 1547.64 Q1453.71 1548.98 1456.32 1551.43 Q1458.96 1553.85 1458.96 1558.21 Q1458.96 1563.17 1455.01 1566.07 Q1451.1 1568.97 1444.22 1568.97 Q1441.36 1568.97 1438.24 1568.39 Q1435.15 1567.85 1431.71 1566.74 L1431.71 1560.69 Q1434.96 1562.38 1438.11 1563.24 Q1441.26 1564.07 1444.35 1564.07 Q1448.49 1564.07 1450.72 1562.66 Q1452.94 1561.23 1452.94 1558.65 Q1452.94 1556.27 1451.32 1554.99 Q1449.73 1553.72 1444.29 1552.54 L1442.25 1552.07 Q1436.81 1550.92 1434.39 1548.56 Q1431.97 1546.18 1431.97 1542.04 Q1431.97 1537.01 1435.53 1534.27 Q1439.1 1531.54 1445.65 1531.54 Q1448.9 1531.54 1451.77 1532.01 Q1454.63 1532.49 1457.05 1533.45 Z\" fill=\"#000000\" fill-rule=\"nonzero\" fill-opacity=\"1\" /><polyline clip-path=\"url(#clip920)\" style=\"stroke:#000000; stroke-linecap:round; stroke-linejoin:round; stroke-width:4; stroke-opacity:1; fill:none\" points=\"264.287,1423.18 264.287,47.2441 \"/>\n",
       "<polyline clip-path=\"url(#clip920)\" style=\"stroke:#000000; stroke-linecap:round; stroke-linejoin:round; stroke-width:4; stroke-opacity:1; fill:none\" points=\"264.287,1387.36 283.185,1387.36 \"/>\n",
       "<polyline clip-path=\"url(#clip920)\" style=\"stroke:#000000; stroke-linecap:round; stroke-linejoin:round; stroke-width:4; stroke-opacity:1; fill:none\" points=\"264.287,949.84 283.185,949.84 \"/>\n",
       "<polyline clip-path=\"url(#clip920)\" style=\"stroke:#000000; stroke-linecap:round; stroke-linejoin:round; stroke-width:4; stroke-opacity:1; fill:none\" points=\"264.287,512.321 283.185,512.321 \"/>\n",
       "<polyline clip-path=\"url(#clip920)\" style=\"stroke:#000000; stroke-linecap:round; stroke-linejoin:round; stroke-width:4; stroke-opacity:1; fill:none\" points=\"264.287,74.8009 283.185,74.8009 \"/>\n",
       "<path clip-path=\"url(#clip920)\" d=\"M216.343 1373.16 Q212.732 1373.16 210.903 1376.72 Q209.098 1380.27 209.098 1387.39 Q209.098 1394.5 210.903 1398.07 Q212.732 1401.61 216.343 1401.61 Q219.977 1401.61 221.783 1398.07 Q223.611 1394.5 223.611 1387.39 Q223.611 1380.27 221.783 1376.72 Q219.977 1373.16 216.343 1373.16 M216.343 1369.46 Q222.153 1369.46 225.209 1374.06 Q228.287 1378.64 228.287 1387.39 Q228.287 1396.12 225.209 1400.73 Q222.153 1405.31 216.343 1405.31 Q210.533 1405.31 207.454 1400.73 Q204.399 1396.12 204.399 1387.39 Q204.399 1378.64 207.454 1374.06 Q210.533 1369.46 216.343 1369.46 Z\" fill=\"#000000\" fill-rule=\"nonzero\" fill-opacity=\"1\" /><path clip-path=\"url(#clip920)\" d=\"M116.668 963.185 L124.306 963.185 L124.306 936.82 L115.996 938.486 L115.996 934.227 L124.26 932.56 L128.936 932.56 L128.936 963.185 L136.575 963.185 L136.575 967.12 L116.668 967.12 L116.668 963.185 Z\" fill=\"#000000\" fill-rule=\"nonzero\" fill-opacity=\"1\" /><path clip-path=\"url(#clip920)\" d=\"M156.019 935.639 Q152.408 935.639 150.579 939.204 Q148.774 942.746 148.774 949.875 Q148.774 956.982 150.579 960.546 Q152.408 964.088 156.019 964.088 Q159.653 964.088 161.459 960.546 Q163.288 956.982 163.288 949.875 Q163.288 942.746 161.459 939.204 Q159.653 935.639 156.019 935.639 M156.019 931.935 Q161.829 931.935 164.885 936.542 Q167.964 941.125 167.964 949.875 Q167.964 958.602 164.885 963.208 Q161.829 967.792 156.019 967.792 Q150.209 967.792 147.13 963.208 Q144.075 958.602 144.075 949.875 Q144.075 941.125 147.13 936.542 Q150.209 931.935 156.019 931.935 Z\" fill=\"#000000\" fill-rule=\"nonzero\" fill-opacity=\"1\" /><path clip-path=\"url(#clip920)\" d=\"M186.181 935.639 Q182.57 935.639 180.741 939.204 Q178.936 942.746 178.936 949.875 Q178.936 956.982 180.741 960.546 Q182.57 964.088 186.181 964.088 Q189.815 964.088 191.621 960.546 Q193.45 956.982 193.45 949.875 Q193.45 942.746 191.621 939.204 Q189.815 935.639 186.181 935.639 M186.181 931.935 Q191.991 931.935 195.047 936.542 Q198.125 941.125 198.125 949.875 Q198.125 958.602 195.047 963.208 Q191.991 967.792 186.181 967.792 Q180.371 967.792 177.292 963.208 Q174.237 958.602 174.237 949.875 Q174.237 941.125 177.292 936.542 Q180.371 931.935 186.181 931.935 Z\" fill=\"#000000\" fill-rule=\"nonzero\" fill-opacity=\"1\" /><path clip-path=\"url(#clip920)\" d=\"M216.343 935.639 Q212.732 935.639 210.903 939.204 Q209.098 942.746 209.098 949.875 Q209.098 956.982 210.903 960.546 Q212.732 964.088 216.343 964.088 Q219.977 964.088 221.783 960.546 Q223.611 956.982 223.611 949.875 Q223.611 942.746 221.783 939.204 Q219.977 935.639 216.343 935.639 M216.343 931.935 Q222.153 931.935 225.209 936.542 Q228.287 941.125 228.287 949.875 Q228.287 958.602 225.209 963.208 Q222.153 967.792 216.343 967.792 Q210.533 967.792 207.454 963.208 Q204.399 958.602 204.399 949.875 Q204.399 941.125 207.454 936.542 Q210.533 931.935 216.343 931.935 Z\" fill=\"#000000\" fill-rule=\"nonzero\" fill-opacity=\"1\" /><path clip-path=\"url(#clip920)\" d=\"M119.885 525.665 L136.204 525.665 L136.204 529.601 L114.26 529.601 L114.26 525.665 Q116.922 522.911 121.505 518.281 Q126.112 513.629 127.292 512.286 Q129.538 509.763 130.417 508.027 Q131.32 506.267 131.32 504.578 Q131.32 501.823 129.376 500.087 Q127.455 498.351 124.353 498.351 Q122.154 498.351 119.7 499.115 Q117.269 499.879 114.492 501.43 L114.492 496.707 Q117.316 495.573 119.769 494.994 Q122.223 494.416 124.26 494.416 Q129.63 494.416 132.825 497.101 Q136.019 499.786 136.019 504.277 Q136.019 506.406 135.209 508.328 Q134.422 510.226 132.316 512.818 Q131.737 513.49 128.635 516.707 Q125.533 519.902 119.885 525.665 Z\" fill=\"#000000\" fill-rule=\"nonzero\" fill-opacity=\"1\" /><path clip-path=\"url(#clip920)\" d=\"M156.019 498.119 Q152.408 498.119 150.579 501.684 Q148.774 505.226 148.774 512.355 Q148.774 519.462 150.579 523.027 Q152.408 526.568 156.019 526.568 Q159.653 526.568 161.459 523.027 Q163.288 519.462 163.288 512.355 Q163.288 505.226 161.459 501.684 Q159.653 498.119 156.019 498.119 M156.019 494.416 Q161.829 494.416 164.885 499.022 Q167.964 503.605 167.964 512.355 Q167.964 521.082 164.885 525.689 Q161.829 530.272 156.019 530.272 Q150.209 530.272 147.13 525.689 Q144.075 521.082 144.075 512.355 Q144.075 503.605 147.13 499.022 Q150.209 494.416 156.019 494.416 Z\" fill=\"#000000\" fill-rule=\"nonzero\" fill-opacity=\"1\" /><path clip-path=\"url(#clip920)\" d=\"M186.181 498.119 Q182.57 498.119 180.741 501.684 Q178.936 505.226 178.936 512.355 Q178.936 519.462 180.741 523.027 Q182.57 526.568 186.181 526.568 Q189.815 526.568 191.621 523.027 Q193.45 519.462 193.45 512.355 Q193.45 505.226 191.621 501.684 Q189.815 498.119 186.181 498.119 M186.181 494.416 Q191.991 494.416 195.047 499.022 Q198.125 503.605 198.125 512.355 Q198.125 521.082 195.047 525.689 Q191.991 530.272 186.181 530.272 Q180.371 530.272 177.292 525.689 Q174.237 521.082 174.237 512.355 Q174.237 503.605 177.292 499.022 Q180.371 494.416 186.181 494.416 Z\" fill=\"#000000\" fill-rule=\"nonzero\" fill-opacity=\"1\" /><path clip-path=\"url(#clip920)\" d=\"M216.343 498.119 Q212.732 498.119 210.903 501.684 Q209.098 505.226 209.098 512.355 Q209.098 519.462 210.903 523.027 Q212.732 526.568 216.343 526.568 Q219.977 526.568 221.783 523.027 Q223.611 519.462 223.611 512.355 Q223.611 505.226 221.783 501.684 Q219.977 498.119 216.343 498.119 M216.343 494.416 Q222.153 494.416 225.209 499.022 Q228.287 503.605 228.287 512.355 Q228.287 521.082 225.209 525.689 Q222.153 530.272 216.343 530.272 Q210.533 530.272 207.454 525.689 Q204.399 521.082 204.399 512.355 Q204.399 503.605 207.454 499.022 Q210.533 494.416 216.343 494.416 Z\" fill=\"#000000\" fill-rule=\"nonzero\" fill-opacity=\"1\" /><path clip-path=\"url(#clip920)\" d=\"M130.024 73.4467 Q133.38 74.1643 135.255 76.4328 Q137.154 78.7013 137.154 82.0347 Q137.154 87.1504 133.635 89.9513 Q130.117 92.7522 123.635 92.7522 Q121.459 92.7522 119.144 92.3124 Q116.853 91.8957 114.399 91.0392 L114.399 86.5254 Q116.343 87.6596 118.658 88.2383 Q120.973 88.817 123.496 88.817 Q127.894 88.817 130.186 87.0809 Q132.501 85.3448 132.501 82.0347 Q132.501 78.9791 130.348 77.2662 Q128.218 75.5301 124.399 75.5301 L120.371 75.5301 L120.371 71.6875 L124.584 71.6875 Q128.033 71.6875 129.862 70.3218 Q131.691 68.9329 131.691 66.3403 Q131.691 63.6783 129.792 62.2662 Q127.917 60.8311 124.399 60.8311 Q122.478 60.8311 120.279 61.2477 Q118.08 61.6644 115.441 62.544 L115.441 58.3774 Q118.103 57.6366 120.418 57.2663 Q122.755 56.8959 124.816 56.8959 Q130.14 56.8959 133.242 59.3264 Q136.343 61.7338 136.343 65.8542 Q136.343 68.7245 134.7 70.7153 Q133.056 72.6828 130.024 73.4467 Z\" fill=\"#000000\" fill-rule=\"nonzero\" fill-opacity=\"1\" /><path clip-path=\"url(#clip920)\" d=\"M156.019 60.5996 Q152.408 60.5996 150.579 64.1644 Q148.774 67.706 148.774 74.8356 Q148.774 81.9421 150.579 85.5069 Q152.408 89.0485 156.019 89.0485 Q159.653 89.0485 161.459 85.5069 Q163.288 81.9421 163.288 74.8356 Q163.288 67.706 161.459 64.1644 Q159.653 60.5996 156.019 60.5996 M156.019 56.8959 Q161.829 56.8959 164.885 61.5024 Q167.964 66.0857 167.964 74.8356 Q167.964 83.5624 164.885 88.1689 Q161.829 92.7522 156.019 92.7522 Q150.209 92.7522 147.13 88.1689 Q144.075 83.5624 144.075 74.8356 Q144.075 66.0857 147.13 61.5024 Q150.209 56.8959 156.019 56.8959 Z\" fill=\"#000000\" fill-rule=\"nonzero\" fill-opacity=\"1\" /><path clip-path=\"url(#clip920)\" d=\"M186.181 60.5996 Q182.57 60.5996 180.741 64.1644 Q178.936 67.706 178.936 74.8356 Q178.936 81.9421 180.741 85.5069 Q182.57 89.0485 186.181 89.0485 Q189.815 89.0485 191.621 85.5069 Q193.45 81.9421 193.45 74.8356 Q193.45 67.706 191.621 64.1644 Q189.815 60.5996 186.181 60.5996 M186.181 56.8959 Q191.991 56.8959 195.047 61.5024 Q198.125 66.0857 198.125 74.8356 Q198.125 83.5624 195.047 88.1689 Q191.991 92.7522 186.181 92.7522 Q180.371 92.7522 177.292 88.1689 Q174.237 83.5624 174.237 74.8356 Q174.237 66.0857 177.292 61.5024 Q180.371 56.8959 186.181 56.8959 Z\" fill=\"#000000\" fill-rule=\"nonzero\" fill-opacity=\"1\" /><path clip-path=\"url(#clip920)\" d=\"M216.343 60.5996 Q212.732 60.5996 210.903 64.1644 Q209.098 67.706 209.098 74.8356 Q209.098 81.9421 210.903 85.5069 Q212.732 89.0485 216.343 89.0485 Q219.977 89.0485 221.783 85.5069 Q223.611 81.9421 223.611 74.8356 Q223.611 67.706 221.783 64.1644 Q219.977 60.5996 216.343 60.5996 M216.343 56.8959 Q222.153 56.8959 225.209 61.5024 Q228.287 66.0857 228.287 74.8356 Q228.287 83.5624 225.209 88.1689 Q222.153 92.7522 216.343 92.7522 Q210.533 92.7522 207.454 88.1689 Q204.399 83.5624 204.399 74.8356 Q204.399 66.0857 207.454 61.5024 Q210.533 56.8959 216.343 56.8959 Z\" fill=\"#000000\" fill-rule=\"nonzero\" fill-opacity=\"1\" /><path clip-path=\"url(#clip920)\" d=\"M20.8447 864.165 Q20.8447 871.168 26.0645 875.305 Q31.2844 879.411 40.2919 879.411 Q49.2675 879.411 54.4874 875.305 Q59.7073 871.168 59.7073 864.165 Q59.7073 857.163 54.4874 853.089 Q49.2675 848.983 40.2919 848.983 Q31.2844 848.983 26.0645 853.089 Q20.8447 857.163 20.8447 864.165 M15.6248 864.165 Q15.6248 854.171 22.3406 848.187 Q29.0246 842.204 40.2919 842.204 Q51.5274 842.204 58.2432 848.187 Q64.9272 854.171 64.9272 864.165 Q64.9272 874.191 58.2432 880.207 Q51.5592 886.191 40.2919 886.191 Q29.0246 886.191 22.3406 880.207 Q15.6248 874.191 15.6248 864.165 Z\" fill=\"#000000\" fill-rule=\"nonzero\" fill-opacity=\"1\" /><path clip-path=\"url(#clip920)\" d=\"M46.212 806.81 Q39.7508 806.81 36.0905 809.484 Q32.3984 812.126 32.3984 816.773 Q32.3984 821.42 36.0905 824.093 Q39.7508 826.735 46.212 826.735 Q52.6732 826.735 56.3653 824.093 Q60.0256 821.42 60.0256 816.773 Q60.0256 812.126 56.3653 809.484 Q52.6732 806.81 46.212 806.81 M33.7671 826.735 Q30.5842 824.889 29.0564 822.088 Q27.4968 819.255 27.4968 815.34 Q27.4968 808.847 32.6531 804.805 Q37.8093 800.731 46.212 800.731 Q54.6147 800.731 59.771 804.805 Q64.9272 808.847 64.9272 815.34 Q64.9272 819.255 63.3994 822.088 Q61.8398 824.889 58.657 826.735 L64.0042 826.735 L64.0042 832.623 L14.479 832.623 L14.479 826.735 L33.7671 826.735 Z\" fill=\"#000000\" fill-rule=\"nonzero\" fill-opacity=\"1\" /><path clip-path=\"url(#clip920)\" d=\"M28.3562 791.023 L28.3562 785.167 L64.6407 785.167 Q71.452 785.167 74.5076 787.777 Q77.5631 790.355 77.5631 796.116 L77.5631 798.344 L72.5979 798.344 L72.5979 796.784 Q72.5979 793.442 71.0383 792.233 Q69.5105 791.023 64.6407 791.023 L28.3562 791.023 M14.479 791.023 L14.479 785.167 L21.895 785.167 L21.895 791.023 L14.479 791.023 Z\" fill=\"#000000\" fill-rule=\"nonzero\" fill-opacity=\"1\" /><path clip-path=\"url(#clip920)\" d=\"M44.7161 742.421 L47.5806 742.421 L47.5806 769.348 Q53.6281 768.966 56.8109 765.72 Q59.9619 762.441 59.9619 756.617 Q59.9619 753.243 59.1344 750.092 Q58.3069 746.909 56.6518 743.79 L62.1899 743.79 Q63.5267 746.941 64.227 750.251 Q64.9272 753.561 64.9272 756.967 Q64.9272 765.497 59.9619 770.494 Q54.9967 775.459 46.5303 775.459 Q37.7774 775.459 32.6531 770.749 Q27.4968 766.006 27.4968 757.985 Q27.4968 750.792 32.1438 746.622 Q36.7589 742.421 44.7161 742.421 M42.9973 748.278 Q38.1912 748.341 35.3266 750.983 Q32.4621 753.593 32.4621 757.922 Q32.4621 762.823 35.2312 765.783 Q38.0002 768.711 43.0292 769.157 L42.9973 748.278 Z\" fill=\"#000000\" fill-rule=\"nonzero\" fill-opacity=\"1\" /><path clip-path=\"url(#clip920)\" d=\"M29.7248 707.155 L35.1993 707.155 Q33.8307 709.638 33.1623 712.152 Q32.4621 714.635 32.4621 717.181 Q32.4621 722.878 36.0905 726.029 Q39.6872 729.18 46.212 729.18 Q52.7369 729.18 56.3653 726.029 Q59.9619 722.878 59.9619 717.181 Q59.9619 714.635 59.2935 712.152 Q58.5933 709.638 57.2247 707.155 L62.6355 707.155 Q63.7814 709.606 64.3543 712.248 Q64.9272 714.858 64.9272 717.818 Q64.9272 725.87 59.8664 730.613 Q54.8057 735.355 46.212 735.355 Q37.491 735.355 32.4939 730.581 Q27.4968 725.775 27.4968 717.436 Q27.4968 714.73 28.0697 712.152 Q28.6108 709.574 29.7248 707.155 Z\" fill=\"#000000\" fill-rule=\"nonzero\" fill-opacity=\"1\" /><path clip-path=\"url(#clip920)\" d=\"M18.2347 691.177 L28.3562 691.177 L28.3562 679.114 L32.9077 679.114 L32.9077 691.177 L52.2594 691.177 Q56.6199 691.177 57.8613 690 Q59.1026 688.79 59.1026 685.13 L59.1026 679.114 L64.0042 679.114 L64.0042 685.13 Q64.0042 691.909 61.4897 694.487 Q58.9434 697.065 52.2594 697.065 L32.9077 697.065 L32.9077 701.362 L28.3562 701.362 L28.3562 697.065 L18.2347 697.065 L18.2347 691.177 Z\" fill=\"#000000\" fill-rule=\"nonzero\" fill-opacity=\"1\" /><path clip-path=\"url(#clip920)\" d=\"M28.3562 671.412 L28.3562 665.555 L64.0042 665.555 L64.0042 671.412 L28.3562 671.412 M14.479 671.412 L14.479 665.555 L21.895 665.555 L21.895 671.412 L14.479 671.412 Z\" fill=\"#000000\" fill-rule=\"nonzero\" fill-opacity=\"1\" /><path clip-path=\"url(#clip920)\" d=\"M28.3562 657.503 L28.3562 651.296 L58.275 640.156 L28.3562 629.016 L28.3562 622.81 L64.0042 636.177 L64.0042 644.135 L28.3562 657.503 Z\" fill=\"#000000\" fill-rule=\"nonzero\" fill-opacity=\"1\" /><path clip-path=\"url(#clip920)\" d=\"M44.7161 584.233 L47.5806 584.233 L47.5806 611.16 Q53.6281 610.778 56.8109 607.532 Q59.9619 604.253 59.9619 598.429 Q59.9619 595.055 59.1344 591.904 Q58.3069 588.721 56.6518 585.602 L62.1899 585.602 Q63.5267 588.753 64.227 592.063 Q64.9272 595.373 64.9272 598.779 Q64.9272 607.309 59.9619 612.306 Q54.9967 617.271 46.5303 617.271 Q37.7774 617.271 32.6531 612.561 Q27.4968 607.818 27.4968 599.797 Q27.4968 592.604 32.1438 588.435 Q36.7589 584.233 44.7161 584.233 M42.9973 590.09 Q38.1912 590.153 35.3266 592.795 Q32.4621 595.405 32.4621 599.734 Q32.4621 604.635 35.2312 607.595 Q38.0002 610.524 43.0292 610.969 L42.9973 590.09 Z\" fill=\"#000000\" fill-rule=\"nonzero\" fill-opacity=\"1\" /><polyline clip-path=\"url(#clip922)\" style=\"stroke:#009af9; stroke-linecap:round; stroke-linejoin:round; stroke-width:4; stroke-opacity:1; fill:none\" points=\"323.395,86.1857 354.18,1178.05 384.965,1284.12 415.751,1320.81 446.536,1338.91 477.321,1349.54 508.106,1356.47 538.891,1361.32 569.677,1364.89 600.462,1367.61 631.247,1369.76 662.032,1371.48 692.817,1372.9 723.603,1374.08 754.388,1375.09 785.173,1375.94 815.958,1376.69 846.743,1377.33 877.529,1377.9 908.314,1378.41 939.099,1378.86 969.884,1379.26 1000.67,1379.63 1031.45,1379.96 1062.24,1380.26 1093.03,1380.53 1123.81,1380.78 1154.6,1381.01 1185.38,1381.22 1216.17,1381.42 1246.95,1381.6 1277.74,1381.77 1308.52,1381.93 1339.31,1382.08 1370.09,1382.22 1400.88,1382.35 1431.66,1382.47 1462.45,1382.58 1493.23,1382.69 1524.02,1382.79 1554.8,1382.89 1585.59,1382.98 1616.37,1383.07 1647.16,1383.15 1677.94,1383.23 1708.73,1383.3 1739.51,1383.37 1770.3,1383.44 1801.08,1383.5 1831.87,1383.56 1862.66,1383.62 1893.44,1383.68 1924.23,1383.73 1955.01,1383.79 1985.8,1383.83 2016.58,1383.88 2047.37,1383.93 2078.15,1383.97 2108.94,1384.01 2139.72,1384.06 2170.51,1384.09 2201.29,1384.13 2232.08,1384.17 2262.86,1384.2 2293.65,1384.24 \"/>\n",
       "</svg>\n"
      ],
      "text/html": [
       "<?xml version=\"1.0\" encoding=\"utf-8\"?>\n",
       "<svg xmlns=\"http://www.w3.org/2000/svg\" xmlns:xlink=\"http://www.w3.org/1999/xlink\" width=\"600\" height=\"400\" viewBox=\"0 0 2400 1600\">\n",
       "<defs>\n",
       "  <clipPath id=\"clip970\">\n",
       "    <rect x=\"0\" y=\"0\" width=\"2400\" height=\"1600\"/>\n",
       "  </clipPath>\n",
       "</defs>\n",
       "<path clip-path=\"url(#clip970)\" d=\"M0 1600 L2400 1600 L2400 8.88178e-14 L0 8.88178e-14  Z\" fill=\"#ffffff\" fill-rule=\"evenodd\" fill-opacity=\"1\"/>\n",
       "<defs>\n",
       "  <clipPath id=\"clip971\">\n",
       "    <rect x=\"480\" y=\"0\" width=\"1681\" height=\"1600\"/>\n",
       "  </clipPath>\n",
       "</defs>\n",
       "<path clip-path=\"url(#clip970)\" d=\"M264.287 1423.18 L2352.76 1423.18 L2352.76 47.2441 L264.287 47.2441  Z\" fill=\"#ffffff\" fill-rule=\"evenodd\" fill-opacity=\"1\"/>\n",
       "<defs>\n",
       "  <clipPath id=\"clip972\">\n",
       "    <rect x=\"264\" y=\"47\" width=\"2089\" height=\"1377\"/>\n",
       "  </clipPath>\n",
       "</defs>\n",
       "<polyline clip-path=\"url(#clip972)\" style=\"stroke:#000000; stroke-linecap:round; stroke-linejoin:round; stroke-width:2; stroke-opacity:0.1; fill:none\" points=\"292.61,1423.18 292.61,47.2441 \"/>\n",
       "<polyline clip-path=\"url(#clip972)\" style=\"stroke:#000000; stroke-linecap:round; stroke-linejoin:round; stroke-width:2; stroke-opacity:0.1; fill:none\" points=\"600.462,1423.18 600.462,47.2441 \"/>\n",
       "<polyline clip-path=\"url(#clip972)\" style=\"stroke:#000000; stroke-linecap:round; stroke-linejoin:round; stroke-width:2; stroke-opacity:0.1; fill:none\" points=\"908.314,1423.18 908.314,47.2441 \"/>\n",
       "<polyline clip-path=\"url(#clip972)\" style=\"stroke:#000000; stroke-linecap:round; stroke-linejoin:round; stroke-width:2; stroke-opacity:0.1; fill:none\" points=\"1216.17,1423.18 1216.17,47.2441 \"/>\n",
       "<polyline clip-path=\"url(#clip972)\" style=\"stroke:#000000; stroke-linecap:round; stroke-linejoin:round; stroke-width:2; stroke-opacity:0.1; fill:none\" points=\"1524.02,1423.18 1524.02,47.2441 \"/>\n",
       "<polyline clip-path=\"url(#clip972)\" style=\"stroke:#000000; stroke-linecap:round; stroke-linejoin:round; stroke-width:2; stroke-opacity:0.1; fill:none\" points=\"1831.87,1423.18 1831.87,47.2441 \"/>\n",
       "<polyline clip-path=\"url(#clip972)\" style=\"stroke:#000000; stroke-linecap:round; stroke-linejoin:round; stroke-width:2; stroke-opacity:0.1; fill:none\" points=\"2139.72,1423.18 2139.72,47.2441 \"/>\n",
       "<polyline clip-path=\"url(#clip972)\" style=\"stroke:#000000; stroke-linecap:round; stroke-linejoin:round; stroke-width:2; stroke-opacity:0.1; fill:none\" points=\"264.287,1387.36 2352.76,1387.36 \"/>\n",
       "<polyline clip-path=\"url(#clip972)\" style=\"stroke:#000000; stroke-linecap:round; stroke-linejoin:round; stroke-width:2; stroke-opacity:0.1; fill:none\" points=\"264.287,949.84 2352.76,949.84 \"/>\n",
       "<polyline clip-path=\"url(#clip972)\" style=\"stroke:#000000; stroke-linecap:round; stroke-linejoin:round; stroke-width:2; stroke-opacity:0.1; fill:none\" points=\"264.287,512.321 2352.76,512.321 \"/>\n",
       "<polyline clip-path=\"url(#clip972)\" style=\"stroke:#000000; stroke-linecap:round; stroke-linejoin:round; stroke-width:2; stroke-opacity:0.1; fill:none\" points=\"264.287,74.8009 2352.76,74.8009 \"/>\n",
       "<polyline clip-path=\"url(#clip970)\" style=\"stroke:#000000; stroke-linecap:round; stroke-linejoin:round; stroke-width:4; stroke-opacity:1; fill:none\" points=\"264.287,1423.18 2352.76,1423.18 \"/>\n",
       "<polyline clip-path=\"url(#clip970)\" style=\"stroke:#000000; stroke-linecap:round; stroke-linejoin:round; stroke-width:4; stroke-opacity:1; fill:none\" points=\"292.61,1423.18 292.61,1404.28 \"/>\n",
       "<polyline clip-path=\"url(#clip970)\" style=\"stroke:#000000; stroke-linecap:round; stroke-linejoin:round; stroke-width:4; stroke-opacity:1; fill:none\" points=\"600.462,1423.18 600.462,1404.28 \"/>\n",
       "<polyline clip-path=\"url(#clip970)\" style=\"stroke:#000000; stroke-linecap:round; stroke-linejoin:round; stroke-width:4; stroke-opacity:1; fill:none\" points=\"908.314,1423.18 908.314,1404.28 \"/>\n",
       "<polyline clip-path=\"url(#clip970)\" style=\"stroke:#000000; stroke-linecap:round; stroke-linejoin:round; stroke-width:4; stroke-opacity:1; fill:none\" points=\"1216.17,1423.18 1216.17,1404.28 \"/>\n",
       "<polyline clip-path=\"url(#clip970)\" style=\"stroke:#000000; stroke-linecap:round; stroke-linejoin:round; stroke-width:4; stroke-opacity:1; fill:none\" points=\"1524.02,1423.18 1524.02,1404.28 \"/>\n",
       "<polyline clip-path=\"url(#clip970)\" style=\"stroke:#000000; stroke-linecap:round; stroke-linejoin:round; stroke-width:4; stroke-opacity:1; fill:none\" points=\"1831.87,1423.18 1831.87,1404.28 \"/>\n",
       "<polyline clip-path=\"url(#clip970)\" style=\"stroke:#000000; stroke-linecap:round; stroke-linejoin:round; stroke-width:4; stroke-opacity:1; fill:none\" points=\"2139.72,1423.18 2139.72,1404.28 \"/>\n",
       "<path clip-path=\"url(#clip970)\" d=\"M292.61 1454.1 Q288.999 1454.1 287.17 1457.66 Q285.364 1461.2 285.364 1468.33 Q285.364 1475.44 287.17 1479.01 Q288.999 1482.55 292.61 1482.55 Q296.244 1482.55 298.05 1479.01 Q299.878 1475.44 299.878 1468.33 Q299.878 1461.2 298.05 1457.66 Q296.244 1454.1 292.61 1454.1 M292.61 1450.39 Q298.42 1450.39 301.475 1455 Q304.554 1459.58 304.554 1468.33 Q304.554 1477.06 301.475 1481.67 Q298.42 1486.25 292.61 1486.25 Q286.8 1486.25 283.721 1481.67 Q280.665 1477.06 280.665 1468.33 Q280.665 1459.58 283.721 1455 Q286.8 1450.39 292.61 1450.39 Z\" fill=\"#000000\" fill-rule=\"nonzero\" fill-opacity=\"1\" /><path clip-path=\"url(#clip970)\" d=\"M575.149 1481.64 L582.788 1481.64 L582.788 1455.28 L574.478 1456.95 L574.478 1452.69 L582.742 1451.02 L587.418 1451.02 L587.418 1481.64 L595.057 1481.64 L595.057 1485.58 L575.149 1485.58 L575.149 1481.64 Z\" fill=\"#000000\" fill-rule=\"nonzero\" fill-opacity=\"1\" /><path clip-path=\"url(#clip970)\" d=\"M614.501 1454.1 Q610.89 1454.1 609.061 1457.66 Q607.256 1461.2 607.256 1468.33 Q607.256 1475.44 609.061 1479.01 Q610.89 1482.55 614.501 1482.55 Q618.135 1482.55 619.941 1479.01 Q621.77 1475.44 621.77 1468.33 Q621.77 1461.2 619.941 1457.66 Q618.135 1454.1 614.501 1454.1 M614.501 1450.39 Q620.311 1450.39 623.367 1455 Q626.445 1459.58 626.445 1468.33 Q626.445 1477.06 623.367 1481.67 Q620.311 1486.25 614.501 1486.25 Q608.691 1486.25 605.612 1481.67 Q602.557 1477.06 602.557 1468.33 Q602.557 1459.58 605.612 1455 Q608.691 1450.39 614.501 1450.39 Z\" fill=\"#000000\" fill-rule=\"nonzero\" fill-opacity=\"1\" /><path clip-path=\"url(#clip970)\" d=\"M887.087 1481.64 L903.407 1481.64 L903.407 1485.58 L881.462 1485.58 L881.462 1481.64 Q884.124 1478.89 888.708 1474.26 Q893.314 1469.61 894.495 1468.27 Q896.74 1465.74 897.62 1464.01 Q898.522 1462.25 898.522 1460.56 Q898.522 1457.8 896.578 1456.07 Q894.657 1454.33 891.555 1454.33 Q889.356 1454.33 886.902 1455.09 Q884.471 1455.86 881.694 1457.41 L881.694 1452.69 Q884.518 1451.55 886.971 1450.97 Q889.425 1450.39 891.462 1450.39 Q896.832 1450.39 900.027 1453.08 Q903.221 1455.77 903.221 1460.26 Q903.221 1462.39 902.411 1464.31 Q901.624 1466.2 899.518 1468.8 Q898.939 1469.47 895.837 1472.69 Q892.735 1475.88 887.087 1481.64 Z\" fill=\"#000000\" fill-rule=\"nonzero\" fill-opacity=\"1\" /><path clip-path=\"url(#clip970)\" d=\"M923.221 1454.1 Q919.61 1454.1 917.781 1457.66 Q915.976 1461.2 915.976 1468.33 Q915.976 1475.44 917.781 1479.01 Q919.61 1482.55 923.221 1482.55 Q926.855 1482.55 928.661 1479.01 Q930.49 1475.44 930.49 1468.33 Q930.49 1461.2 928.661 1457.66 Q926.855 1454.1 923.221 1454.1 M923.221 1450.39 Q929.031 1450.39 932.087 1455 Q935.166 1459.58 935.166 1468.33 Q935.166 1477.06 932.087 1481.67 Q929.031 1486.25 923.221 1486.25 Q917.411 1486.25 914.332 1481.67 Q911.277 1477.06 911.277 1468.33 Q911.277 1459.58 914.332 1455 Q917.411 1450.39 923.221 1450.39 Z\" fill=\"#000000\" fill-rule=\"nonzero\" fill-opacity=\"1\" /><path clip-path=\"url(#clip970)\" d=\"M1205.01 1466.95 Q1208.37 1467.66 1210.24 1469.93 Q1212.14 1472.2 1212.14 1475.53 Q1212.14 1480.65 1208.62 1483.45 Q1205.1 1486.25 1198.62 1486.25 Q1196.44 1486.25 1194.13 1485.81 Q1191.84 1485.39 1189.38 1484.54 L1189.38 1480.02 Q1191.33 1481.16 1193.64 1481.74 Q1195.96 1482.32 1198.48 1482.32 Q1202.88 1482.32 1205.17 1480.58 Q1207.49 1478.84 1207.49 1475.53 Q1207.49 1472.48 1205.33 1470.77 Q1203.2 1469.03 1199.38 1469.03 L1195.36 1469.03 L1195.36 1465.19 L1199.57 1465.19 Q1203.02 1465.19 1204.85 1463.82 Q1206.68 1462.43 1206.68 1459.84 Q1206.68 1457.18 1204.78 1455.77 Q1202.9 1454.33 1199.38 1454.33 Q1197.46 1454.33 1195.26 1454.75 Q1193.06 1455.16 1190.43 1456.04 L1190.43 1451.88 Q1193.09 1451.14 1195.4 1450.77 Q1197.74 1450.39 1199.8 1450.39 Q1205.12 1450.39 1208.23 1452.83 Q1211.33 1455.23 1211.33 1459.35 Q1211.33 1462.22 1209.68 1464.21 Q1208.04 1466.18 1205.01 1466.95 Z\" fill=\"#000000\" fill-rule=\"nonzero\" fill-opacity=\"1\" /><path clip-path=\"url(#clip970)\" d=\"M1231 1454.1 Q1227.39 1454.1 1225.56 1457.66 Q1223.76 1461.2 1223.76 1468.33 Q1223.76 1475.44 1225.56 1479.01 Q1227.39 1482.55 1231 1482.55 Q1234.64 1482.55 1236.44 1479.01 Q1238.27 1475.44 1238.27 1468.33 Q1238.27 1461.2 1236.44 1457.66 Q1234.64 1454.1 1231 1454.1 M1231 1450.39 Q1236.81 1450.39 1239.87 1455 Q1242.95 1459.58 1242.95 1468.33 Q1242.95 1477.06 1239.87 1481.67 Q1236.81 1486.25 1231 1486.25 Q1225.19 1486.25 1222.12 1481.67 Q1219.06 1477.06 1219.06 1468.33 Q1219.06 1459.58 1222.12 1455 Q1225.19 1450.39 1231 1450.39 Z\" fill=\"#000000\" fill-rule=\"nonzero\" fill-opacity=\"1\" /><path clip-path=\"url(#clip970)\" d=\"M1512.19 1455.09 L1500.38 1473.54 L1512.19 1473.54 L1512.19 1455.09 M1510.96 1451.02 L1516.84 1451.02 L1516.84 1473.54 L1521.77 1473.54 L1521.77 1477.43 L1516.84 1477.43 L1516.84 1485.58 L1512.19 1485.58 L1512.19 1477.43 L1496.59 1477.43 L1496.59 1472.92 L1510.96 1451.02 Z\" fill=\"#000000\" fill-rule=\"nonzero\" fill-opacity=\"1\" /><path clip-path=\"url(#clip970)\" d=\"M1539.5 1454.1 Q1535.89 1454.1 1534.06 1457.66 Q1532.26 1461.2 1532.26 1468.33 Q1532.26 1475.44 1534.06 1479.01 Q1535.89 1482.55 1539.5 1482.55 Q1543.14 1482.55 1544.94 1479.01 Q1546.77 1475.44 1546.77 1468.33 Q1546.77 1461.2 1544.94 1457.66 Q1543.14 1454.1 1539.5 1454.1 M1539.5 1450.39 Q1545.31 1450.39 1548.37 1455 Q1551.45 1459.58 1551.45 1468.33 Q1551.45 1477.06 1548.37 1481.67 Q1545.31 1486.25 1539.5 1486.25 Q1533.69 1486.25 1530.62 1481.67 Q1527.56 1477.06 1527.56 1468.33 Q1527.56 1459.58 1530.62 1455 Q1533.69 1450.39 1539.5 1450.39 Z\" fill=\"#000000\" fill-rule=\"nonzero\" fill-opacity=\"1\" /><path clip-path=\"url(#clip970)\" d=\"M1806.57 1451.02 L1824.93 1451.02 L1824.93 1454.96 L1810.85 1454.96 L1810.85 1463.43 Q1811.87 1463.08 1812.89 1462.92 Q1813.91 1462.73 1814.93 1462.73 Q1820.71 1462.73 1824.09 1465.9 Q1827.47 1469.08 1827.47 1474.49 Q1827.47 1480.07 1824 1483.17 Q1820.53 1486.25 1814.21 1486.25 Q1812.03 1486.25 1809.76 1485.88 Q1807.52 1485.51 1805.11 1484.77 L1805.11 1480.07 Q1807.19 1481.2 1809.42 1481.76 Q1811.64 1482.32 1814.12 1482.32 Q1818.12 1482.32 1820.46 1480.21 Q1822.8 1478.1 1822.8 1474.49 Q1822.8 1470.88 1820.46 1468.77 Q1818.12 1466.67 1814.12 1466.67 Q1812.24 1466.67 1810.37 1467.08 Q1808.51 1467.5 1806.57 1468.38 L1806.57 1451.02 Z\" fill=\"#000000\" fill-rule=\"nonzero\" fill-opacity=\"1\" /><path clip-path=\"url(#clip970)\" d=\"M1846.68 1454.1 Q1843.07 1454.1 1841.25 1457.66 Q1839.44 1461.2 1839.44 1468.33 Q1839.44 1475.44 1841.25 1479.01 Q1843.07 1482.55 1846.68 1482.55 Q1850.32 1482.55 1852.12 1479.01 Q1853.95 1475.44 1853.95 1468.33 Q1853.95 1461.2 1852.12 1457.66 Q1850.32 1454.1 1846.68 1454.1 M1846.68 1450.39 Q1852.5 1450.39 1855.55 1455 Q1858.63 1459.58 1858.63 1468.33 Q1858.63 1477.06 1855.55 1481.67 Q1852.5 1486.25 1846.68 1486.25 Q1840.87 1486.25 1837.8 1481.67 Q1834.74 1477.06 1834.74 1468.33 Q1834.74 1459.58 1837.8 1455 Q1840.87 1450.39 1846.68 1450.39 Z\" fill=\"#000000\" fill-rule=\"nonzero\" fill-opacity=\"1\" /><path clip-path=\"url(#clip970)\" d=\"M2125.13 1466.44 Q2121.98 1466.44 2120.13 1468.59 Q2118.3 1470.74 2118.3 1474.49 Q2118.3 1478.22 2120.13 1480.39 Q2121.98 1482.55 2125.13 1482.55 Q2128.28 1482.55 2130.1 1480.39 Q2131.96 1478.22 2131.96 1474.49 Q2131.96 1470.74 2130.1 1468.59 Q2128.28 1466.44 2125.13 1466.44 M2134.41 1451.78 L2134.41 1456.04 Q2132.65 1455.21 2130.84 1454.77 Q2129.06 1454.33 2127.3 1454.33 Q2122.67 1454.33 2120.22 1457.45 Q2117.79 1460.58 2117.44 1466.9 Q2118.81 1464.89 2120.87 1463.82 Q2122.93 1462.73 2125.41 1462.73 Q2130.61 1462.73 2133.62 1465.9 Q2136.66 1469.05 2136.66 1474.49 Q2136.66 1479.82 2133.51 1483.03 Q2130.36 1486.25 2125.13 1486.25 Q2119.13 1486.25 2115.96 1481.67 Q2112.79 1477.06 2112.79 1468.33 Q2112.79 1460.14 2116.68 1455.28 Q2120.57 1450.39 2127.12 1450.39 Q2128.88 1450.39 2130.66 1450.74 Q2132.47 1451.09 2134.41 1451.78 Z\" fill=\"#000000\" fill-rule=\"nonzero\" fill-opacity=\"1\" /><path clip-path=\"url(#clip970)\" d=\"M2154.71 1454.1 Q2151.1 1454.1 2149.27 1457.66 Q2147.47 1461.2 2147.47 1468.33 Q2147.47 1475.44 2149.27 1479.01 Q2151.1 1482.55 2154.71 1482.55 Q2158.34 1482.55 2160.15 1479.01 Q2161.98 1475.44 2161.98 1468.33 Q2161.98 1461.2 2160.15 1457.66 Q2158.34 1454.1 2154.71 1454.1 M2154.71 1450.39 Q2160.52 1450.39 2163.58 1455 Q2166.65 1459.58 2166.65 1468.33 Q2166.65 1477.06 2163.58 1481.67 Q2160.52 1486.25 2154.71 1486.25 Q2148.9 1486.25 2145.82 1481.67 Q2142.77 1477.06 2142.77 1468.33 Q2142.77 1459.58 2145.82 1455 Q2148.9 1450.39 2154.71 1450.39 Z\" fill=\"#000000\" fill-rule=\"nonzero\" fill-opacity=\"1\" /><path clip-path=\"url(#clip970)\" d=\"M1158.08 1520.52 L1164.51 1520.52 L1164.51 1568.04 L1158.08 1568.04 L1158.08 1520.52 Z\" fill=\"#000000\" fill-rule=\"nonzero\" fill-opacity=\"1\" /><path clip-path=\"url(#clip970)\" d=\"M1182.85 1522.27 L1182.85 1532.4 L1194.91 1532.4 L1194.91 1536.95 L1182.85 1536.95 L1182.85 1556.3 Q1182.85 1560.66 1184.02 1561.9 Q1185.23 1563.14 1188.89 1563.14 L1194.91 1563.14 L1194.91 1568.04 L1188.89 1568.04 Q1182.11 1568.04 1179.54 1565.53 Q1176.96 1562.98 1176.96 1556.3 L1176.96 1536.95 L1172.66 1536.95 L1172.66 1532.4 L1176.96 1532.4 L1176.96 1522.27 L1182.85 1522.27 Z\" fill=\"#000000\" fill-rule=\"nonzero\" fill-opacity=\"1\" /><path clip-path=\"url(#clip970)\" d=\"M1233.1 1548.76 L1233.1 1551.62 L1206.18 1551.62 Q1206.56 1557.67 1209.81 1560.85 Q1213.08 1564 1218.91 1564 Q1222.28 1564 1225.43 1563.17 Q1228.62 1562.35 1231.74 1560.69 L1231.74 1566.23 Q1228.58 1567.57 1225.27 1568.27 Q1221.96 1568.97 1218.56 1568.97 Q1210.03 1568.97 1205.03 1564 Q1200.07 1559.04 1200.07 1550.57 Q1200.07 1541.82 1204.78 1536.69 Q1209.52 1531.54 1217.54 1531.54 Q1224.73 1531.54 1228.9 1536.18 Q1233.1 1540.8 1233.1 1548.76 M1227.25 1547.04 Q1227.18 1542.23 1224.54 1539.37 Q1221.93 1536.5 1217.6 1536.5 Q1212.7 1536.5 1209.74 1539.27 Q1206.81 1542.04 1206.37 1547.07 L1227.25 1547.04 Z\" fill=\"#000000\" fill-rule=\"nonzero\" fill-opacity=\"1\" /><path clip-path=\"url(#clip970)\" d=\"M1263.37 1537.87 Q1262.39 1537.3 1261.21 1537.04 Q1260.06 1536.76 1258.66 1536.76 Q1253.7 1536.76 1251.02 1540 Q1248.38 1543.22 1248.38 1549.27 L1248.38 1568.04 L1242.49 1568.04 L1242.49 1532.4 L1248.38 1532.4 L1248.38 1537.93 Q1250.23 1534.69 1253.19 1533.13 Q1256.15 1531.54 1260.38 1531.54 Q1260.99 1531.54 1261.72 1531.63 Q1262.45 1531.7 1263.34 1531.85 L1263.37 1537.87 Z\" fill=\"#000000\" fill-rule=\"nonzero\" fill-opacity=\"1\" /><path clip-path=\"url(#clip970)\" d=\"M1285.72 1550.12 Q1278.62 1550.12 1275.88 1551.75 Q1273.14 1553.37 1273.14 1557.29 Q1273.14 1560.4 1275.18 1562.25 Q1277.25 1564.07 1280.78 1564.07 Q1285.65 1564.07 1288.58 1560.63 Q1291.54 1557.16 1291.54 1551.43 L1291.54 1550.12 L1285.72 1550.12 M1297.4 1547.71 L1297.4 1568.04 L1291.54 1568.04 L1291.54 1562.63 Q1289.54 1565.88 1286.54 1567.44 Q1283.55 1568.97 1279.22 1568.97 Q1273.75 1568.97 1270.5 1565.91 Q1267.29 1562.82 1267.29 1557.67 Q1267.29 1551.65 1271.3 1548.6 Q1275.34 1545.54 1283.33 1545.54 L1291.54 1545.54 L1291.54 1544.97 Q1291.54 1540.93 1288.87 1538.73 Q1286.23 1536.5 1281.42 1536.5 Q1278.36 1536.5 1275.47 1537.23 Q1272.57 1537.97 1269.9 1539.43 L1269.9 1534.02 Q1273.11 1532.78 1276.14 1532.17 Q1279.16 1531.54 1282.02 1531.54 Q1289.76 1531.54 1293.58 1535.55 Q1297.4 1539.56 1297.4 1547.71 Z\" fill=\"#000000\" fill-rule=\"nonzero\" fill-opacity=\"1\" /><path clip-path=\"url(#clip970)\" d=\"M1315.25 1522.27 L1315.25 1532.4 L1327.32 1532.4 L1327.32 1536.95 L1315.25 1536.95 L1315.25 1556.3 Q1315.25 1560.66 1316.43 1561.9 Q1317.64 1563.14 1321.3 1563.14 L1327.32 1563.14 L1327.32 1568.04 L1321.3 1568.04 Q1314.52 1568.04 1311.94 1565.53 Q1309.37 1562.98 1309.37 1556.3 L1309.37 1536.95 L1305.07 1536.95 L1305.07 1532.4 L1309.37 1532.4 L1309.37 1522.27 L1315.25 1522.27 Z\" fill=\"#000000\" fill-rule=\"nonzero\" fill-opacity=\"1\" /><path clip-path=\"url(#clip970)\" d=\"M1335.02 1532.4 L1340.88 1532.4 L1340.88 1568.04 L1335.02 1568.04 L1335.02 1532.4 M1335.02 1518.52 L1340.88 1518.52 L1340.88 1525.93 L1335.02 1525.93 L1335.02 1518.52 Z\" fill=\"#000000\" fill-rule=\"nonzero\" fill-opacity=\"1\" /><path clip-path=\"url(#clip970)\" d=\"M1366.94 1536.5 Q1362.23 1536.5 1359.5 1540.19 Q1356.76 1543.85 1356.76 1550.25 Q1356.76 1556.65 1359.46 1560.34 Q1362.2 1564 1366.94 1564 Q1371.62 1564 1374.36 1560.31 Q1377.1 1556.62 1377.1 1550.25 Q1377.1 1543.92 1374.36 1540.23 Q1371.62 1536.5 1366.94 1536.5 M1366.94 1531.54 Q1374.58 1531.54 1378.94 1536.5 Q1383.3 1541.47 1383.3 1550.25 Q1383.3 1559 1378.94 1564 Q1374.58 1568.97 1366.94 1568.97 Q1359.27 1568.97 1354.91 1564 Q1350.58 1559 1350.58 1550.25 Q1350.58 1541.47 1354.91 1536.5 Q1359.27 1531.54 1366.94 1531.54 Z\" fill=\"#000000\" fill-rule=\"nonzero\" fill-opacity=\"1\" /><path clip-path=\"url(#clip970)\" d=\"M1422.64 1546.53 L1422.64 1568.04 L1416.79 1568.04 L1416.79 1546.72 Q1416.79 1541.66 1414.81 1539.14 Q1412.84 1536.63 1408.89 1536.63 Q1404.15 1536.63 1401.41 1539.65 Q1398.68 1542.68 1398.68 1547.9 L1398.68 1568.04 L1392.79 1568.04 L1392.79 1532.4 L1398.68 1532.4 L1398.68 1537.93 Q1400.78 1534.72 1403.61 1533.13 Q1406.47 1531.54 1410.2 1531.54 Q1416.34 1531.54 1419.49 1535.36 Q1422.64 1539.14 1422.64 1546.53 Z\" fill=\"#000000\" fill-rule=\"nonzero\" fill-opacity=\"1\" /><path clip-path=\"url(#clip970)\" d=\"M1457.05 1533.45 L1457.05 1538.98 Q1454.57 1537.71 1451.89 1537.07 Q1449.22 1536.44 1446.36 1536.44 Q1441.99 1536.44 1439.8 1537.77 Q1437.63 1539.11 1437.63 1541.79 Q1437.63 1543.82 1439.19 1545 Q1440.75 1546.15 1445.46 1547.2 L1447.47 1547.64 Q1453.71 1548.98 1456.32 1551.43 Q1458.96 1553.85 1458.96 1558.21 Q1458.96 1563.17 1455.01 1566.07 Q1451.1 1568.97 1444.22 1568.97 Q1441.36 1568.97 1438.24 1568.39 Q1435.15 1567.85 1431.71 1566.74 L1431.71 1560.69 Q1434.96 1562.38 1438.11 1563.24 Q1441.26 1564.07 1444.35 1564.07 Q1448.49 1564.07 1450.72 1562.66 Q1452.94 1561.23 1452.94 1558.65 Q1452.94 1556.27 1451.32 1554.99 Q1449.73 1553.72 1444.29 1552.54 L1442.25 1552.07 Q1436.81 1550.92 1434.39 1548.56 Q1431.97 1546.18 1431.97 1542.04 Q1431.97 1537.01 1435.53 1534.27 Q1439.1 1531.54 1445.65 1531.54 Q1448.9 1531.54 1451.77 1532.01 Q1454.63 1532.49 1457.05 1533.45 Z\" fill=\"#000000\" fill-rule=\"nonzero\" fill-opacity=\"1\" /><polyline clip-path=\"url(#clip970)\" style=\"stroke:#000000; stroke-linecap:round; stroke-linejoin:round; stroke-width:4; stroke-opacity:1; fill:none\" points=\"264.287,1423.18 264.287,47.2441 \"/>\n",
       "<polyline clip-path=\"url(#clip970)\" style=\"stroke:#000000; stroke-linecap:round; stroke-linejoin:round; stroke-width:4; stroke-opacity:1; fill:none\" points=\"264.287,1387.36 283.185,1387.36 \"/>\n",
       "<polyline clip-path=\"url(#clip970)\" style=\"stroke:#000000; stroke-linecap:round; stroke-linejoin:round; stroke-width:4; stroke-opacity:1; fill:none\" points=\"264.287,949.84 283.185,949.84 \"/>\n",
       "<polyline clip-path=\"url(#clip970)\" style=\"stroke:#000000; stroke-linecap:round; stroke-linejoin:round; stroke-width:4; stroke-opacity:1; fill:none\" points=\"264.287,512.321 283.185,512.321 \"/>\n",
       "<polyline clip-path=\"url(#clip970)\" style=\"stroke:#000000; stroke-linecap:round; stroke-linejoin:round; stroke-width:4; stroke-opacity:1; fill:none\" points=\"264.287,74.8009 283.185,74.8009 \"/>\n",
       "<path clip-path=\"url(#clip970)\" d=\"M216.343 1373.16 Q212.732 1373.16 210.903 1376.72 Q209.098 1380.27 209.098 1387.39 Q209.098 1394.5 210.903 1398.07 Q212.732 1401.61 216.343 1401.61 Q219.977 1401.61 221.783 1398.07 Q223.611 1394.5 223.611 1387.39 Q223.611 1380.27 221.783 1376.72 Q219.977 1373.16 216.343 1373.16 M216.343 1369.46 Q222.153 1369.46 225.209 1374.06 Q228.287 1378.64 228.287 1387.39 Q228.287 1396.12 225.209 1400.73 Q222.153 1405.31 216.343 1405.31 Q210.533 1405.31 207.454 1400.73 Q204.399 1396.12 204.399 1387.39 Q204.399 1378.64 207.454 1374.06 Q210.533 1369.46 216.343 1369.46 Z\" fill=\"#000000\" fill-rule=\"nonzero\" fill-opacity=\"1\" /><path clip-path=\"url(#clip970)\" d=\"M116.668 963.185 L124.306 963.185 L124.306 936.82 L115.996 938.486 L115.996 934.227 L124.26 932.56 L128.936 932.56 L128.936 963.185 L136.575 963.185 L136.575 967.12 L116.668 967.12 L116.668 963.185 Z\" fill=\"#000000\" fill-rule=\"nonzero\" fill-opacity=\"1\" /><path clip-path=\"url(#clip970)\" d=\"M156.019 935.639 Q152.408 935.639 150.579 939.204 Q148.774 942.746 148.774 949.875 Q148.774 956.982 150.579 960.546 Q152.408 964.088 156.019 964.088 Q159.653 964.088 161.459 960.546 Q163.288 956.982 163.288 949.875 Q163.288 942.746 161.459 939.204 Q159.653 935.639 156.019 935.639 M156.019 931.935 Q161.829 931.935 164.885 936.542 Q167.964 941.125 167.964 949.875 Q167.964 958.602 164.885 963.208 Q161.829 967.792 156.019 967.792 Q150.209 967.792 147.13 963.208 Q144.075 958.602 144.075 949.875 Q144.075 941.125 147.13 936.542 Q150.209 931.935 156.019 931.935 Z\" fill=\"#000000\" fill-rule=\"nonzero\" fill-opacity=\"1\" /><path clip-path=\"url(#clip970)\" d=\"M186.181 935.639 Q182.57 935.639 180.741 939.204 Q178.936 942.746 178.936 949.875 Q178.936 956.982 180.741 960.546 Q182.57 964.088 186.181 964.088 Q189.815 964.088 191.621 960.546 Q193.45 956.982 193.45 949.875 Q193.45 942.746 191.621 939.204 Q189.815 935.639 186.181 935.639 M186.181 931.935 Q191.991 931.935 195.047 936.542 Q198.125 941.125 198.125 949.875 Q198.125 958.602 195.047 963.208 Q191.991 967.792 186.181 967.792 Q180.371 967.792 177.292 963.208 Q174.237 958.602 174.237 949.875 Q174.237 941.125 177.292 936.542 Q180.371 931.935 186.181 931.935 Z\" fill=\"#000000\" fill-rule=\"nonzero\" fill-opacity=\"1\" /><path clip-path=\"url(#clip970)\" d=\"M216.343 935.639 Q212.732 935.639 210.903 939.204 Q209.098 942.746 209.098 949.875 Q209.098 956.982 210.903 960.546 Q212.732 964.088 216.343 964.088 Q219.977 964.088 221.783 960.546 Q223.611 956.982 223.611 949.875 Q223.611 942.746 221.783 939.204 Q219.977 935.639 216.343 935.639 M216.343 931.935 Q222.153 931.935 225.209 936.542 Q228.287 941.125 228.287 949.875 Q228.287 958.602 225.209 963.208 Q222.153 967.792 216.343 967.792 Q210.533 967.792 207.454 963.208 Q204.399 958.602 204.399 949.875 Q204.399 941.125 207.454 936.542 Q210.533 931.935 216.343 931.935 Z\" fill=\"#000000\" fill-rule=\"nonzero\" fill-opacity=\"1\" /><path clip-path=\"url(#clip970)\" d=\"M119.885 525.665 L136.204 525.665 L136.204 529.601 L114.26 529.601 L114.26 525.665 Q116.922 522.911 121.505 518.281 Q126.112 513.629 127.292 512.286 Q129.538 509.763 130.417 508.027 Q131.32 506.267 131.32 504.578 Q131.32 501.823 129.376 500.087 Q127.455 498.351 124.353 498.351 Q122.154 498.351 119.7 499.115 Q117.269 499.879 114.492 501.43 L114.492 496.707 Q117.316 495.573 119.769 494.994 Q122.223 494.416 124.26 494.416 Q129.63 494.416 132.825 497.101 Q136.019 499.786 136.019 504.277 Q136.019 506.406 135.209 508.328 Q134.422 510.226 132.316 512.818 Q131.737 513.49 128.635 516.707 Q125.533 519.902 119.885 525.665 Z\" fill=\"#000000\" fill-rule=\"nonzero\" fill-opacity=\"1\" /><path clip-path=\"url(#clip970)\" d=\"M156.019 498.119 Q152.408 498.119 150.579 501.684 Q148.774 505.226 148.774 512.355 Q148.774 519.462 150.579 523.027 Q152.408 526.568 156.019 526.568 Q159.653 526.568 161.459 523.027 Q163.288 519.462 163.288 512.355 Q163.288 505.226 161.459 501.684 Q159.653 498.119 156.019 498.119 M156.019 494.416 Q161.829 494.416 164.885 499.022 Q167.964 503.605 167.964 512.355 Q167.964 521.082 164.885 525.689 Q161.829 530.272 156.019 530.272 Q150.209 530.272 147.13 525.689 Q144.075 521.082 144.075 512.355 Q144.075 503.605 147.13 499.022 Q150.209 494.416 156.019 494.416 Z\" fill=\"#000000\" fill-rule=\"nonzero\" fill-opacity=\"1\" /><path clip-path=\"url(#clip970)\" d=\"M186.181 498.119 Q182.57 498.119 180.741 501.684 Q178.936 505.226 178.936 512.355 Q178.936 519.462 180.741 523.027 Q182.57 526.568 186.181 526.568 Q189.815 526.568 191.621 523.027 Q193.45 519.462 193.45 512.355 Q193.45 505.226 191.621 501.684 Q189.815 498.119 186.181 498.119 M186.181 494.416 Q191.991 494.416 195.047 499.022 Q198.125 503.605 198.125 512.355 Q198.125 521.082 195.047 525.689 Q191.991 530.272 186.181 530.272 Q180.371 530.272 177.292 525.689 Q174.237 521.082 174.237 512.355 Q174.237 503.605 177.292 499.022 Q180.371 494.416 186.181 494.416 Z\" fill=\"#000000\" fill-rule=\"nonzero\" fill-opacity=\"1\" /><path clip-path=\"url(#clip970)\" d=\"M216.343 498.119 Q212.732 498.119 210.903 501.684 Q209.098 505.226 209.098 512.355 Q209.098 519.462 210.903 523.027 Q212.732 526.568 216.343 526.568 Q219.977 526.568 221.783 523.027 Q223.611 519.462 223.611 512.355 Q223.611 505.226 221.783 501.684 Q219.977 498.119 216.343 498.119 M216.343 494.416 Q222.153 494.416 225.209 499.022 Q228.287 503.605 228.287 512.355 Q228.287 521.082 225.209 525.689 Q222.153 530.272 216.343 530.272 Q210.533 530.272 207.454 525.689 Q204.399 521.082 204.399 512.355 Q204.399 503.605 207.454 499.022 Q210.533 494.416 216.343 494.416 Z\" fill=\"#000000\" fill-rule=\"nonzero\" fill-opacity=\"1\" /><path clip-path=\"url(#clip970)\" d=\"M130.024 73.4467 Q133.38 74.1643 135.255 76.4328 Q137.154 78.7013 137.154 82.0347 Q137.154 87.1504 133.635 89.9513 Q130.117 92.7522 123.635 92.7522 Q121.459 92.7522 119.144 92.3124 Q116.853 91.8957 114.399 91.0392 L114.399 86.5254 Q116.343 87.6596 118.658 88.2383 Q120.973 88.817 123.496 88.817 Q127.894 88.817 130.186 87.0809 Q132.501 85.3448 132.501 82.0347 Q132.501 78.9791 130.348 77.2662 Q128.218 75.5301 124.399 75.5301 L120.371 75.5301 L120.371 71.6875 L124.584 71.6875 Q128.033 71.6875 129.862 70.3218 Q131.691 68.9329 131.691 66.3403 Q131.691 63.6783 129.792 62.2662 Q127.917 60.8311 124.399 60.8311 Q122.478 60.8311 120.279 61.2477 Q118.08 61.6644 115.441 62.544 L115.441 58.3774 Q118.103 57.6366 120.418 57.2663 Q122.755 56.8959 124.816 56.8959 Q130.14 56.8959 133.242 59.3264 Q136.343 61.7338 136.343 65.8542 Q136.343 68.7245 134.7 70.7153 Q133.056 72.6828 130.024 73.4467 Z\" fill=\"#000000\" fill-rule=\"nonzero\" fill-opacity=\"1\" /><path clip-path=\"url(#clip970)\" d=\"M156.019 60.5996 Q152.408 60.5996 150.579 64.1644 Q148.774 67.706 148.774 74.8356 Q148.774 81.9421 150.579 85.5069 Q152.408 89.0485 156.019 89.0485 Q159.653 89.0485 161.459 85.5069 Q163.288 81.9421 163.288 74.8356 Q163.288 67.706 161.459 64.1644 Q159.653 60.5996 156.019 60.5996 M156.019 56.8959 Q161.829 56.8959 164.885 61.5024 Q167.964 66.0857 167.964 74.8356 Q167.964 83.5624 164.885 88.1689 Q161.829 92.7522 156.019 92.7522 Q150.209 92.7522 147.13 88.1689 Q144.075 83.5624 144.075 74.8356 Q144.075 66.0857 147.13 61.5024 Q150.209 56.8959 156.019 56.8959 Z\" fill=\"#000000\" fill-rule=\"nonzero\" fill-opacity=\"1\" /><path clip-path=\"url(#clip970)\" d=\"M186.181 60.5996 Q182.57 60.5996 180.741 64.1644 Q178.936 67.706 178.936 74.8356 Q178.936 81.9421 180.741 85.5069 Q182.57 89.0485 186.181 89.0485 Q189.815 89.0485 191.621 85.5069 Q193.45 81.9421 193.45 74.8356 Q193.45 67.706 191.621 64.1644 Q189.815 60.5996 186.181 60.5996 M186.181 56.8959 Q191.991 56.8959 195.047 61.5024 Q198.125 66.0857 198.125 74.8356 Q198.125 83.5624 195.047 88.1689 Q191.991 92.7522 186.181 92.7522 Q180.371 92.7522 177.292 88.1689 Q174.237 83.5624 174.237 74.8356 Q174.237 66.0857 177.292 61.5024 Q180.371 56.8959 186.181 56.8959 Z\" fill=\"#000000\" fill-rule=\"nonzero\" fill-opacity=\"1\" /><path clip-path=\"url(#clip970)\" d=\"M216.343 60.5996 Q212.732 60.5996 210.903 64.1644 Q209.098 67.706 209.098 74.8356 Q209.098 81.9421 210.903 85.5069 Q212.732 89.0485 216.343 89.0485 Q219.977 89.0485 221.783 85.5069 Q223.611 81.9421 223.611 74.8356 Q223.611 67.706 221.783 64.1644 Q219.977 60.5996 216.343 60.5996 M216.343 56.8959 Q222.153 56.8959 225.209 61.5024 Q228.287 66.0857 228.287 74.8356 Q228.287 83.5624 225.209 88.1689 Q222.153 92.7522 216.343 92.7522 Q210.533 92.7522 207.454 88.1689 Q204.399 83.5624 204.399 74.8356 Q204.399 66.0857 207.454 61.5024 Q210.533 56.8959 216.343 56.8959 Z\" fill=\"#000000\" fill-rule=\"nonzero\" fill-opacity=\"1\" /><path clip-path=\"url(#clip970)\" d=\"M20.8447 864.165 Q20.8447 871.168 26.0645 875.305 Q31.2844 879.411 40.2919 879.411 Q49.2675 879.411 54.4874 875.305 Q59.7073 871.168 59.7073 864.165 Q59.7073 857.163 54.4874 853.089 Q49.2675 848.983 40.2919 848.983 Q31.2844 848.983 26.0645 853.089 Q20.8447 857.163 20.8447 864.165 M15.6248 864.165 Q15.6248 854.171 22.3406 848.187 Q29.0246 842.204 40.2919 842.204 Q51.5274 842.204 58.2432 848.187 Q64.9272 854.171 64.9272 864.165 Q64.9272 874.191 58.2432 880.207 Q51.5592 886.191 40.2919 886.191 Q29.0246 886.191 22.3406 880.207 Q15.6248 874.191 15.6248 864.165 Z\" fill=\"#000000\" fill-rule=\"nonzero\" fill-opacity=\"1\" /><path clip-path=\"url(#clip970)\" d=\"M46.212 806.81 Q39.7508 806.81 36.0905 809.484 Q32.3984 812.126 32.3984 816.773 Q32.3984 821.42 36.0905 824.093 Q39.7508 826.735 46.212 826.735 Q52.6732 826.735 56.3653 824.093 Q60.0256 821.42 60.0256 816.773 Q60.0256 812.126 56.3653 809.484 Q52.6732 806.81 46.212 806.81 M33.7671 826.735 Q30.5842 824.889 29.0564 822.088 Q27.4968 819.255 27.4968 815.34 Q27.4968 808.847 32.6531 804.805 Q37.8093 800.731 46.212 800.731 Q54.6147 800.731 59.771 804.805 Q64.9272 808.847 64.9272 815.34 Q64.9272 819.255 63.3994 822.088 Q61.8398 824.889 58.657 826.735 L64.0042 826.735 L64.0042 832.623 L14.479 832.623 L14.479 826.735 L33.7671 826.735 Z\" fill=\"#000000\" fill-rule=\"nonzero\" fill-opacity=\"1\" /><path clip-path=\"url(#clip970)\" d=\"M28.3562 791.023 L28.3562 785.167 L64.6407 785.167 Q71.452 785.167 74.5076 787.777 Q77.5631 790.355 77.5631 796.116 L77.5631 798.344 L72.5979 798.344 L72.5979 796.784 Q72.5979 793.442 71.0383 792.233 Q69.5105 791.023 64.6407 791.023 L28.3562 791.023 M14.479 791.023 L14.479 785.167 L21.895 785.167 L21.895 791.023 L14.479 791.023 Z\" fill=\"#000000\" fill-rule=\"nonzero\" fill-opacity=\"1\" /><path clip-path=\"url(#clip970)\" d=\"M44.7161 742.421 L47.5806 742.421 L47.5806 769.348 Q53.6281 768.966 56.8109 765.72 Q59.9619 762.441 59.9619 756.617 Q59.9619 753.243 59.1344 750.092 Q58.3069 746.909 56.6518 743.79 L62.1899 743.79 Q63.5267 746.941 64.227 750.251 Q64.9272 753.561 64.9272 756.967 Q64.9272 765.497 59.9619 770.494 Q54.9967 775.459 46.5303 775.459 Q37.7774 775.459 32.6531 770.749 Q27.4968 766.006 27.4968 757.985 Q27.4968 750.792 32.1438 746.622 Q36.7589 742.421 44.7161 742.421 M42.9973 748.278 Q38.1912 748.341 35.3266 750.983 Q32.4621 753.593 32.4621 757.922 Q32.4621 762.823 35.2312 765.783 Q38.0002 768.711 43.0292 769.157 L42.9973 748.278 Z\" fill=\"#000000\" fill-rule=\"nonzero\" fill-opacity=\"1\" /><path clip-path=\"url(#clip970)\" d=\"M29.7248 707.155 L35.1993 707.155 Q33.8307 709.638 33.1623 712.152 Q32.4621 714.635 32.4621 717.181 Q32.4621 722.878 36.0905 726.029 Q39.6872 729.18 46.212 729.18 Q52.7369 729.18 56.3653 726.029 Q59.9619 722.878 59.9619 717.181 Q59.9619 714.635 59.2935 712.152 Q58.5933 709.638 57.2247 707.155 L62.6355 707.155 Q63.7814 709.606 64.3543 712.248 Q64.9272 714.858 64.9272 717.818 Q64.9272 725.87 59.8664 730.613 Q54.8057 735.355 46.212 735.355 Q37.491 735.355 32.4939 730.581 Q27.4968 725.775 27.4968 717.436 Q27.4968 714.73 28.0697 712.152 Q28.6108 709.574 29.7248 707.155 Z\" fill=\"#000000\" fill-rule=\"nonzero\" fill-opacity=\"1\" /><path clip-path=\"url(#clip970)\" d=\"M18.2347 691.177 L28.3562 691.177 L28.3562 679.114 L32.9077 679.114 L32.9077 691.177 L52.2594 691.177 Q56.6199 691.177 57.8613 690 Q59.1026 688.79 59.1026 685.13 L59.1026 679.114 L64.0042 679.114 L64.0042 685.13 Q64.0042 691.909 61.4897 694.487 Q58.9434 697.065 52.2594 697.065 L32.9077 697.065 L32.9077 701.362 L28.3562 701.362 L28.3562 697.065 L18.2347 697.065 L18.2347 691.177 Z\" fill=\"#000000\" fill-rule=\"nonzero\" fill-opacity=\"1\" /><path clip-path=\"url(#clip970)\" d=\"M28.3562 671.412 L28.3562 665.555 L64.0042 665.555 L64.0042 671.412 L28.3562 671.412 M14.479 671.412 L14.479 665.555 L21.895 665.555 L21.895 671.412 L14.479 671.412 Z\" fill=\"#000000\" fill-rule=\"nonzero\" fill-opacity=\"1\" /><path clip-path=\"url(#clip970)\" d=\"M28.3562 657.503 L28.3562 651.296 L58.275 640.156 L28.3562 629.016 L28.3562 622.81 L64.0042 636.177 L64.0042 644.135 L28.3562 657.503 Z\" fill=\"#000000\" fill-rule=\"nonzero\" fill-opacity=\"1\" /><path clip-path=\"url(#clip970)\" d=\"M44.7161 584.233 L47.5806 584.233 L47.5806 611.16 Q53.6281 610.778 56.8109 607.532 Q59.9619 604.253 59.9619 598.429 Q59.9619 595.055 59.1344 591.904 Q58.3069 588.721 56.6518 585.602 L62.1899 585.602 Q63.5267 588.753 64.227 592.063 Q64.9272 595.373 64.9272 598.779 Q64.9272 607.309 59.9619 612.306 Q54.9967 617.271 46.5303 617.271 Q37.7774 617.271 32.6531 612.561 Q27.4968 607.818 27.4968 599.797 Q27.4968 592.604 32.1438 588.435 Q36.7589 584.233 44.7161 584.233 M42.9973 590.09 Q38.1912 590.153 35.3266 592.795 Q32.4621 595.405 32.4621 599.734 Q32.4621 604.635 35.2312 607.595 Q38.0002 610.524 43.0292 610.969 L42.9973 590.09 Z\" fill=\"#000000\" fill-rule=\"nonzero\" fill-opacity=\"1\" /><polyline clip-path=\"url(#clip972)\" style=\"stroke:#009af9; stroke-linecap:round; stroke-linejoin:round; stroke-width:4; stroke-opacity:1; fill:none\" points=\"323.395,86.1857 354.18,1178.05 384.965,1284.12 415.751,1320.81 446.536,1338.91 477.321,1349.54 508.106,1356.47 538.891,1361.32 569.677,1364.89 600.462,1367.61 631.247,1369.76 662.032,1371.48 692.817,1372.9 723.603,1374.08 754.388,1375.09 785.173,1375.94 815.958,1376.69 846.743,1377.33 877.529,1377.9 908.314,1378.41 939.099,1378.86 969.884,1379.26 1000.67,1379.63 1031.45,1379.96 1062.24,1380.26 1093.03,1380.53 1123.81,1380.78 1154.6,1381.01 1185.38,1381.22 1216.17,1381.42 1246.95,1381.6 1277.74,1381.77 1308.52,1381.93 1339.31,1382.08 1370.09,1382.22 1400.88,1382.35 1431.66,1382.47 1462.45,1382.58 1493.23,1382.69 1524.02,1382.79 1554.8,1382.89 1585.59,1382.98 1616.37,1383.07 1647.16,1383.15 1677.94,1383.23 1708.73,1383.3 1739.51,1383.37 1770.3,1383.44 1801.08,1383.5 1831.87,1383.56 1862.66,1383.62 1893.44,1383.68 1924.23,1383.73 1955.01,1383.79 1985.8,1383.83 2016.58,1383.88 2047.37,1383.93 2078.15,1383.97 2108.94,1384.01 2139.72,1384.06 2170.51,1384.09 2201.29,1384.13 2232.08,1384.17 2262.86,1384.2 2293.65,1384.24 \"/>\n",
       "</svg>\n"
      ]
     },
     "execution_count": 2,
     "metadata": {},
     "output_type": "execute_result"
    }
   ],
   "source": [
    "using Zygote, Plots\n",
    "\n",
    "c = 10 .* randn(8)\n",
    "objective(x) = sum((@. 3x^2 + 2x + c))\n",
    "# objective(x) = sum( (3 .* x .^ 2) .+ (2 .* x) .+ c )\n",
    "\n",
    "function gradient_descent(f, iterations::Integer, step_size, x0)\n",
    "    iterate = copy(x0)\n",
    "    history = zeros(iterations + one(iterations))\n",
    "    \n",
    "    for i in 1:iterations\n",
    "        history[i] = f(iterate)\n",
    "        \n",
    "        gradient = f'(iterate)\n",
    "        iterate .-= (step_size / i) .* gradient\n",
    "    end\n",
    "    \n",
    "    history[end] = f(iterate)\n",
    "    iterate, history\n",
    "end\n",
    "\n",
    "_, history = gradient_descent(objective, 64, 0.1, 20 .* rand(8))\n",
    "plot(history, ylabel=\"Objective\", xlabel=\"Iterations\", legend=nothing)"
   ]
  },
  {
   "cell_type": "markdown",
   "id": "5ea08bc6-28ba-42c9-b90c-d6c24648e0c0",
   "metadata": {
    "editable": true,
    "slideshow": {
     "slide_type": "slide"
    },
    "tags": []
   },
   "source": [
    "## Workflow Demonstration"
   ]
  },
  {
   "cell_type": "markdown",
   "id": "9e6557b8-9df7-4c07-8850-b1bf23ca3c54",
   "metadata": {
    "editable": true,
    "slideshow": {
     "slide_type": "slide"
    },
    "tags": []
   },
   "source": [
    "## Additional Neat Things"
   ]
  },
  {
   "cell_type": "markdown",
   "id": "f2cc4657",
   "metadata": {
    "editable": true,
    "slideshow": {
     "slide_type": "slide"
    },
    "tags": []
   },
   "source": [
    "### Functional-style programming\n",
    "\n",
    "- Julia has first-class functions"
   ]
  },
  {
   "cell_type": "code",
   "execution_count": 17,
   "id": "3a93c4ad-d28a-4423-9b4e-1ff8f4898baa",
   "metadata": {
    "editable": true,
    "slideshow": {
     "slide_type": ""
    },
    "tags": []
   },
   "outputs": [
    {
     "data": {
      "text/plain": [
       "0.8414709848078965"
      ]
     },
     "execution_count": 17,
     "metadata": {},
     "output_type": "execute_result"
    }
   ],
   "source": [
    "myfunc = sin\n",
    "myfunc(1.0)"
   ]
  },
  {
   "cell_type": "markdown",
   "id": "423854d3",
   "metadata": {
    "editable": true,
    "slideshow": {
     "slide_type": "fragment"
    },
    "tags": []
   },
   "source": [
    "This allows \"higher-order\" functions:\n",
    "\n",
    "- `sort(collection; lt=... by=...)`\n",
    "  - Allows specifying the comparison `<`\n",
    "  - Also allows a map using `by`\n",
    "  - `sort(::Vector{ComplexF32}, by=abs)`\n",
    "  - `sort(::Vector{String}, by=(s -> s[1]))`"
   ]
  },
  {
   "cell_type": "code",
   "execution_count": 3,
   "id": "79f69a89",
   "metadata": {
    "editable": true,
    "slideshow": {
     "slide_type": "subslide"
    },
    "tags": []
   },
   "outputs": [
    {
     "data": {
      "text/plain": [
       "1.0"
      ]
     },
     "execution_count": 3,
     "metadata": {},
     "output_type": "execute_result"
    }
   ],
   "source": [
    "apply(f, x...) = f(x...)\n",
    "apply(sin, π/2)"
   ]
  },
  {
   "cell_type": "markdown",
   "id": "ca0e9c5c",
   "metadata": {
    "editable": true,
    "slideshow": {
     "slide_type": "fragment"
    },
    "tags": []
   },
   "source": [
    "- `map(f, collection)` calls `f` on every element of `collection`\n",
    "  - `foreach(f, collection)` does the same, but discards the result"
   ]
  },
  {
   "cell_type": "markdown",
   "id": "97423cbf",
   "metadata": {
    "editable": true,
    "slideshow": {
     "slide_type": "fragment"
    },
    "tags": []
   },
   "source": [
    "- `reduce(op, collection)` applies `op` to the whole collection\n",
    "  - For example, `reduce(+, collection)` is the sum\n",
    "  - `reduce(*, collection)` is the product\n",
    "  - `reduce(min, collection)` finds the smallest element\n",
    "  - `foldl` and `foldr` guarantee direction"
   ]
  },
  {
   "cell_type": "markdown",
   "id": "8e84b723",
   "metadata": {
    "editable": true,
    "slideshow": {
     "slide_type": "fragment"
    },
    "tags": []
   },
   "source": [
    "- `filter(pred, collection)` keeps only the elements of `collection` which satisfy `pred`\n",
    "  - `filter((x -> x > zero(x)), collection)` keeps positive values\n",
    "  - `filter(!isone, collection)` keeps all elements which are not the multiplicative identity"
   ]
  },
  {
   "cell_type": "markdown",
   "id": "d4d21441",
   "metadata": {
    "editable": true,
    "slideshow": {
     "slide_type": "subslide"
    },
    "tags": []
   },
   "source": [
    "- Why should you care?\n",
    "  - Some problems can be expressed much more naturally"
   ]
  },
  {
   "cell_type": "code",
   "execution_count": 1,
   "id": "0c058fda",
   "metadata": {
    "editable": true,
    "slideshow": {
     "slide_type": "fragment"
    },
    "tags": []
   },
   "outputs": [
    {
     "data": {
      "text/plain": [
       "isleaf (generic function with 1 method)"
      ]
     },
     "execution_count": 1,
     "metadata": {},
     "output_type": "execute_result"
    }
   ],
   "source": [
    "import Base: map, reduce, filter\n",
    "\n",
    "struct Tree{T}\n",
    "    val::T\n",
    "    children::Vector{Tree{T}}\n",
    "end\n",
    "\n",
    "Tree(val::T) where {T} = Tree(val, Tree{T}[])\n",
    "\n",
    "val(t::Tree)      = t.val\n",
    "children(t::Tree) = t.children\n",
    "\n",
    "isleaf(t::Tree) = isempty(children(t))"
   ]
  },
  {
   "cell_type": "code",
   "execution_count": 2,
   "id": "68770f83",
   "metadata": {
    "editable": true,
    "slideshow": {
     "slide_type": "fragment"
    },
    "tags": []
   },
   "outputs": [
    {
     "data": {
      "text/plain": [
       "map (generic function with 48 methods)"
      ]
     },
     "execution_count": 2,
     "metadata": {},
     "output_type": "execute_result"
    }
   ],
   "source": [
    "_map(f) = (st -> map(f, st))\n",
    "# apply f to every node in the tree\n",
    "map(f, t::Tree) =\n",
    "    if isleaf(t)\n",
    "        Tree(f(val(t)))\n",
    "    else\n",
    "        mapped_children = map(_map(f), children(t))\n",
    "        Tree(f(val(t)), mapped_children)\n",
    "    end"
   ]
  },
  {
   "cell_type": "code",
   "execution_count": 3,
   "id": "5a96d2e7",
   "metadata": {
    "editable": true,
    "slideshow": {
     "slide_type": "fragment"
    },
    "tags": []
   },
   "outputs": [
    {
     "data": {
      "text/plain": [
       "reduce (generic function with 7 methods)"
      ]
     },
     "execution_count": 3,
     "metadata": {},
     "output_type": "execute_result"
    }
   ],
   "source": [
    "_reduce(f, init) = (st -> reduce(f, st, init))\n",
    "# accumulate f from the bottom of the tree to the top\n",
    "reduce(f, t::Tree, init) =\n",
    "    if isleaf(t)\n",
    "        f(val(t), init)\n",
    "    else\n",
    "        inner = map(_reduce(f, init), children(t))\n",
    "        f(val(t), reduce(f, inner, init=init))\n",
    "    end"
   ]
  },
  {
   "cell_type": "code",
   "execution_count": 4,
   "id": "a49e2ba2",
   "metadata": {
    "editable": true,
    "slideshow": {
     "slide_type": "fragment"
    },
    "tags": []
   },
   "outputs": [
    {
     "data": {
      "text/plain": [
       "filter (generic function with 11 methods)"
      ]
     },
     "execution_count": 4,
     "metadata": {},
     "output_type": "execute_result"
    }
   ],
   "source": [
    "# keep only subtrees whose root satisfies f, and return nothing otherwise\n",
    "filter(f, t::Tree{T}) where {T} =\n",
    "    if f(val(t))\n",
    "        inner = Tree{T}[]\n",
    "        keepnotnothing = st -> let filtered = filter(f, st)\n",
    "            if !isnothing(filtered)\n",
    "                push!(inner, filtered)\n",
    "            end\n",
    "        end\n",
    "        foreach(keepnotnothing, children(t))\n",
    "        Tree(val(t), inner)\n",
    "    else\n",
    "        nothing\n",
    "    end"
   ]
  },
  {
   "cell_type": "code",
   "execution_count": 5,
   "id": "ca2ebafe",
   "metadata": {
    "editable": true,
    "slideshow": {
     "slide_type": "fragment"
    },
    "tags": []
   },
   "outputs": [
    {
     "data": {
      "text/plain": [
       "Tree{Int64}(1, Tree{Int64}[Tree{Int64}(2, Tree{Int64}[Tree{Int64}(3, Tree{Int64}[]), Tree{Int64}(4, Tree{Int64}[]), Tree{Int64}(5, Tree{Int64}[])]), Tree{Int64}(6, Tree{Int64}[])])"
      ]
     },
     "execution_count": 5,
     "metadata": {},
     "output_type": "execute_result"
    }
   ],
   "source": [
    "t = Tree(1, [\n",
    "        Tree(2, [\n",
    "            Tree(3),\n",
    "            Tree(4),\n",
    "            Tree(5)\n",
    "        ]),\n",
    "        Tree(6)\n",
    "    ])"
   ]
  },
  {
   "cell_type": "code",
   "execution_count": 14,
   "id": "9de6998f",
   "metadata": {
    "editable": true,
    "slideshow": {
     "slide_type": "fragment"
    },
    "tags": []
   },
   "outputs": [
    {
     "name": "stdout",
     "output_type": "stream",
     "text": [
      "┳1\n",
      "┣2\n",
      "┃┣3\n",
      "┃┣4\n",
      "┃┗5\n",
      "┗6\n"
     ]
    }
   ],
   "source": [
    "prettyprint(depth::Int) = (t::Tree -> prettyprint(t, depth + 1))\n",
    "\n",
    "function prettyprint(t::Tree)\n",
    "    println(\"┳\", val(t))\n",
    "\n",
    "    is_last = Bool[]\n",
    "    for (i, child) in enumerate(children(t))\n",
    "        push!(is_last, i == length(children(t)))\n",
    "        prettyprint(child, 1, is_last)\n",
    "        pop!(is_last)\n",
    "    end\n",
    "end\n",
    "\n",
    "function prettyprint(t::Tree, depth, is_last)\n",
    "    for ancestor_is_last in @view is_last[1:end-1]\n",
    "        print(ancestor_is_last ? \" \" : \"┃\")\n",
    "    end\n",
    "    \n",
    "    if is_last[end]\n",
    "        println(\"┗\", val(t))\n",
    "    else\n",
    "        println(\"┣\", val(t))\n",
    "    end\n",
    "    \n",
    "    for (i, child) in enumerate(children(t))\n",
    "        push!(is_last, i == length(children(t)))\n",
    "        prettyprint(child, depth + 1, is_last)\n",
    "        pop!(is_last)\n",
    "    end\n",
    "end\n",
    "\n",
    "prettyprint(t)"
   ]
  },
  {
   "cell_type": "code",
   "execution_count": 9,
   "id": "58c8f37c",
   "metadata": {
    "editable": true,
    "slideshow": {
     "slide_type": "fragment"
    },
    "tags": []
   },
   "outputs": [
    {
     "data": {
      "text/plain": [
       "21"
      ]
     },
     "execution_count": 9,
     "metadata": {},
     "output_type": "execute_result"
    }
   ],
   "source": [
    "reduce(+, t, 0)"
   ]
  },
  {
   "cell_type": "code",
   "execution_count": 15,
   "id": "ec0b4b85",
   "metadata": {
    "editable": true,
    "slideshow": {
     "slide_type": "fragment"
    },
    "tags": []
   },
   "outputs": [
    {
     "name": "stdout",
     "output_type": "stream",
     "text": [
      "┳0.5\n",
      "┣1.0\n",
      "┃┣1.5\n",
      "┃┣2.0\n",
      "┃┗2.5\n",
      "┗3.0\n"
     ]
    }
   ],
   "source": [
    "map(x -> x/2, t) |> prettyprint"
   ]
  },
  {
   "cell_type": "code",
   "execution_count": 24,
   "id": "ebde6a6c",
   "metadata": {
    "editable": true,
    "slideshow": {
     "slide_type": "fragment"
    },
    "tags": []
   },
   "outputs": [
    {
     "name": "stdout",
     "output_type": "stream",
     "text": [
      "┳1\n",
      "┗2\n",
      " ┣3\n",
      " ┗4\n"
     ]
    }
   ],
   "source": [
    "filter(x -> x < 5, t) |> prettyprint"
   ]
  },
  {
   "cell_type": "code",
   "execution_count": 26,
   "id": "dbe02252-e586-4ec8-af0f-d19bc74aed6a",
   "metadata": {
    "editable": true,
    "slideshow": {
     "slide_type": ""
    },
    "tags": []
   },
   "outputs": [
    {
     "name": "stdout",
     "output_type": "stream",
     "text": [
      "┳1\n"
     ]
    }
   ],
   "source": [
    "filter(isodd, t) |> prettyprint"
   ]
  },
  {
   "cell_type": "markdown",
   "id": "49204854",
   "metadata": {
    "editable": true,
    "slideshow": {
     "slide_type": "slide"
    },
    "tags": []
   },
   "source": [
    "### Metaprogramming\n",
    "\n",
    "- Code is just a kind of data!"
   ]
  },
  {
   "cell_type": "code",
   "execution_count": 29,
   "id": "7c7958e0",
   "metadata": {
    "editable": true,
    "slideshow": {
     "slide_type": ""
    },
    "tags": []
   },
   "outputs": [
    {
     "data": {
      "text/plain": [
       "quote\n",
       "    \u001b[90m#= In[29]:2 =#\u001b[39m\n",
       "    A = rand(5)\n",
       "    \u001b[90m#= In[29]:3 =#\u001b[39m\n",
       "    A .+= randn(5)\n",
       "    \u001b[90m#= In[29]:4 =#\u001b[39m\n",
       "    sum(A)\n",
       "end"
      ]
     },
     "execution_count": 29,
     "metadata": {},
     "output_type": "execute_result"
    }
   ],
   "source": [
    "code_chunk = quote\n",
    "    A = rand(5)\n",
    "    A .+= randn(5)\n",
    "    sum(A)\n",
    "end"
   ]
  },
  {
   "cell_type": "code",
   "execution_count": 30,
   "id": "36959622",
   "metadata": {
    "editable": true,
    "slideshow": {
     "slide_type": ""
    },
    "tags": []
   },
   "outputs": [
    {
     "data": {
      "text/plain": [
       "Expr"
      ]
     },
     "execution_count": 30,
     "metadata": {},
     "output_type": "execute_result"
    }
   ],
   "source": [
    "typeof(code_chunk)"
   ]
  },
  {
   "cell_type": "code",
   "execution_count": 31,
   "id": "39ec8abf",
   "metadata": {
    "editable": true,
    "slideshow": {
     "slide_type": "fragment"
    },
    "tags": []
   },
   "outputs": [
    {
     "name": "stdout",
     "output_type": "stream",
     "text": [
      "Expr\n",
      "  head: Symbol block\n",
      "  args: Array{Any}((6,))\n",
      "    1: LineNumberNode\n",
      "      line: Int64 2\n",
      "      file: Symbol In[29]\n",
      "    2: Expr\n",
      "      head: Symbol =\n",
      "      args: Array{Any}((2,))\n",
      "        1: Symbol A\n",
      "        2: Expr\n",
      "          head: Symbol call\n",
      "          args: Array{Any}((2,))\n",
      "            1: Symbol rand\n",
      "            2: Int64 5\n",
      "    3: LineNumberNode\n",
      "      line: Int64 3\n",
      "      file: Symbol In[29]\n",
      "    4: Expr\n",
      "      head: Symbol .+=\n",
      "      args: Array{Any}((2,))\n",
      "        1: Symbol A\n",
      "        2: Expr\n",
      "          head: Symbol call\n",
      "          args: Array{Any}((2,))\n",
      "            1: Symbol randn\n",
      "            2: Int64 5\n",
      "    5: LineNumberNode\n",
      "      line: Int64 4\n",
      "      file: Symbol In[29]\n",
      "    6: Expr\n",
      "      head: Symbol call\n",
      "      args: Array{Any}((2,))\n",
      "        1: Symbol sum\n",
      "        2: Symbol A\n"
     ]
    }
   ],
   "source": [
    "dump(code_chunk)"
   ]
  },
  {
   "cell_type": "code",
   "execution_count": 32,
   "id": "697e7f1d",
   "metadata": {
    "editable": true,
    "slideshow": {
     "slide_type": "fragment"
    },
    "tags": []
   },
   "outputs": [
    {
     "name": "stdout",
     "output_type": "stream",
     "text": [
      "(:block,\n",
      "  :(\u001b[90m#= In[29]:2 =#\u001b[39m),\n",
      "  (:(=), :A, (:call, :rand, 5)),\n",
      "  :(\u001b[90m#= In[29]:3 =#\u001b[39m),\n",
      "  (:.+=, :A, (:call, :randn, 5)),\n",
      "  :(\u001b[90m#= In[29]:4 =#\u001b[39m),\n",
      "  (:call, :sum, :A)\n",
      ")"
     ]
    }
   ],
   "source": [
    "Meta.show_sexpr(code_chunk)"
   ]
  },
  {
   "cell_type": "code",
   "execution_count": 33,
   "id": "902286ad",
   "metadata": {
    "editable": true,
    "slideshow": {
     "slide_type": "fragment"
    },
    "tags": []
   },
   "outputs": [
    {
     "name": "stdout",
     "output_type": "stream",
     "text": [
      "(:call, :+, 1, 1)"
     ]
    }
   ],
   "source": [
    "Meta.show_sexpr(Meta.parse(\"1 + 1\"))"
   ]
  },
  {
   "cell_type": "code",
   "execution_count": 34,
   "id": "460cc541",
   "metadata": {
    "editable": true,
    "slideshow": {
     "slide_type": "fragment"
    },
    "tags": []
   },
   "outputs": [
    {
     "name": "stdout",
     "output_type": "stream",
     "text": [
      "Here\n",
      "Hello, world\n",
      "Hello, world\n",
      "After\n"
     ]
    }
   ],
   "source": [
    "macro runtwice(call)\n",
    "    quote\n",
    "        $call\n",
    "        $call\n",
    "    end\n",
    "end\n",
    "\n",
    "println(\"Here\")\n",
    "@runtwice println(\"Hello, world\")\n",
    "println(\"After\")"
   ]
  },
  {
   "cell_type": "code",
   "execution_count": 35,
   "id": "cf18a09b",
   "metadata": {
    "editable": true,
    "scrolled": true,
    "slideshow": {
     "slide_type": "fragment"
    },
    "tags": []
   },
   "outputs": [
    {
     "data": {
      "text/plain": [
       "quote\n",
       "    \u001b[90m#= In[35]:19 =#\u001b[39m\n",
       "    begin\n",
       "        \u001b[90m#= In[35]:7 =#\u001b[39m\n",
       "        if Main.sqrt(2) == 1.4\n",
       "            \u001b[90m#= In[35]:8 =#\u001b[39m\n",
       "            Main.nothing\n",
       "        else\n",
       "            \u001b[90m#= In[35]:10 =#\u001b[39m\n",
       "            Main.throw(Main.AssertionError(Main.str))\n",
       "        end\n",
       "    end\n",
       "end"
      ]
     },
     "execution_count": 35,
     "metadata": {},
     "output_type": "execute_result"
    }
   ],
   "source": [
    "const DEBUG = true\n",
    "\n",
    "macro myassert(expression::Expr)\n",
    "    str = string(expression)\n",
    "    if DEBUG\n",
    "        quote\n",
    "            if $expression\n",
    "                nothing\n",
    "            else\n",
    "                throw(AssertionError(str))\n",
    "            end\n",
    "        end\n",
    "    else\n",
    "        quote end\n",
    "    end\n",
    "end\n",
    "\n",
    "@myassert 1 == 1\n",
    "macroexpand(Main, quote @myassert sqrt(2) == 1.4 end)"
   ]
  }
 ],
 "metadata": {
  "kernelspec": {
   "display_name": "Julia 1.10.5",
   "language": "julia",
   "name": "julia-1.10"
  },
  "language_info": {
   "file_extension": ".jl",
   "mimetype": "application/julia",
   "name": "julia",
   "version": "1.10.5"
  }
 },
 "nbformat": 4,
 "nbformat_minor": 5
}
